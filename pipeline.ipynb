{
  "nbformat": 4,
  "nbformat_minor": 0,
  "metadata": {
    "colab": {
      "name": "pipeline.ipynb",
      "provenance": [],
      "authorship_tag": "ABX9TyOhWr1/0wnsB/p3DZO1VNvI",
      "include_colab_link": true
    },
    "kernelspec": {
      "name": "python3",
      "display_name": "Python 3"
    },
    "language_info": {
      "name": "python"
    }
  },
  "cells": [
    {
      "cell_type": "markdown",
      "metadata": {
        "id": "view-in-github",
        "colab_type": "text"
      },
      "source": [
        "<a href=\"https://colab.research.google.com/github/ggarciabas/ml_engineer/blob/dspipe/pipeline.ipynb\" target=\"_parent\"><img src=\"https://colab.research.google.com/assets/colab-badge.svg\" alt=\"Open In Colab\"/></a>"
      ]
    },
    {
      "cell_type": "markdown",
      "source": [
        "# Pipeline Fraude\n",
        "\n",
        "- [sklearn pipes](https://scikit-learn.org/stable/modules/generated/sklearn.pipeline.Pipeline.html)"
      ],
      "metadata": {
        "id": "wsquQu6oiOyg"
      }
    },
    {
      "cell_type": "markdown",
      "source": [
        "## Leitura dos dados e isolamento (treino, teste e validação)"
      ],
      "metadata": {
        "id": "IX-g-lhGjsDh"
      }
    },
    {
      "cell_type": "markdown",
      "source": [
        "### Funções"
      ],
      "metadata": {
        "id": "9xTBpNNCj7nZ"
      }
    },
    {
      "cell_type": "code",
      "source": [
        "def plot_fraudes_data (pdM, start=None, end=None)->tuple:\n",
        "  pdf = pdM.copy()\n",
        "  if start != None:\n",
        "    pdf = pdf[(pdf['fecha_d']>=start)&(pdf['fecha_d']<=end)]\n",
        "  pdf = pdf[['fecha_d', 'fraude','a']].groupby(['fecha_d', 'fraude']).count().reset_index()\n",
        "  pdf = pdf.pivot(index=\"fecha_d\", columns=[\"fraude\"], values=\"a\")\n",
        "  print (f\"Fraude {pdf[1].mean()} avg.\\tGenuine: {pdf[0].mean()} avg.\")\n",
        "  pdf.plot()\n",
        "  return pdf[1].sum(),pdf[0].sum()"
      ],
      "metadata": {
        "id": "GQXilsqXj7Iq"
      },
      "execution_count": 1,
      "outputs": []
    },
    {
      "cell_type": "markdown",
      "source": [
        "### Leitura dos dados"
      ],
      "metadata": {
        "id": "5mgwWBzHkWTP"
      }
    },
    {
      "cell_type": "code",
      "source": [
        "import pandas as pd\n",
        "# Cria Dataframe inicial\n",
        "url='https://drive.google.com/file/d/1dRDvoSOtdtsgOG65UVKLTBlzejg_cX4P/view?usp=sharing' \n",
        "url2='https://drive.google.com/uc?export=download&id=' + url.split('/')[-2]\n",
        "# https://stackoverflow.com/questions/56611698/pandas-how-to-read-csv-file-from-google-drive-public\n",
        "pd_dados = pd.read_csv(url2)"
      ],
      "metadata": {
        "id": "BKoPbV46kI7J"
      },
      "execution_count": 2,
      "outputs": []
    },
    {
      "cell_type": "code",
      "source": [
        "# Filtra data sem hora\n",
        "pd_dados['fecha_d'] = pd_dados['fecha'].apply(lambda x: x[:10])"
      ],
      "metadata": {
        "id": "GUo3KFGskUs8"
      },
      "execution_count": 3,
      "outputs": []
    },
    {
      "cell_type": "code",
      "source": [
        "pd_dados['fecha'] = pd.to_datetime(pd_dados['fecha'])\n",
        "pd_dados['fecha_d'] = pd.to_datetime(pd_dados['fecha_d'])"
      ],
      "metadata": {
        "id": "l5DO9b0dm6H1"
      },
      "execution_count": 4,
      "outputs": []
    },
    {
      "cell_type": "markdown",
      "source": [
        "### Feature store\n",
        "\n",
        "Conhecimento de risco para categoria do produto e país.\n",
        "\n",
        "Informação que precisa ser conhecida de tempos em tempos."
      ],
      "metadata": {
        "id": "I0WdQuIV0LtX"
      }
    },
    {
      "cell_type": "code",
      "source": [
        "import math\n",
        "def calc_risk (pdf, feat, delay=7, janelas=[1,7]):\n",
        "    \"\"\"\n",
        "      Calcula o risco de fraude para feature\n",
        "      pdf: dataframe com filtro feature a ser avaliada\n",
        "      delay: prazo de identificação da fraude\n",
        "      janelas: janelas de análise, como temos poucos dados faremos de 1 em 1 dia e de 7 em 7\n",
        "    \"\"\"\n",
        "    pdf = pdf.sort_values('fecha_d')\n",
        "    pdf = pdf.set_index('fecha_d')\n",
        "    # quantidade de transações fraudulentas + contagem de transações --> no período de delay \n",
        "    fraudes = pdf['fraude'].rolling(f'{delay}d').sum()\n",
        "    trxS = pdf['fraude'].rolling(f'{delay}d').count()\n",
        "    for janela in janelas:\n",
        "      fraudeJ = pdf['fraude'].rolling(f'{delay+janela}d').sum() \n",
        "      trxJ = pdf['fraude'].rolling(f'{delay+janela}d').count() \n",
        "      riskJ=(fraudeJ-fraudes)/(trxJ-trxS)\n",
        "      riskJ = [0 if math.isnan(x) else x for x in riskJ]\n",
        "      pdf[f'{feat}_trx_{janela}'] = list((trxJ-trxS))\n",
        "      pdf[f'{feat}_risk_{janela}'] = list(riskJ)\n",
        "    pdf = pdf.reset_index()\n",
        "    return pdf"
      ],
      "metadata": {
        "id": "668S0BOi0Kk5"
      },
      "execution_count": 5,
      "outputs": []
    },
    {
      "cell_type": "code",
      "source": [
        "# feature_store = pd_dados.copy()\n",
        "# feature_store = feature_store.groupby('j').apply(lambda x: calc_risk(x, 'j')).sort_values('fecha_d').reset_index(drop=True)\n",
        "# feature_store = feature_store.groupby('g').apply(lambda x: calc_risk(x, 'g')).sort_values('fecha_d').reset_index(drop=True)"
      ],
      "metadata": {
        "id": "dR-8Ulsc0rK1"
      },
      "execution_count": 6,
      "outputs": []
    },
    {
      "cell_type": "code",
      "source": [
        "# feature_store[['fecha_d', 'g', 'g_trx_1', 'g_risk_1', 'g_trx_7', 'g_risk_7']].drop_duplicates().reset_index().to_csv('feature_store_g.csv', index=False)"
      ],
      "metadata": {
        "id": "fWjmkSBoCcrT"
      },
      "execution_count": 7,
      "outputs": []
    },
    {
      "cell_type": "code",
      "source": [
        "# feature_store[['fecha_d', 'j', 'j_trx_1', 'j_risk_1', 'j_trx_7', 'j_risk_7']].drop_duplicates().reset_index().to_csv('feature_store_j.csv', index=False)"
      ],
      "metadata": {
        "id": "Rp4OE4roC0KC"
      },
      "execution_count": 8,
      "outputs": []
    },
    {
      "cell_type": "markdown",
      "source": [
        "### Divide dados\n",
        "\n",
        "- Treino: `2020-03-22` até `2020-03-28`\n",
        "- Delay: `2020-03-29` até `2020-04-04`\n",
        "- Teste: `2020-04-05` até `2020-04-11`"
      ],
      "metadata": {
        "id": "h_DO58q6kFQN"
      }
    },
    {
      "cell_type": "code",
      "source": [
        "# Treino\n",
        "dataTrain1 = {'start':'2020-03-22', 'end':'2020-03-28'}\n",
        "pdfTrain1 = pd_dados.copy()\n",
        "pdfTrain1 = pdfTrain1[(pdfTrain1['fecha_d']>=dataTrain1['start'])\n",
        "                      &(pdfTrain1['fecha_d']<=dataTrain1['end'])]\n",
        "print (pdfTrain1.shape)\n",
        "fraude,genuine = plot_fraudes_data(pd_dados, dataTrain1['start'], dataTrain1['end'])\n",
        "print (f\"Fraude: {fraude} ({fraude/pdfTrain1.shape[0]})\\tGenuine: {genuine} ({genuine/pdfTrain1.shape[0]})\")"
      ],
      "metadata": {
        "id": "1h8fpLM1jrb1",
        "outputId": "3b292569-57f2-4664-f66f-26dbfa30f1e8",
        "colab": {
          "base_uri": "https://localhost:8080/",
          "height": 105
        }
      },
      "execution_count": 5,
      "outputs": [
        {
          "output_type": "stream",
          "name": "stdout",
          "text": [
            "(20935, 21)\n",
            "Fraude 163.42857142857142 avg.\tGenuine: 2827.285714285714 avg.\n",
            "Fraude: 1144 (0.054645330785765465)\tGenuine: 19791 (0.9453546692142345)\n"
          ]
        },
        {
          "output_type": "display_data",
          "data": {
            "image/png": "[encoded data removed]",
            "text/plain": [
              "<Figure size 432x288 with 1 Axes>"
            ]
          },
          "metadata": {
            "needs_background": "light"
          }
        }
      ]
    },
    {
      "cell_type": "code",
      "source": [
        "# Delay\n",
        "dataDelay1 = {'start':'2020-03-29', 'end':'2020-04-04'}\n",
        "plot_fraudes_data(pd_dados, dataDelay1['start'], dataDelay1['end'])"
      ],
      "metadata": {
        "id": "reDlcxZ6j2Tf",
        "outputId": "e9ab1b3e-5ffa-4cff-e036-388f5baa9712",
        "colab": {
          "base_uri": "https://localhost:8080/",
          "height": 88
        }
      },
      "execution_count": 6,
      "outputs": [
        {
          "output_type": "stream",
          "name": "stdout",
          "text": [
            "Fraude 142.71428571428572 avg.\tGenuine: 2257.285714285714 avg.\n"
          ]
        },
        {
          "output_type": "execute_result",
          "data": {
            "text/plain": [
              "(999, 15801)"
            ]
          },
          "metadata": {},
          "execution_count": 6
        },
        {
          "output_type": "display_data",
          "data": {
            "image/png": "[encoded data removed]",
            "text/plain": [
              "<Figure size 432x288 with 1 Axes>"
            ]
          },
          "metadata": {
            "needs_background": "light"
          }
        }
      ]
    },
    {
      "cell_type": "code",
      "source": [
        "# Teste\n",
        "dataTest1 = {'start':'2020-04-05', 'end':'2020-04-11'}\n",
        "pdfTest1 = pd_dados.copy()\n",
        "pdfTest1 = pdfTest1[(pdfTest1['fecha_d']>=dataTest1['start'])\n",
        "                      &(pdfTest1['fecha_d']<=dataTest1['end'])]\n",
        "print (pdfTest1.shape)\n",
        "fraude,genuine = plot_fraudes_data(pd_dados, dataTest1['start'], dataTest1['end'])\n",
        "print (f\"Fraude: {fraude} ({fraude/pdfTest1.shape[0]})\\tGenuine: {genuine} ({genuine/pdfTest1.shape[0]})\")"
      ],
      "metadata": {
        "id": "LfW_nHoTj0iy",
        "outputId": "28480cbd-17fe-4bbb-83fd-b5a24636a60f",
        "colab": {
          "base_uri": "https://localhost:8080/",
          "height": 105
        }
      },
      "execution_count": 7,
      "outputs": [
        {
          "output_type": "stream",
          "name": "stdout",
          "text": [
            "(24098, 21)\n",
            "Fraude 188.0 avg.\tGenuine: 3254.5714285714284 avg.\n",
            "Fraude: 1316 (0.05461034110714582)\tGenuine: 22782 (0.9453896588928542)\n"
          ]
        },
        {
          "output_type": "display_data",
          "data": {
            "image/png": "[encoded data removed]",
            "text/plain": [
              "<Figure size 432x288 with 1 Axes>"
            ]
          },
          "metadata": {
            "needs_background": "light"
          }
        }
      ]
    },
    {
      "cell_type": "markdown",
      "source": [
        "## Classes"
      ],
      "metadata": {
        "id": "5Gw1jaZGiU-f"
      }
    },
    {
      "cell_type": "code",
      "source": [
        "from sklearn.base import BaseEstimator, TransformerMixin"
      ],
      "metadata": {
        "id": "MMr0RHfhmIbN"
      },
      "execution_count": 8,
      "outputs": []
    },
    {
      "cell_type": "code",
      "source": [
        "## Transformer para Risco de classes\n",
        "import math\n",
        "class RiskTransformer(BaseEstimator, TransformerMixin):\n",
        "  \"\"\"\n",
        "    Calcula do risco para feature consultando na feature store\n",
        "  \"\"\"\n",
        "  def __init__(self, feature_name, feat_store):\n",
        "    self.feature_name = feature_name\n",
        "    self.feat_store = feat_store\n",
        "\n",
        "  def fit(self, X, y = None):\n",
        "    return self\n",
        "\n",
        "  def transform(self, X, y = None):    \n",
        "    X_ = X.copy()\n",
        "    X_ = X_.merge(self.feat_store, on=['fecha_d', self.feature_name], how='left')\n",
        "    return X_"
      ],
      "metadata": {
        "id": "MvifD6VamA2_"
      },
      "execution_count": 9,
      "outputs": []
    },
    {
      "cell_type": "code",
      "source": [
        "# Transformer para identificar final de semana\n",
        "class IsWeekendTransformer(BaseEstimator, TransformerMixin):\n",
        "  \"\"\"\n",
        "    Identifica se a operação ocorreu no final de semana\n",
        "  \"\"\"\n",
        "  def __init__(self, feature_date):\n",
        "    self.feature_date = feature_date\n",
        "\n",
        "  def fit(self, X, y = None):\n",
        "    return self\n",
        "\n",
        "  def transform(self, X, y = None):    \n",
        "    X_ = X.copy()\n",
        "    X_['is_weekend'] = X_[self.feature_date].apply(lambda x: 1 if x.weekday()>=5 else 0)\n",
        "    return X_"
      ],
      "metadata": {
        "id": "Z5NXMSGW9mfx"
      },
      "execution_count": 10,
      "outputs": []
    },
    {
      "cell_type": "code",
      "source": [
        "# Transformer para identificar operação noturna\n",
        "class IsNinghtTransformer(BaseEstimator, TransformerMixin):\n",
        "  \"\"\"\n",
        "    Identifica se a operação ocorreu durante a noite\n",
        "  \"\"\"\n",
        "  def __init__(self, feature_date):\n",
        "    self.feature_date = feature_date\n",
        "\n",
        "  def fit(self, X, y = None):\n",
        "    return self\n",
        "\n",
        "  def transform(self, X, y = None):    \n",
        "    X_ = X.copy()\n",
        "    X_['is_night'] = X_[self.feature_date].apply(lambda x: 1 if x.hour<=6 or x.hour>=18 else 0)\n",
        "    return X_"
      ],
      "metadata": {
        "id": "Lba0351cEihB"
      },
      "execution_count": 11,
      "outputs": []
    },
    {
      "cell_type": "code",
      "source": [
        "# Transformer para identificar se valor é nulo ou não\n",
        "class IsNullTransformer(BaseEstimator, TransformerMixin):\n",
        "  \"\"\"\n",
        "    Identifica se o valor é nulo ou não\n",
        "  \"\"\"\n",
        "  def __init__(self, feature_name):\n",
        "    self.feature_name = feature_name\n",
        "\n",
        "  def fit(self, X, y = None):\n",
        "    return self\n",
        "\n",
        "  def transform(self, X, y = None):    \n",
        "    X_ = X.copy()\n",
        "    X_[f'is_{self.feature_name}_null'] = X_[self.feature_name].isna()\n",
        "    X_[f'is_{self.feature_name}_null'] = X_[f'is_{self.feature_name}_null'].apply(lambda x: 1 if x else 0)\n",
        "    return X_"
      ],
      "metadata": {
        "id": "Eh89pVlzEyuM"
      },
      "execution_count": 12,
      "outputs": []
    },
    {
      "cell_type": "code",
      "source": [
        "# Transformer para identificar se valor Y ou N\n",
        "class YNTransformer(BaseEstimator, TransformerMixin):\n",
        "  \"\"\"\n",
        "    Identifica se o valor é verdadeiro ou falso (Y/N)\n",
        "  \"\"\"\n",
        "  def __init__(self, feature_name):\n",
        "    self.feature_name = feature_name\n",
        "\n",
        "  def fit(self, X, y = None):\n",
        "    return self\n",
        "\n",
        "  def transform(self, X, y = None):    \n",
        "    X_ = X.copy()\n",
        "    X_[f'is_{self.feature_name}'] = X_[self.feature_name].apply(lambda x: 1 if x=='Y' else 0)\n",
        "    return X_"
      ],
      "metadata": {
        "id": "7PHgGrgMGCYb"
      },
      "execution_count": 13,
      "outputs": []
    },
    {
      "cell_type": "code",
      "source": [
        "# Transformer para selecionar colunas de interesse\n",
        "class SelectColumnsTransformer(BaseEstimator, TransformerMixin):\n",
        "  \"\"\"\n",
        "    Seleciona as colunas indicadas\n",
        "  \"\"\"\n",
        "  def __init__(self, features):\n",
        "    self.features = features\n",
        "\n",
        "  def fit(self, X, y = None):\n",
        "    return self\n",
        "\n",
        "  def transform(self, X, y = None):    \n",
        "    X_ = X.copy()\n",
        "    return X_[self.features]"
      ],
      "metadata": {
        "id": "uTHqYGu0LUQg"
      },
      "execution_count": 14,
      "outputs": []
    },
    {
      "cell_type": "code",
      "source": [
        "# Transformer para definir média para colunas com nulos\n",
        "class MeanTransformer(BaseEstimator, TransformerMixin):\n",
        "  \"\"\"\n",
        "    Define valor médio para colunas com valores nulos\n",
        "  \"\"\"\n",
        "  def __init__(self):\n",
        "    pass\n",
        "\n",
        "  def fit(self, X, y = None):\n",
        "    return self\n",
        "\n",
        "  def transform(self, X, y = None):    \n",
        "    X_ = X.copy()\n",
        "    return X_.fillna(X_.mean())"
      ],
      "metadata": {
        "id": "eXGVKjmkYc8Q"
      },
      "execution_count": 68,
      "outputs": []
    },
    {
      "cell_type": "code",
      "source": [
        "# Transformer para processar os dados\n",
        "class ManualTransformer(BaseEstimator, TransformerMixin):\n",
        "  \"\"\"\n",
        "    Processa as colunas do DF seguindo:\n",
        "    - Cálculo de risco da coluna g e j\n",
        "    - Identifica se a operação ocorreu no final de semana\n",
        "    - Identifica se a operação ocorreu durante a noite\n",
        "    - Identifica se a coluna o é nula ou não\n",
        "    - Identifica se a coluna p é verdadeira ou falsa\n",
        "  \"\"\"\n",
        "  def __init__(self, feat_store_g, feat_store_j, features):\n",
        "    self.pipe_preproc = Pipeline([('risk_g', RiskTransformer(feature_name='g', feat_store=feat_store_g)), \n",
        "                                    ('risk_j', RiskTransformer(feature_name='j', feat_store=feat_store_j)), \n",
        "                                    ('is_weekend', IsWeekendTransformer(feature_date='fecha')), \n",
        "                                    ('is_night', IsNinghtTransformer(feature_date='fecha')), \n",
        "                                    ('is_o_null', IsNullTransformer(feature_name='o')), \n",
        "                                    ('is_p', YNTransformer(feature_name='p')),\n",
        "                                    ('selector', SelectColumnsTransformer(features=features)),\n",
        "                                    ('mean', MeanTransformer())\n",
        "                                  ])\n",
        "\n",
        "  def fit(self, X, y = None):    \n",
        "    return self\n",
        "\n",
        "  def transform(self, X, y = None):    \n",
        "    X_ = X.copy()\n",
        "    return self.pipe_preproc.fit_transform(X_)"
      ],
      "metadata": {
        "id": "0vO2gISMIlcl"
      },
      "execution_count": 69,
      "outputs": []
    },
    {
      "cell_type": "markdown",
      "source": [
        "## Pipelines\n",
        "\n",
        "https://scikit-learn.org/stable/modules/model_evaluation.html"
      ],
      "metadata": {
        "id": "VOSh8yTjiy7p"
      }
    },
    {
      "cell_type": "code",
      "source": [
        "from sklearn.pipeline import Pipeline\n",
        "from sklearn.tree import DecisionTreeClassifier, export_graphviz\n",
        "from sklearn.linear_model import LogisticRegression\n",
        "from sklearn.ensemble import RandomForestClassifier\n",
        "from sklearn.metrics import confusion_matrix\n",
        "from sklearn.metrics import classification_report\n",
        "from sklearn.model_selection import GridSearchCV, RandomizedSearchCV\n",
        "import graphviz"
      ],
      "metadata": {
        "id": "E0uBN-9vEYdc"
      },
      "execution_count": 132,
      "outputs": []
    },
    {
      "cell_type": "code",
      "source": [
        "def avalia_desempenho (pipe):\n",
        "  print (\"Treino\")\n",
        "  pred_treino = pipe.predict(pdfTrain1)\n",
        "  print (confusion_matrix(pred_treino, pdfTrain1[target], labels=[1,0]))\n",
        "  print (classification_report(pred_treino, pdfTrain1[target], labels=[1,0]))\n",
        "\n",
        "  print ('Teste')\n",
        "  pred_teste = pipe.predict(pdfTest1)\n",
        "  print (confusion_matrix(pred_teste, pdfTest1[target], labels=[1,0]))\n",
        "  print (classification_report(pred_teste, pdfTest1[target], labels=[1,0]))"
      ],
      "metadata": {
        "id": "ZHpeHWXOsOS2"
      },
      "execution_count": 150,
      "outputs": []
    },
    {
      "cell_type": "code",
      "source": [
        "# Carrega a feature store\n",
        "feat_store_j = pd.read_csv('feature_store_j.csv')\n",
        "feat_store_j['fecha_d'] = pd.to_datetime(feat_store_j['fecha_d'])\n",
        "\n",
        "feat_store_g = pd.read_csv('feature_store_g.csv')\n",
        "feat_store_g['fecha_d'] = pd.to_datetime(feat_store_g['fecha_d'])"
      ],
      "metadata": {
        "id": "Rui8rDlZ_gZV"
      },
      "execution_count": 17,
      "outputs": []
    },
    {
      "cell_type": "code",
      "source": [
        "# Variáveis\n",
        "target = 'fraude'\n",
        "\n",
        "features = ['a', 'b', 'c', 'd', 'e', 'f', 'h', 'k', 'l', 'm', 'n',\n",
        "          'monto', 'g_trx_1', 'g_risk_1', 'g_trx_7', 'g_risk_7', 'j_trx_1',\n",
        "          'j_risk_1', 'j_trx_7', 'j_risk_7', 'is_weekend', 'is_night',\n",
        "          'is_o_null', 'is_p']"
      ],
      "metadata": {
        "id": "_y-_j2ewGY-i"
      },
      "execution_count": 90,
      "outputs": []
    },
    {
      "cell_type": "code",
      "source": [
        "# {'Logistic regression': {'modelo':sklearn.linear_model.LogisticRegression(random_state=42)},\n",
        "#             'Decision tree baseline': {'modelo': sklearn.tree.DecisionTreeClassifier(max_depth=2,random_state=42)},\n",
        "#             'Decision tree - auto depth': {'modelo':sklearn.tree.DecisionTreeClassifier(random_state=42)}, \n",
        "#             #'Random forest': {'modelo':sklearn.ensemble.RandomForestClassifier(random_state=42,n_jobs=-1)},"
      ],
      "metadata": {
        "id": "ENo4TCnDUDeY"
      },
      "execution_count": null,
      "outputs": []
    },
    {
      "cell_type": "markdown",
      "source": [
        "### Score atual"
      ],
      "metadata": {
        "id": "u10kE-58g6XM"
      }
    },
    {
      "cell_type": "code",
      "source": [
        "print (\"Treino\")\n",
        "score_train1 = pdfTrain1['score'].apply(lambda x: 0 if x<86 else 1) # corte do lucro máximo\n",
        "print (confusion_matrix(score_train1, pdfTrain1[target], labels=[1,0]))\n",
        "print(classification_report(score_train1, pdfTrain1[target], labels=[1,0]))\n",
        "\n",
        "print (\"Teste\")\n",
        "score_test1 = pdfTest1['score'].apply(lambda x: 0 if x<86 else 1) # corte do lucro máximo\n",
        "print (confusion_matrix(score_test1, pdfTest1[target], labels=[1,0]))\n",
        "print(classification_report(score_test1, pdfTest1[target], labels=[1,0]))"
      ],
      "metadata": {
        "colab": {
          "base_uri": "https://localhost:8080/"
        },
        "id": "HtrQPd1ng8sJ",
        "outputId": "04b9f9d0-7ee4-49d5-de26-882e5993cda5"
      },
      "execution_count": 149,
      "outputs": [
        {
          "output_type": "stream",
          "name": "stdout",
          "text": [
            "Treino\n",
            "[[  593  2935]\n",
            " [  551 16856]]\n",
            "              precision    recall  f1-score   support\n",
            "\n",
            "           1       0.52      0.17      0.25      3528\n",
            "           0       0.85      0.97      0.91     17407\n",
            "\n",
            "    accuracy                           0.83     20935\n",
            "   macro avg       0.69      0.57      0.58     20935\n",
            "weighted avg       0.80      0.83      0.80     20935\n",
            "\n",
            "Teste\n",
            "[[  619  1440]\n",
            " [  697 21342]]\n",
            "              precision    recall  f1-score   support\n",
            "\n",
            "           1       0.47      0.30      0.37      2059\n",
            "           0       0.94      0.97      0.95     22039\n",
            "\n",
            "    accuracy                           0.91     24098\n",
            "   macro avg       0.70      0.63      0.66     24098\n",
            "weighted avg       0.90      0.91      0.90     24098\n",
            "\n"
          ]
        }
      ]
    },
    {
      "cell_type": "markdown",
      "source": [
        "### Decision Tree\n",
        "\n",
        "https://scikit-learn.org/stable/modules/generated/sklearn.tree.DecisionTreeClassifier.html\n"
      ],
      "metadata": {
        "id": "zM-5RY2FT7VF"
      }
    },
    {
      "cell_type": "markdown",
      "source": [
        "#### Baseline"
      ],
      "metadata": {
        "id": "D2xbtDU8snyy"
      }
    },
    {
      "cell_type": "code",
      "source": [
        "pipe_dt_bsl = Pipeline([('preprocess', ManualTransformer(feat_store_j=feat_store_j, feat_store_g=feat_store_g, features=features)),\n",
        "                        # ('scaler', StandardScaler()),\n",
        "                        ('dt baseline', DecisionTreeClassifier(random_state=42))\n",
        "                    ])\n",
        "pipe_dt_bsl = pipe_dt_bsl.fit(pdfTrain1, pdfTrain1[target])\n",
        "\n",
        "avalia_desempenho (pipe_dt_bsl)"
      ],
      "metadata": {
        "colab": {
          "base_uri": "https://localhost:8080/"
        },
        "id": "i8q9OxwfgTv6",
        "outputId": "f5bf2fb7-a4ae-4b3b-f2de-cb83a3e479ea"
      },
      "execution_count": 151,
      "outputs": [
        {
          "output_type": "stream",
          "name": "stdout",
          "text": [
            "Treino\n",
            "[[ 1144     0]\n",
            " [    0 19791]]\n",
            "              precision    recall  f1-score   support\n",
            "\n",
            "           1       1.00      1.00      1.00      1144\n",
            "           0       1.00      1.00      1.00     19791\n",
            "\n",
            "    accuracy                           1.00     20935\n",
            "   macro avg       1.00      1.00      1.00     20935\n",
            "weighted avg       1.00      1.00      1.00     20935\n",
            "\n",
            "Teste\n",
            "[[  333  1592]\n",
            " [  983 21190]]\n",
            "              precision    recall  f1-score   support\n",
            "\n",
            "           1       0.25      0.17      0.21      1925\n",
            "           0       0.93      0.96      0.94     22173\n",
            "\n",
            "    accuracy                           0.89     24098\n",
            "   macro avg       0.59      0.56      0.57     24098\n",
            "weighted avg       0.88      0.89      0.88     24098\n",
            "\n"
          ]
        }
      ]
    },
    {
      "cell_type": "code",
      "source": [
        "# display(graphviz.Source(export_graphviz(pipe_dt_bsl['dt baseline'], feature_names=features, class_names=True, filled=True)))"
      ],
      "metadata": {
        "id": "XdYr4Rc_hcIg"
      },
      "execution_count": 125,
      "outputs": []
    },
    {
      "cell_type": "markdown",
      "source": [
        "#### Random Search"
      ],
      "metadata": {
        "id": "QfFkSY4gsrvX"
      }
    },
    {
      "cell_type": "code",
      "source": [
        "param_dist = {\n",
        "    \"max_depth\": range(2,20,2),\n",
        "    \"min_samples_split\": [2, 10, 50, 100, 200],\n",
        "    \"min_samples_leaf\": [1, 10, 50, 100, 200],\n",
        "    \"max_features\": ['auto', 'sqrt', 'log2'],\n",
        "    'class_weight': [{0:0.1, 1:1}]\n",
        "}"
      ],
      "metadata": {
        "id": "h6jjNktolWiD"
      },
      "execution_count": 146,
      "outputs": []
    },
    {
      "cell_type": "code",
      "source": [
        "pipe_dt_Rnd = Pipeline([('preprocess', ManualTransformer(feat_store_j=feat_store_j, feat_store_g=feat_store_g, features=features)),\n",
        "                        # ('scaler', StandardScaler()),\n",
        "                        ('DT random', RandomizedSearchCV(DecisionTreeClassifier(random_state=42), \n",
        "                                                          param_distributions=param_dist, \n",
        "                                                          n_iter=20,\n",
        "                                                          scoring='f1',\n",
        "                                                          cv = 10,\n",
        "                                                          random_state=42\n",
        "                                                        ))\n",
        "                    ])\n",
        "pipe_dt_Rnd = pipe_dt_Rnd.fit(pdfTrain1, pdfTrain1[target])\n",
        "avalia_desempenho (pipe_dt_Rnd)"
      ],
      "metadata": {
        "id": "f6BLWcQClY-f",
        "outputId": "fc228217-63cc-4b03-ca9b-2353a8092ef8",
        "colab": {
          "base_uri": "https://localhost:8080/"
        }
      },
      "execution_count": 154,
      "outputs": [
        {
          "output_type": "stream",
          "name": "stdout",
          "text": [
            "Treino\n",
            "[[  722  2452]\n",
            " [  422 17339]]\n",
            "              precision    recall  f1-score   support\n",
            "\n",
            "           1       0.63      0.23      0.33      3174\n",
            "           0       0.88      0.98      0.92     17761\n",
            "\n",
            "    accuracy                           0.86     20935\n",
            "   macro avg       0.75      0.60      0.63     20935\n",
            "weighted avg       0.84      0.86      0.83     20935\n",
            "\n",
            "Teste\n",
            "[[  592  2809]\n",
            " [  724 19973]]\n",
            "              precision    recall  f1-score   support\n",
            "\n",
            "           1       0.45      0.17      0.25      3401\n",
            "           0       0.88      0.97      0.92     20697\n",
            "\n",
            "    accuracy                           0.85     24098\n",
            "   macro avg       0.66      0.57      0.58     24098\n",
            "weighted avg       0.82      0.85      0.82     24098\n",
            "\n"
          ]
        }
      ]
    },
    {
      "cell_type": "markdown",
      "source": [
        "### Random Forest\n",
        "\n",
        "https://scikit-learn.org/stable/modules/generated/sklearn.ensemble.RandomForestClassifier.html"
      ],
      "metadata": {
        "id": "xsdNoafPkMz1"
      }
    },
    {
      "cell_type": "markdown",
      "source": [
        "#### Baseline"
      ],
      "metadata": {
        "id": "pdLXEu37trRh"
      }
    },
    {
      "cell_type": "code",
      "source": [
        "pipe_rf_bsl = Pipeline([('preprocess', ManualTransformer(feat_store_j=feat_store_j, feat_store_g=feat_store_g, features=features)),\n",
        "                        # ('scaler', StandardScaler()),\n",
        "                        ('rf baseline', RandomForestClassifier(random_state=42, n_jobs=-1))\n",
        "                    ])\n",
        "pipe_rf_bsl = pipe_rf_bsl.fit(pdfTrain1, pdfTrain1[target])\n",
        "pipe_rf_bsl_pred = pipe_rf_bsl.predict(pdfTrain1)\n",
        "\n",
        "print (confusion_matrix(pipe_rf_bsl_pred, pdfTrain1[target], labels=[1,0]))\n",
        "print (classification_report(pipe_rf_bsl_pred, pdfTrain1[target], labels=[1,0]))"
      ],
      "metadata": {
        "colab": {
          "base_uri": "https://localhost:8080/"
        },
        "id": "SPZxw_W2kLrI",
        "outputId": "9056a343-9e82-4863-91d5-3d96074a662d"
      },
      "execution_count": 129,
      "outputs": [
        {
          "output_type": "stream",
          "name": "stdout",
          "text": [
            "[[ 1143     0]\n",
            " [    1 19791]]\n",
            "              precision    recall  f1-score   support\n",
            "\n",
            "           1       1.00      1.00      1.00      1143\n",
            "           0       1.00      1.00      1.00     19792\n",
            "\n",
            "    accuracy                           1.00     20935\n",
            "   macro avg       1.00      1.00      1.00     20935\n",
            "weighted avg       1.00      1.00      1.00     20935\n",
            "\n"
          ]
        }
      ]
    },
    {
      "cell_type": "markdown",
      "source": [
        "#### Random Search"
      ],
      "metadata": {
        "id": "9ZQSyC1xttFA"
      }
    },
    {
      "cell_type": "code",
      "source": [
        "param_dist = {\n",
        "    \"max_depth\": range(2,20,2),\n",
        "    \"min_samples_split\": [2, 10, 50, 100, 200],\n",
        "    \"min_samples_leaf\": [1, 10, 50, 100, 200],\n",
        "    \"max_features\": ['auto', 'sqrt', 'log2'],\n",
        "    'class_weight': [{0:0.1, 1:1}]\n",
        "}"
      ],
      "metadata": {
        "id": "LqC00B-ttvp8"
      },
      "execution_count": 155,
      "outputs": []
    },
    {
      "cell_type": "code",
      "source": [
        "pipe_rf_Rnd = Pipeline([('preprocess', ManualTransformer(feat_store_j=feat_store_j, feat_store_g=feat_store_g, features=features)),\n",
        "                        # ('scaler', StandardScaler()),\n",
        "                        ('RF random', RandomizedSearchCV(RandomForestClassifier(random_state=42, n_jobs=-1), \n",
        "                                                          param_distributions=param_dist, \n",
        "                                                          n_iter=20,\n",
        "                                                          scoring='f1',\n",
        "                                                          cv = 10,\n",
        "                                                          random_state=42\n",
        "                                                        ))\n",
        "                    ])\n",
        "pipe_rf_Rnd = pipe_rf_Rnd.fit(pdfTrain1, pdfTrain1[target])\n",
        "avalia_desempenho (pipe_rf_Rnd)"
      ],
      "metadata": {
        "id": "9sfGijkwt0mW",
        "outputId": "73bf9d85-adc2-4593-c3f4-f10b81cb7b6a",
        "colab": {
          "base_uri": "https://localhost:8080/"
        }
      },
      "execution_count": 156,
      "outputs": [
        {
          "output_type": "stream",
          "name": "stdout",
          "text": [
            "Treino\n",
            "[[  853   619]\n",
            " [  291 19172]]\n",
            "              precision    recall  f1-score   support\n",
            "\n",
            "           1       0.75      0.58      0.65      1472\n",
            "           0       0.97      0.99      0.98     19463\n",
            "\n",
            "    accuracy                           0.96     20935\n",
            "   macro avg       0.86      0.78      0.81     20935\n",
            "weighted avg       0.95      0.96      0.95     20935\n",
            "\n",
            "Teste\n",
            "[[  465   849]\n",
            " [  851 21933]]\n",
            "              precision    recall  f1-score   support\n",
            "\n",
            "           1       0.35      0.35      0.35      1314\n",
            "           0       0.96      0.96      0.96     22784\n",
            "\n",
            "    accuracy                           0.93     24098\n",
            "   macro avg       0.66      0.66      0.66     24098\n",
            "weighted avg       0.93      0.93      0.93     24098\n",
            "\n"
          ]
        }
      ]
    },
    {
      "cell_type": "markdown",
      "source": [
        "### Logistc Regression"
      ],
      "metadata": {
        "id": "DQi-usSvjwJO"
      }
    },
    {
      "cell_type": "code",
      "source": [
        "pipe_lr_bsl = Pipeline([('preprocess', ManualTransformer(feat_store_j=feat_store_j, feat_store_g=feat_store_g, features=features)),\n",
        "                        # ('scaler', StandardScaler()),\n",
        "                        ('lr baseline', LogisticRegression(random_state=42))\n",
        "                    ])\n",
        "pipe_lr_bsl = pipe_lr_bsl.fit(pdfTrain1, pdfTrain1[target])\n",
        "pipe_lr_bsl_pred = pipe_lr_bsl.predict(pdfTrain1)\n",
        "\n",
        "print (confusion_matrix(pipe_lr_bsl_pred, pdfTrain1[target], labels=[1,0]))\n",
        "print (classification_report(pipe_lr_bsl_pred, pdfTrain1[target], labels=[1,0]))"
      ],
      "metadata": {
        "colab": {
          "base_uri": "https://localhost:8080/"
        },
        "id": "QhC79kuOj0n9",
        "outputId": "9e610c89-f278-4133-84a8-43a020457e4c"
      },
      "execution_count": 127,
      "outputs": [
        {
          "output_type": "stream",
          "name": "stdout",
          "text": [
            "[[    1     3]\n",
            " [ 1143 19788]]\n",
            "              precision    recall  f1-score   support\n",
            "\n",
            "           1       0.00      0.25      0.00         4\n",
            "           0       1.00      0.95      0.97     20931\n",
            "\n",
            "    accuracy                           0.95     20935\n",
            "   macro avg       0.50      0.60      0.49     20935\n",
            "weighted avg       1.00      0.95      0.97     20935\n",
            "\n"
          ]
        }
      ]
    },
    {
      "cell_type": "markdown",
      "source": [
        "### XGBoost"
      ],
      "metadata": {
        "id": "396j9-fMEZDF"
      }
    },
    {
      "cell_type": "code",
      "source": [
        "import xgboost"
      ],
      "metadata": {
        "id": "2DQ-II9CJsSJ"
      },
      "execution_count": 69,
      "outputs": []
    },
    {
      "cell_type": "code",
      "source": [
        "pipeXGB = Pipeline([('preprocess', ManualTransformer(feat_store_j=feat_store_j, feat_store_g=feat_store_g, features=feat)),\n",
        "                      ('xgb', xgboost.XGBClassifier(random_state=42, n_jobs=-1))\n",
        "                    ])\n",
        "pipeXGB.fit(pdfTrain1, pdfTrain1[target])\n",
        "out_train = pipeXGB.transform(pdfTrain1)\n",
        "out_train[:2]"
      ],
      "metadata": {
        "id": "KpUFXfcb8RAz"
      },
      "execution_count": null,
      "outputs": []
    },
    {
      "cell_type": "markdown",
      "source": [
        "## Old"
      ],
      "metadata": {
        "id": "5p-b3XGfZ2zh"
      }
    },
    {
      "cell_type": "code",
      "source": [
        "from sklearn.preprocessing import StandardScaler\n",
        "from sklearn.impute import SimpleImputer\n",
        "import numpy as np\n",
        "pipe_preproc = Pipeline([('preprocess', ManualTransformer(feat_store_j=feat_store_j, feat_store_g=feat_store_g, features=features)),\n",
        "                        # ('risk_g', RiskTransformer(feature_name='g', feat_store=feat_store_g)), \n",
        "         \n",
        "                        # ('risk_j', RiskTransformer(feature_name='j', feat_store=feat_store_j)), \n",
        "                        # ('is_weekend', IsWeekendTransformer(feature_date='fecha')), \n",
        "                        # ('is_night', IsNinghtTransformer(feature_date='fecha')), \n",
        "                        # ('is_o_null', IsNullTransformer(feature_name='o')), \n",
        "                        # ('is_p', YNTransformer(feature_name='p')),\n",
        "                        # ('selector', SelectColumnsTransformer(features=features)),\n",
        "                        # ('imputer', SimpleImputer(missing_values=np.nan, strategy='mean')),\n",
        "                        # ('scaler', StandardScaler()),\n",
        "                        # ('dt baseline', DecisionTreeClassifier(max_depth=2,random_state=42))\n",
        "                    ])"
      ],
      "metadata": {
        "id": "XgZI3Li0_xbJ"
      },
      "execution_count": null,
      "outputs": []
    }
  ]
}