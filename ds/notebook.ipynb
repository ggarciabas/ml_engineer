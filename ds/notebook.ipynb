{
  "nbformat": 4,
  "nbformat_minor": 0,
  "metadata": {
    "colab": {
      "name": "notebook.ipynb",
      "provenance": [],
      "authorship_tag": "ABX9TyNNiYoQHbDKVzvbpK7sLdyo",
      "include_colab_link": true
    },
    "kernelspec": {
      "name": "python3",
      "display_name": "Python 3"
    },
    "language_info": {
      "name": "python"
    }
  },
  "cells": [
    {
      "cell_type": "markdown",
      "metadata": {
        "id": "view-in-github",
        "colab_type": "text"
      },
      "source": [
        "<a href=\"https://colab.research.google.com/github/ggarciabas/ml_engineer/blob/ds/ds/notebook.ipynb\" target=\"_parent\"><img src=\"https://colab.research.google.com/assets/colab-badge.svg\" alt=\"Open In Colab\"/></a>"
      ]
    },
    {
      "cell_type": "markdown",
      "source": [
        "# Desafio  Machine Learning"
      ],
      "metadata": {
        "id": "jBApY80zrK9b"
      }
    },
    {
      "cell_type": "markdown",
      "source": [
        "## Leitura dos dados\n",
        "\n",
        "- `monto`: montante (valor)\n",
        "- `fecha`: data de compra\n",
        "- `score`: do algoritmo já existente\n",
        "- `fraude`: indica se foi fraude ou não "
      ],
      "metadata": {
        "id": "cgMgl29cslcM"
      }
    },
    {
      "cell_type": "code",
      "execution_count": 1,
      "metadata": {
        "id": "ksdWEUQ8rIrR"
      },
      "outputs": [],
      "source": [
        "import pandas as pd\n",
        "# Cria Dataframe inicial\n",
        "url='https://drive.google.com/file/d/1dRDvoSOtdtsgOG65UVKLTBlzejg_cX4P/view?usp=sharing' \n",
        "url2='https://drive.google.com/uc?export=download&id=' + url.split('/')[-2]\n",
        "# https://stackoverflow.com/questions/56611698/pandas-how-to-read-csv-file-from-google-drive-public\n",
        "pd_dados = pd.read_csv(url2)"
      ]
    },
    {
      "cell_type": "code",
      "source": [
        "pd_dados"
      ],
      "metadata": {
        "id": "BAIXqra-sODa",
        "outputId": "1ae3ce7b-df22-48cb-eca0-34b7d92c5e4d",
        "colab": {
          "base_uri": "https://localhost:8080/",
          "height": 633
        }
      },
      "execution_count": 5,
      "outputs": [
        {
          "output_type": "execute_result",
          "data": {
            "text/html": [
              "\n",
              "  <div id=\"df-6f51afec-7c8d-4b1c-95dd-097815da66a0\">\n",
              "    <div class=\"colab-df-container\">\n",
              "      <div>\n",
              "<style scoped>\n",
              "    .dataframe tbody tr th:only-of-type {\n",
              "        vertical-align: middle;\n",
              "    }\n",
              "\n",
              "    .dataframe tbody tr th {\n",
              "        vertical-align: top;\n",
              "    }\n",
              "\n",
              "    .dataframe thead th {\n",
              "        text-align: right;\n",
              "    }\n",
              "</style>\n",
              "<table border=\"1\" class=\"dataframe\">\n",
              "  <thead>\n",
              "    <tr style=\"text-align: right;\">\n",
              "      <th></th>\n",
              "      <th>a</th>\n",
              "      <th>b</th>\n",
              "      <th>c</th>\n",
              "      <th>d</th>\n",
              "      <th>e</th>\n",
              "      <th>f</th>\n",
              "      <th>g</th>\n",
              "      <th>h</th>\n",
              "      <th>i</th>\n",
              "      <th>j</th>\n",
              "      <th>k</th>\n",
              "      <th>l</th>\n",
              "      <th>m</th>\n",
              "      <th>n</th>\n",
              "      <th>o</th>\n",
              "      <th>p</th>\n",
              "      <th>fecha</th>\n",
              "      <th>monto</th>\n",
              "      <th>score</th>\n",
              "      <th>fraude</th>\n",
              "    </tr>\n",
              "  </thead>\n",
              "  <tbody>\n",
              "    <tr>\n",
              "      <th>0</th>\n",
              "      <td>4</td>\n",
              "      <td>0.7685</td>\n",
              "      <td>94436.24</td>\n",
              "      <td>20.0</td>\n",
              "      <td>0.444828</td>\n",
              "      <td>1.0</td>\n",
              "      <td>BR</td>\n",
              "      <td>5</td>\n",
              "      <td>Máquininha Corta Barba Cabelo Peito Perna Pelo...</td>\n",
              "      <td>cat_8d714cd</td>\n",
              "      <td>0.883598</td>\n",
              "      <td>240.0</td>\n",
              "      <td>102.0</td>\n",
              "      <td>1</td>\n",
              "      <td>NaN</td>\n",
              "      <td>N</td>\n",
              "      <td>2020-03-27 11:51:16</td>\n",
              "      <td>5.64</td>\n",
              "      <td>66</td>\n",
              "      <td>0</td>\n",
              "    </tr>\n",
              "    <tr>\n",
              "      <th>1</th>\n",
              "      <td>4</td>\n",
              "      <td>0.7550</td>\n",
              "      <td>9258.50</td>\n",
              "      <td>1.0</td>\n",
              "      <td>0.000000</td>\n",
              "      <td>33.0</td>\n",
              "      <td>BR</td>\n",
              "      <td>0</td>\n",
              "      <td>Avental Descartavel Manga Longa  - 50 Un. Tnt ...</td>\n",
              "      <td>cat_64b574b</td>\n",
              "      <td>0.376019</td>\n",
              "      <td>4008.0</td>\n",
              "      <td>0.0</td>\n",
              "      <td>1</td>\n",
              "      <td>Y</td>\n",
              "      <td>N</td>\n",
              "      <td>2020-04-15 19:58:08</td>\n",
              "      <td>124.71</td>\n",
              "      <td>72</td>\n",
              "      <td>0</td>\n",
              "    </tr>\n",
              "    <tr>\n",
              "      <th>2</th>\n",
              "      <td>4</td>\n",
              "      <td>0.7455</td>\n",
              "      <td>242549.09</td>\n",
              "      <td>3.0</td>\n",
              "      <td>0.000000</td>\n",
              "      <td>19.0</td>\n",
              "      <td>AR</td>\n",
              "      <td>23</td>\n",
              "      <td>Bicicleta Mountain Fire Bird Rodado 29 Alumini...</td>\n",
              "      <td>cat_e9110c5</td>\n",
              "      <td>0.516368</td>\n",
              "      <td>1779.0</td>\n",
              "      <td>77.0</td>\n",
              "      <td>1</td>\n",
              "      <td>NaN</td>\n",
              "      <td>N</td>\n",
              "      <td>2020-03-25 18:13:38</td>\n",
              "      <td>339.32</td>\n",
              "      <td>95</td>\n",
              "      <td>0</td>\n",
              "    </tr>\n",
              "    <tr>\n",
              "      <th>3</th>\n",
              "      <td>4</td>\n",
              "      <td>0.7631</td>\n",
              "      <td>18923.90</td>\n",
              "      <td>50.0</td>\n",
              "      <td>0.482385</td>\n",
              "      <td>18.0</td>\n",
              "      <td>BR</td>\n",
              "      <td>23</td>\n",
              "      <td>Caneta Delineador Carimbo Olho Gatinho Longo 2...</td>\n",
              "      <td>cat_d06e653</td>\n",
              "      <td>0.154036</td>\n",
              "      <td>1704.0</td>\n",
              "      <td>1147.0</td>\n",
              "      <td>1</td>\n",
              "      <td>NaN</td>\n",
              "      <td>Y</td>\n",
              "      <td>2020-04-16 16:03:10</td>\n",
              "      <td>3.54</td>\n",
              "      <td>2</td>\n",
              "      <td>0</td>\n",
              "    </tr>\n",
              "    <tr>\n",
              "      <th>4</th>\n",
              "      <td>2</td>\n",
              "      <td>0.7315</td>\n",
              "      <td>5728.68</td>\n",
              "      <td>15.0</td>\n",
              "      <td>0.000000</td>\n",
              "      <td>1.0</td>\n",
              "      <td>BR</td>\n",
              "      <td>2</td>\n",
              "      <td>Resident Evil Operation Raccoon City Ps3</td>\n",
              "      <td>cat_6c4cfdc</td>\n",
              "      <td>0.855798</td>\n",
              "      <td>1025.0</td>\n",
              "      <td>150.0</td>\n",
              "      <td>1</td>\n",
              "      <td>NaN</td>\n",
              "      <td>N</td>\n",
              "      <td>2020-04-02 10:24:45</td>\n",
              "      <td>3.53</td>\n",
              "      <td>76</td>\n",
              "      <td>0</td>\n",
              "    </tr>\n",
              "    <tr>\n",
              "      <th>...</th>\n",
              "      <td>...</td>\n",
              "      <td>...</td>\n",
              "      <td>...</td>\n",
              "      <td>...</td>\n",
              "      <td>...</td>\n",
              "      <td>...</td>\n",
              "      <td>...</td>\n",
              "      <td>...</td>\n",
              "      <td>...</td>\n",
              "      <td>...</td>\n",
              "      <td>...</td>\n",
              "      <td>...</td>\n",
              "      <td>...</td>\n",
              "      <td>...</td>\n",
              "      <td>...</td>\n",
              "      <td>...</td>\n",
              "      <td>...</td>\n",
              "      <td>...</td>\n",
              "      <td>...</td>\n",
              "      <td>...</td>\n",
              "    </tr>\n",
              "    <tr>\n",
              "      <th>149995</th>\n",
              "      <td>4</td>\n",
              "      <td>0.8191</td>\n",
              "      <td>21393.63</td>\n",
              "      <td>7.0</td>\n",
              "      <td>0.000000</td>\n",
              "      <td>1.0</td>\n",
              "      <td>BR</td>\n",
              "      <td>4</td>\n",
              "      <td>Aparelho Lipocavitação Ultrassônico + Gel Cond...</td>\n",
              "      <td>cat_a5b2091</td>\n",
              "      <td>0.808366</td>\n",
              "      <td>2009.0</td>\n",
              "      <td>434.0</td>\n",
              "      <td>1</td>\n",
              "      <td>NaN</td>\n",
              "      <td>N</td>\n",
              "      <td>2020-04-11 19:31:07</td>\n",
              "      <td>47.15</td>\n",
              "      <td>95</td>\n",
              "      <td>0</td>\n",
              "    </tr>\n",
              "    <tr>\n",
              "      <th>149996</th>\n",
              "      <td>4</td>\n",
              "      <td>NaN</td>\n",
              "      <td>NaN</td>\n",
              "      <td>24.0</td>\n",
              "      <td>0.384615</td>\n",
              "      <td>11.0</td>\n",
              "      <td>UY</td>\n",
              "      <td>20</td>\n",
              "      <td>Sellos De Goma Automaticos,  Personalizados.</td>\n",
              "      <td>cat_e39ab7e</td>\n",
              "      <td>0.989981</td>\n",
              "      <td>499.0</td>\n",
              "      <td>135.0</td>\n",
              "      <td>1</td>\n",
              "      <td>NaN</td>\n",
              "      <td>Y</td>\n",
              "      <td>2020-03-11 20:21:35</td>\n",
              "      <td>9.69</td>\n",
              "      <td>0</td>\n",
              "      <td>0</td>\n",
              "    </tr>\n",
              "    <tr>\n",
              "      <th>149997</th>\n",
              "      <td>4</td>\n",
              "      <td>NaN</td>\n",
              "      <td>NaN</td>\n",
              "      <td>3.0</td>\n",
              "      <td>0.477778</td>\n",
              "      <td>1.0</td>\n",
              "      <td>BR</td>\n",
              "      <td>19</td>\n",
              "      <td>Hélice 3 Pás Alumínio Rabeta 6.5 Hp Pesca Barc...</td>\n",
              "      <td>cat_ee6ecc8</td>\n",
              "      <td>0.763939</td>\n",
              "      <td>127.0</td>\n",
              "      <td>127.0</td>\n",
              "      <td>1</td>\n",
              "      <td>NaN</td>\n",
              "      <td>Y</td>\n",
              "      <td>2020-03-11 19:36:07</td>\n",
              "      <td>5.97</td>\n",
              "      <td>15</td>\n",
              "      <td>0</td>\n",
              "    </tr>\n",
              "    <tr>\n",
              "      <th>149998</th>\n",
              "      <td>4</td>\n",
              "      <td>0.6067</td>\n",
              "      <td>152906.86</td>\n",
              "      <td>1.0</td>\n",
              "      <td>0.099175</td>\n",
              "      <td>133.0</td>\n",
              "      <td>BR</td>\n",
              "      <td>3</td>\n",
              "      <td>Tela Display Lcd Galaxy J7 Neo J701 Com Brilho...</td>\n",
              "      <td>cat_237e2d0</td>\n",
              "      <td>0.382728</td>\n",
              "      <td>4373.0</td>\n",
              "      <td>123.0</td>\n",
              "      <td>1</td>\n",
              "      <td>NaN</td>\n",
              "      <td>Y</td>\n",
              "      <td>2020-03-16 07:13:24</td>\n",
              "      <td>25.83</td>\n",
              "      <td>59</td>\n",
              "      <td>0</td>\n",
              "    </tr>\n",
              "    <tr>\n",
              "      <th>149999</th>\n",
              "      <td>4</td>\n",
              "      <td>0.7546</td>\n",
              "      <td>7924.69</td>\n",
              "      <td>1.0</td>\n",
              "      <td>0.477778</td>\n",
              "      <td>80.0</td>\n",
              "      <td>BR</td>\n",
              "      <td>4</td>\n",
              "      <td>A Magia Divina Das Velas. O Livro Das Sete Cha...</td>\n",
              "      <td>cat_8ef7164</td>\n",
              "      <td>0.627020</td>\n",
              "      <td>3495.0</td>\n",
              "      <td>0.0</td>\n",
              "      <td>1</td>\n",
              "      <td>NaN</td>\n",
              "      <td>N</td>\n",
              "      <td>2020-03-26 08:47:12</td>\n",
              "      <td>5.28</td>\n",
              "      <td>35</td>\n",
              "      <td>0</td>\n",
              "    </tr>\n",
              "  </tbody>\n",
              "</table>\n",
              "<p>150000 rows × 20 columns</p>\n",
              "</div>\n",
              "      <button class=\"colab-df-convert\" onclick=\"convertToInteractive('df-6f51afec-7c8d-4b1c-95dd-097815da66a0')\"\n",
              "              title=\"Convert this dataframe to an interactive table.\"\n",
              "              style=\"display:none;\">\n",
              "        \n",
              "  <svg xmlns=\"http://www.w3.org/2000/svg\" height=\"24px\"viewBox=\"0 0 24 24\"\n",
              "       width=\"24px\">\n",
              "    <path d=\"M0 0h24v24H0V0z\" fill=\"none\"/>\n",
              "    <path d=\"M18.56 5.44l.94 2.06.94-2.06 2.06-.94-2.06-.94-.94-2.06-.94 2.06-2.06.94zm-11 1L8.5 8.5l.94-2.06 2.06-.94-2.06-.94L8.5 2.5l-.94 2.06-2.06.94zm10 10l.94 2.06.94-2.06 2.06-.94-2.06-.94-.94-2.06-.94 2.06-2.06.94z\"/><path d=\"M17.41 7.96l-1.37-1.37c-.4-.4-.92-.59-1.43-.59-.52 0-1.04.2-1.43.59L10.3 9.45l-7.72 7.72c-.78.78-.78 2.05 0 2.83L4 21.41c.39.39.9.59 1.41.59.51 0 1.02-.2 1.41-.59l7.78-7.78 2.81-2.81c.8-.78.8-2.07 0-2.86zM5.41 20L4 18.59l7.72-7.72 1.47 1.35L5.41 20z\"/>\n",
              "  </svg>\n",
              "      </button>\n",
              "      \n",
              "  <style>\n",
              "    .colab-df-container {\n",
              "      display:flex;\n",
              "      flex-wrap:wrap;\n",
              "      gap: 12px;\n",
              "    }\n",
              "\n",
              "    .colab-df-convert {\n",
              "      background-color: #E8F0FE;\n",
              "      border: none;\n",
              "      border-radius: 50%;\n",
              "      cursor: pointer;\n",
              "      display: none;\n",
              "      fill: #1967D2;\n",
              "      height: 32px;\n",
              "      padding: 0 0 0 0;\n",
              "      width: 32px;\n",
              "    }\n",
              "\n",
              "    .colab-df-convert:hover {\n",
              "      background-color: #E2EBFA;\n",
              "      box-shadow: 0px 1px 2px rgba(60, 64, 67, 0.3), 0px 1px 3px 1px rgba(60, 64, 67, 0.15);\n",
              "      fill: #174EA6;\n",
              "    }\n",
              "\n",
              "    [theme=dark] .colab-df-convert {\n",
              "      background-color: #3B4455;\n",
              "      fill: #D2E3FC;\n",
              "    }\n",
              "\n",
              "    [theme=dark] .colab-df-convert:hover {\n",
              "      background-color: #434B5C;\n",
              "      box-shadow: 0px 1px 3px 1px rgba(0, 0, 0, 0.15);\n",
              "      filter: drop-shadow(0px 1px 2px rgba(0, 0, 0, 0.3));\n",
              "      fill: #FFFFFF;\n",
              "    }\n",
              "  </style>\n",
              "\n",
              "      <script>\n",
              "        const buttonEl =\n",
              "          document.querySelector('#df-6f51afec-7c8d-4b1c-95dd-097815da66a0 button.colab-df-convert');\n",
              "        buttonEl.style.display =\n",
              "          google.colab.kernel.accessAllowed ? 'block' : 'none';\n",
              "\n",
              "        async function convertToInteractive(key) {\n",
              "          const element = document.querySelector('#df-6f51afec-7c8d-4b1c-95dd-097815da66a0');\n",
              "          const dataTable =\n",
              "            await google.colab.kernel.invokeFunction('convertToInteractive',\n",
              "                                                     [key], {});\n",
              "          if (!dataTable) return;\n",
              "\n",
              "          const docLinkHtml = 'Like what you see? Visit the ' +\n",
              "            '<a target=\"_blank\" href=https://colab.research.google.com/notebooks/data_table.ipynb>data table notebook</a>'\n",
              "            + ' to learn more about interactive tables.';\n",
              "          element.innerHTML = '';\n",
              "          dataTable['output_type'] = 'display_data';\n",
              "          await google.colab.output.renderOutput(dataTable, element);\n",
              "          const docLink = document.createElement('div');\n",
              "          docLink.innerHTML = docLinkHtml;\n",
              "          element.appendChild(docLink);\n",
              "        }\n",
              "      </script>\n",
              "    </div>\n",
              "  </div>\n",
              "  "
            ],
            "text/plain": [
              "        a       b          c     d  ...                fecha   monto score  fraude\n",
              "0       4  0.7685   94436.24  20.0  ...  2020-03-27 11:51:16    5.64    66       0\n",
              "1       4  0.7550    9258.50   1.0  ...  2020-04-15 19:58:08  124.71    72       0\n",
              "2       4  0.7455  242549.09   3.0  ...  2020-03-25 18:13:38  339.32    95       0\n",
              "3       4  0.7631   18923.90  50.0  ...  2020-04-16 16:03:10    3.54     2       0\n",
              "4       2  0.7315    5728.68  15.0  ...  2020-04-02 10:24:45    3.53    76       0\n",
              "...    ..     ...        ...   ...  ...                  ...     ...   ...     ...\n",
              "149995  4  0.8191   21393.63   7.0  ...  2020-04-11 19:31:07   47.15    95       0\n",
              "149996  4     NaN        NaN  24.0  ...  2020-03-11 20:21:35    9.69     0       0\n",
              "149997  4     NaN        NaN   3.0  ...  2020-03-11 19:36:07    5.97    15       0\n",
              "149998  4  0.6067  152906.86   1.0  ...  2020-03-16 07:13:24   25.83    59       0\n",
              "149999  4  0.7546    7924.69   1.0  ...  2020-03-26 08:47:12    5.28    35       0\n",
              "\n",
              "[150000 rows x 20 columns]"
            ]
          },
          "metadata": {},
          "execution_count": 5
        }
      ]
    },
    {
      "cell_type": "markdown",
      "source": [
        "## Análise do score atual"
      ],
      "metadata": {
        "id": "rMZmiwHSspkb"
      }
    },
    {
      "cell_type": "code",
      "source": [
        "import seaborn as sns\n",
        "from sklearn.metrics import confusion_matrix\n",
        "from sklearn.metrics import classification_report"
      ],
      "metadata": {
        "id": "JKaSy5p7s1er"
      },
      "execution_count": 8,
      "outputs": []
    },
    {
      "cell_type": "code",
      "source": [
        "# distribuição dos casos de fraude e não fraude\n",
        "sns.displot(data=pd_dados, x='fraude', kind='hist')"
      ],
      "metadata": {
        "id": "8nOqQKMIsfbw",
        "outputId": "510673a0-c7b3-48bd-d02e-0608591f46a4",
        "colab": {
          "base_uri": "https://localhost:8080/",
          "height": 386
        }
      },
      "execution_count": 7,
      "outputs": [
        {
          "output_type": "execute_result",
          "data": {
            "text/plain": [
              "<seaborn.axisgrid.FacetGrid at 0x7f761f6e1dd0>"
            ]
          },
          "metadata": {},
          "execution_count": 7
        },
        {
          "output_type": "display_data",
          "data": {
            "image/png": "[encoded data removed]",
            "text/plain": [
              "<Figure size 360x360 with 1 Axes>"
            ]
          },
          "metadata": {
            "needs_background": "light"
          }
        }
      ]
    },
    {
      "cell_type": "code",
      "source": [
        "# distribuição dos scores\n",
        "sns.displot(data=pd_dados, x='score', kind='hist')"
      ],
      "metadata": {
        "id": "xZ0709s66yEw",
        "outputId": "b76cb57e-6136-4990-cbe3-bc842ac667fc",
        "colab": {
          "base_uri": "https://localhost:8080/",
          "height": 386
        }
      },
      "execution_count": 9,
      "outputs": [
        {
          "output_type": "execute_result",
          "data": {
            "text/plain": [
              "<seaborn.axisgrid.FacetGrid at 0x7f76144ae690>"
            ]
          },
          "metadata": {},
          "execution_count": 9
        },
        {
          "output_type": "display_data",
          "data": {
            "image/png": "[encoded data removed]",
            "text/plain": [
              "<Figure size 360x360 with 1 Axes>"
            ]
          },
          "metadata": {
            "needs_background": "light"
          }
        }
      ]
    },
    {
      "cell_type": "code",
      "source": [
        "# Taxa para lucro\n",
        "import matplotlib.pyplot as plt\n",
        "%matplotlib inline \n",
        "def valida_taxa (sF, f, m):\n",
        "  if sF==0 and f==0:\n",
        "    return m*0.1 # ganha 10%\n",
        "  elif sF==0 and f==1:\n",
        "    return -m # perde 100%\n",
        "  elif sF==1 and f==0:\n",
        "    return -(m*0.1) # deixou de ganhar 10%\n",
        "  else: # se for fraude e capturar \n",
        "    return 0 \n",
        "fraude = pd_dados['fraude']\n",
        "pd_dados['saldoF'] = pd_dados[['fraude', 'monto']].apply(lambda x: x['monto']*0.1 if x['fraude']==0 else 0, axis=1)\n",
        "cortes = range(0,100)\n",
        "valor = []\n",
        "for p in cortes:\n",
        "  pd_dados['scoreF'] = pd_dados['score'].apply(lambda x: 0 if x<p else 1)\n",
        "  saldo = pd_dados[['scoreF', 'fraude', 'monto']].apply(lambda x: valida_taxa(x['scoreF'], x['fraude'], x['monto']), axis=1).sum()\n",
        "  valor.append(saldo)\n",
        "def plot_corte_valor (A, B, ini, fim):\n",
        "  plt.figure(figsize=(16,8))\n",
        "  plt.plot(A[ini:fim], B[ini:fim], 'bx-')\n",
        "  plt.xlabel('Corte')\n",
        "  plt.ylabel('Saldo')\n",
        "  plt.title('Ponto de corte para score e valor de ganho/custo (saldo)')\n",
        "  plt.show()"
      ],
      "metadata": {
        "id": "CJtjrSOQ8rIG"
      },
      "execution_count": 2,
      "outputs": []
    },
    {
      "cell_type": "code",
      "source": [
        "print (f\"Saldo ótimo: {pd_dados['saldoF'].sum()}\")"
      ],
      "metadata": {
        "id": "b24K_7AdKd4S",
        "outputId": "3517abae-4a6b-4257-a70c-97d28bd0278d",
        "colab": {
          "base_uri": "https://localhost:8080/"
        }
      },
      "execution_count": 3,
      "outputs": [
        {
          "output_type": "stream",
          "name": "stdout",
          "text": [
            "Saldo ótimo: 598119.9\n"
          ]
        }
      ]
    },
    {
      "cell_type": "code",
      "source": [
        "# Corte de maior valor\n",
        "cMax = valor.index(max(valor))\n",
        "print (f\"Corte {cMax} para saldo de {max(valor)} (% do ótimo {max(valor)/pd_dados['saldoF'].sum()}\")"
      ],
      "metadata": {
        "id": "SvGavbLrPPk8",
        "outputId": "0929e7e3-8e1b-467e-c59d-d4b056d4a1c2",
        "colab": {
          "base_uri": "https://localhost:8080/"
        }
      },
      "execution_count": 4,
      "outputs": [
        {
          "output_type": "stream",
          "name": "stdout",
          "text": [
            "Corte 86 para saldo de 151522.51200000002 (% do ótimo 0.2533313337342563\n"
          ]
        }
      ]
    },
    {
      "cell_type": "code",
      "source": [
        "plot_corte_valor(cortes, valor, 0, 100)"
      ],
      "metadata": {
        "id": "ZaZ_Z5-JArrj",
        "outputId": "c7b64648-b1ae-4337-943e-cb3de10ae419",
        "colab": {
          "base_uri": "https://localhost:8080/",
          "height": 495
        }
      },
      "execution_count": 116,
      "outputs": [
        {
          "output_type": "display_data",
          "data": {
            "image/png": "[encoded data removed]",
            "text/plain": [
              "<Figure size 1152x576 with 1 Axes>"
            ]
          },
          "metadata": {
            "needs_background": "light"
          }
        }
      ]
    },
    {
      "cell_type": "code",
      "source": [
        "plot_corte_valor(cortes, valor, 80, 100)"
      ],
      "metadata": {
        "id": "_uDLvhnS-y5k",
        "outputId": "5b1e405d-ed1b-49ef-cd45-f85cc7739904",
        "colab": {
          "base_uri": "https://localhost:8080/",
          "height": 501
        }
      },
      "execution_count": 117,
      "outputs": [
        {
          "output_type": "display_data",
          "data": {
            "image/png": "[encoded data removed]",
            "text/plain": [
              "<Figure size 1152x576 with 1 Axes>"
            ]
          },
          "metadata": {
            "needs_background": "light"
          }
        }
      ]
    },
    {
      "cell_type": "code",
      "source": [
        "# PuLP - vhttps://github.com/ggarciabas/brad_eficiencia/blob/master/pulp_agencia.ipynb"
      ],
      "metadata": {
        "id": "A-NUqBffTH2c"
      },
      "execution_count": 5,
      "outputs": []
    },
    {
      "cell_type": "code",
      "source": [
        "# Relatórios para corte de valor máximo de saldo\n",
        "cMaxPred = pd_dados['score'].apply(lambda x: 0 if x<cMax else 1)\n",
        "print (confusion_matrix(cMaxPred, fraude, labels=[1,0]))\n",
        "print(classification_report(cMaxPred, fraude, labels=[1,0]))"
      ],
      "metadata": {
        "id": "YmqymSvetwxv",
        "outputId": "07b783f3-c5d7-4c26-d59b-8888499fc3fb",
        "colab": {
          "base_uri": "https://localhost:8080/"
        }
      },
      "execution_count": 130,
      "outputs": [
        {
          "output_type": "stream",
          "name": "stdout",
          "text": [
            "[[  3677  15117]\n",
            " [  3823 127383]]\n",
            "              precision    recall  f1-score   support\n",
            "\n",
            "           1       0.49      0.20      0.28     18794\n",
            "           0       0.89      0.97      0.93    131206\n",
            "\n",
            "    accuracy                           0.87    150000\n",
            "   macro avg       0.69      0.58      0.61    150000\n",
            "weighted avg       0.84      0.87      0.85    150000\n",
            "\n"
          ]
        }
      ]
    },
    {
      "cell_type": "markdown",
      "source": [
        "## Análise dos dados"
      ],
      "metadata": {
        "id": "4hvnLuG9To2u"
      }
    },
    {
      "cell_type": "code",
      "source": [
        "pd_dados.count()"
      ],
      "metadata": {
        "id": "LqMPv6vgcAW-",
        "outputId": "bc6e071b-a600-43c3-c9eb-37ca69ab620a",
        "colab": {
          "base_uri": "https://localhost:8080/"
        }
      },
      "execution_count": 19,
      "outputs": [
        {
          "output_type": "execute_result",
          "data": {
            "text/plain": [
              "a          150000\n",
              "b          137016\n",
              "c          137016\n",
              "d          149635\n",
              "e          150000\n",
              "f          149989\n",
              "g          149806\n",
              "h          150000\n",
              "i          150000\n",
              "j          150000\n",
              "k          150000\n",
              "l          149989\n",
              "m          149635\n",
              "n          150000\n",
              "o           41143\n",
              "p          150000\n",
              "fecha      150000\n",
              "monto      150000\n",
              "score      150000\n",
              "fraude     150000\n",
              "saldoF     150000\n",
              "scoreF     150000\n",
              "fecha_d    150000\n",
              "dtype: int64"
            ]
          },
          "metadata": {},
          "execution_count": 19
        }
      ]
    },
    {
      "cell_type": "markdown",
      "source": [
        "### Total de transações por dia"
      ],
      "metadata": {
        "id": "KD7cTga1bRZn"
      }
    },
    {
      "cell_type": "code",
      "source": [
        "# Filtra data sem hora\n",
        "pd_dados['fecha_d'] = pd_dados['fecha'].apply(lambda x: x[:10])"
      ],
      "metadata": {
        "id": "9VROtBdyZLJ6"
      },
      "execution_count": 13,
      "outputs": []
    },
    {
      "cell_type": "code",
      "source": [
        "# Período de transações\n",
        "print(f\"{pd_dados['fecha_d'].min()} até {pd_dados['fecha_d'].max()}\")"
      ],
      "metadata": {
        "id": "nSmbci60ToYQ",
        "outputId": "6a9a9e1c-770c-48e0-e3a0-4f118f651245",
        "colab": {
          "base_uri": "https://localhost:8080/"
        }
      },
      "execution_count": 14,
      "outputs": [
        {
          "output_type": "stream",
          "name": "stdout",
          "text": [
            "2020-03-08 até 2020-04-21\n"
          ]
        }
      ]
    },
    {
      "cell_type": "code",
      "source": [
        "def plot_fraudes_data (start=None, end=None)->tuple:\n",
        "  pdf = pd_dados.copy()\n",
        "  if start != None:\n",
        "    pdf = pdf[(pdf['fecha_d']>=start)&(pdf['fecha_d']<=end)]\n",
        "  pdf = pdf[['fecha_d', 'fraude','a']].groupby(['fecha_d', 'fraude']).count().reset_index()\n",
        "  pdf = pdf.pivot(index=\"fecha_d\", columns=[\"fraude\"], values=\"a\")\n",
        "  print (f\"Fraude {pdf[1].mean()} avg.\\tGenuine: {pdf[0].mean()} avg.\")\n",
        "  pdf.plot()\n",
        "  return pdf[1].sum(),pdf[0].sum()"
      ],
      "metadata": {
        "id": "VQ2-DB8kbWrv"
      },
      "execution_count": 83,
      "outputs": []
    },
    {
      "cell_type": "code",
      "source": [
        "fraude,genuine = plot_fraudes_data()\n",
        "print (f\"Fraude: {fraude} ({fraude/pd_dados.shape[0]})\\tGenuine: {genuine} ({genuine/pd_dados.shape[0]})\")"
      ],
      "metadata": {
        "id": "2-iq_JaSf5Us",
        "outputId": "2678e63b-b6c6-4251-99a0-ba54e120cd9b",
        "colab": {
          "base_uri": "https://localhost:8080/",
          "height": 314
        }
      },
      "execution_count": 85,
      "outputs": [
        {
          "output_type": "stream",
          "name": "stdout",
          "text": [
            "Fraude 166.66666666666666 avg.\tGenuine: 3166.6666666666665 avg.\n",
            "Fraude: 7500 (0.05)\tGenuine: 142500 (0.95)\n"
          ]
        },
        {
          "output_type": "display_data",
          "data": {
            "image/png": "[encoded data removed]",
            "text/plain": [
              "<Figure size 432x288 with 1 Axes>"
            ]
          },
          "metadata": {
            "needs_background": "light"
          }
        }
      ]
    },
    {
      "cell_type": "markdown",
      "source": [
        "## Modelagem\n",
        "\n",
        "Problemas:\n",
        "\n",
        "- Balanceamento das classes: 5% de fraude (típico 1%)\n",
        "- Mudança de comportamento ao longo do tempo\n",
        "- "
      ],
      "metadata": {
        "id": "-_fK3GRwiG0s"
      }
    },
    {
      "cell_type": "markdown",
      "source": [
        "### Período de `2020-03-08` à `2020-03-29`\n",
        "\n",
        "- 1 semana para teste\n",
        "- 1 semana de delay\n",
        "- 1 semana para treino\n",
        "\n",
        "[Credit Card Fraud Detection: A Realistic Modeling and a Novel Learning Strategy](https://ieeexplore.ieee.org/stamp/stamp.jsp?tp=&arnumber=80380080)"
      ],
      "metadata": {
        "id": "fPq3iKLuiJgr"
      }
    },
    {
      "cell_type": "markdown",
      "source": [
        "#### Distribuição ao longo do período\n",
        "\n",
        "> Particular care must be taken in practice when splitting the dataset into training and validation sets, due to the sequential nature of credit card transactions, and the delay in fraud reporting.[3]"
      ],
      "metadata": {
        "id": "JV3QWkczuKvw"
      }
    },
    {
      "cell_type": "code",
      "source": [
        "# Treino\n",
        "dataTrain1 = {'start':'2020-03-08', 'end':'2020-03-14'}\n",
        "pdfTrain1 = pd_dados.copy()\n",
        "pdfTrain1 = pdfTrain1[(pdfTrain1['fecha_d']>=dataTrain1['start'])\n",
        "                      &(pdfTrain1['fecha_d']<=dataTrain1['end'])]\n",
        "print (pdfTrain1.shape)\n",
        "fraude,genuine = plot_fraudes_data(dataTrain1['start'], dataTrain1['end'])\n",
        "print (f\"Fraude: {fraude} ({fraude/pdfTrain1.shape[0]})\\tGenuine: {genuine} ({genuine/pdfTrain1.shape[0]})\")"
      ],
      "metadata": {
        "id": "x9WHgObIgEKD",
        "outputId": "aab94cba-ad9b-4b5b-a60f-5ace120f2e79",
        "colab": {
          "base_uri": "https://localhost:8080/",
          "height": 331
        }
      },
      "execution_count": 86,
      "outputs": [
        {
          "output_type": "stream",
          "name": "stdout",
          "text": [
            "(24591, 23)\n",
            "Fraude 169.85714285714286 avg.\tGenuine: 3343.1428571428573 avg.\n",
            "Fraude: 1189 (0.04835102273189378)\tGenuine: 23402 (0.9516489772681063)\n"
          ]
        },
        {
          "output_type": "display_data",
          "data": {
            "image/png": "[encoded data removed]",
            "text/plain": [
              "<Figure size 432x288 with 1 Axes>"
            ]
          },
          "metadata": {
            "needs_background": "light"
          }
        }
      ]
    },
    {
      "cell_type": "code",
      "source": [
        "# Delay\n",
        "dataDelay1 = {'start':'2020-03-15', 'end':'2020-03-21'}\n",
        "plot_fraudes_data(dataDelay1['start'], dataDelay1['end'])"
      ],
      "metadata": {
        "id": "l94voWRnkJSG",
        "outputId": "52493730-3ae3-4b2a-bd65-c257fdb4a071",
        "colab": {
          "base_uri": "https://localhost:8080/",
          "height": 314
        }
      },
      "execution_count": 87,
      "outputs": [
        {
          "output_type": "stream",
          "name": "stdout",
          "text": [
            "Fraude 162.42857142857142 avg.\tGenuine: 3429.0 avg.\n"
          ]
        },
        {
          "output_type": "execute_result",
          "data": {
            "text/plain": [
              "(1137, 24003)"
            ]
          },
          "metadata": {},
          "execution_count": 87
        },
        {
          "output_type": "display_data",
          "data": {
            "image/png": "[encoded data removed]",
            "text/plain": [
              "<Figure size 432x288 with 1 Axes>"
            ]
          },
          "metadata": {
            "needs_background": "light"
          }
        }
      ]
    },
    {
      "cell_type": "code",
      "source": [
        "# Teste\n",
        "dataTest1 = {'start':'2020-03-22', 'end':'2020-03-28'}\n",
        "pdfTest1 = pd_dados.copy()\n",
        "pdfTest1 = pdfTest1[(pdfTest1['fecha_d']>=dataTest1['start'])\n",
        "                      &(pdfTest1['fecha_d']<=dataTest1['end'])]\n",
        "print (pdfTest1.shape)\n",
        "fraude,genuine = plot_fraudes_data(dataTest1['start'], dataTest1['end'])\n",
        "print (f\"Fraude: {fraude} ({fraude/pdfTest1.shape[0]})\\tGenuine: {genuine} ({genuine/pdfTest1.shape[0]})\")"
      ],
      "metadata": {
        "id": "Klh8c2mag9U1",
        "outputId": "e9ac9595-0a8b-421c-906a-fed0e3289abc",
        "colab": {
          "base_uri": "https://localhost:8080/",
          "height": 331
        }
      },
      "execution_count": 88,
      "outputs": [
        {
          "output_type": "stream",
          "name": "stdout",
          "text": [
            "(20935, 23)\n",
            "Fraude 163.42857142857142 avg.\tGenuine: 2827.285714285714 avg.\n",
            "Fraude: 1144 (0.054645330785765465)\tGenuine: 19791 (0.9453546692142345)\n"
          ]
        },
        {
          "output_type": "display_data",
          "data": {
            "image/png": "[encoded data removed]",
            "text/plain": [
              "<Figure size 432x288 with 1 Axes>"
            ]
          },
          "metadata": {
            "needs_background": "light"
          }
        }
      ]
    },
    {
      "cell_type": "markdown",
      "source": [
        "#### Feature Engineering\n",
        "\n",
        "- `feature transformation`, `feature extraction` or `data preprocessing`.\n",
        "\n",
        "> The zero/one loss function is a standard loss function for binary classification problems. It is however not well suited for credit card fraud detection problems, due to the high-class imbalance (much more genuine than fraudulent transactions). Estimating the performance of a fraud detection system is a non-trivial issue. [3]"
      ],
      "metadata": {
        "id": "5cOQUctEuQqy"
      }
    },
    {
      "cell_type": "code",
      "source": [
        ""
      ],
      "metadata": {
        "id": "rI_CtTGilgWJ"
      },
      "execution_count": null,
      "outputs": []
    },
    {
      "cell_type": "markdown",
      "source": [
        "## References\n",
        "\n",
        "1. [Precision Vs. Recall — Evaluating Model Performance in Credit Card Fraud Detection](https://towardsdatascience.com/precision-vs-recall-evaluating-model-performance-in-credit-card-fraud-detection-bb24958b2723)\n",
        "1. [Rethinking the Right Metrics for Fraud Detection](https://medium.datadriveninvestor.com/rethinking-the-right-metrics-for-fraud-detection-4edfb629c423)\n",
        "1. [Fraud-Detection-Handbook](https://github.com/Fraud-Detection-Handbook)\n",
        "  > logistic regression (LR), decision trees (DT), Random forests (RF), Boosting, and Neural networks/Deep learning (NN/DL). LR and DT were chosen due to their simplicity and interpretability. RF and Boosting were chosen since they are currently considered to be state-of-the-art in terms of performance. NN/DL methods were chosen since they provide promising research directions.\n",
        "  "
      ],
      "metadata": {
        "id": "o2A_WEAp0S2o"
      }
    },
    {
      "cell_type": "code",
      "source": [
        ""
      ],
      "metadata": {
        "id": "sfHgUJdNVsd-"
      },
      "execution_count": null,
      "outputs": []
    }
  ]
}