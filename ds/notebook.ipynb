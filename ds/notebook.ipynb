{
  "nbformat": 4,
  "nbformat_minor": 0,
  "metadata": {
    "colab": {
      "name": "notebook.ipynb",
      "provenance": [],
      "authorship_tag": "ABX9TyNiwrdmIe1nO5UgdUgVxn2+",
      "include_colab_link": true
    },
    "kernelspec": {
      "name": "python3",
      "display_name": "Python 3"
    },
    "language_info": {
      "name": "python"
    }
  },
  "cells": [
    {
      "cell_type": "markdown",
      "metadata": {
        "id": "view-in-github",
        "colab_type": "text"
      },
      "source": [
        "<a href=\"https://colab.research.google.com/github/ggarciabas/ml_engineer/blob/ds/ds/notebook.ipynb\" target=\"_parent\"><img src=\"https://colab.research.google.com/assets/colab-badge.svg\" alt=\"Open In Colab\"/></a>"
      ]
    },
    {
      "cell_type": "markdown",
      "source": [
        "# Desafio  Machine Learning"
      ],
      "metadata": {
        "id": "jBApY80zrK9b"
      }
    },
    {
      "cell_type": "markdown",
      "source": [
        "## Leitura dos dados\n",
        "\n",
        "- `monto`: montante (valor)\n",
        "- `fecha`: data de compra\n",
        "- `score`: do algoritmo já existente\n",
        "- `fraude`: indica se foi fraude ou não "
      ],
      "metadata": {
        "id": "cgMgl29cslcM"
      }
    },
    {
      "cell_type": "code",
      "execution_count": 1,
      "metadata": {
        "id": "ksdWEUQ8rIrR"
      },
      "outputs": [],
      "source": [
        "import pandas as pd\n",
        "# Cria Dataframe inicial\n",
        "url='https://drive.google.com/file/d/1dRDvoSOtdtsgOG65UVKLTBlzejg_cX4P/view?usp=sharing' \n",
        "url2='https://drive.google.com/uc?export=download&id=' + url.split('/')[-2]\n",
        "# https://stackoverflow.com/questions/56611698/pandas-how-to-read-csv-file-from-google-drive-public\n",
        "pd_dados = pd.read_csv(url2)"
      ]
    },
    {
      "cell_type": "code",
      "source": [
        "pd_dados.info()"
      ],
      "metadata": {
        "id": "MJ-L4TT8FExE",
        "outputId": "5e0f21e9-941a-4911-da19-9ae5a476b8c5",
        "colab": {
          "base_uri": "https://localhost:8080/"
        }
      },
      "execution_count": 2,
      "outputs": [
        {
          "output_type": "stream",
          "name": "stdout",
          "text": [
            "<class 'pandas.core.frame.DataFrame'>\n",
            "RangeIndex: 150000 entries, 0 to 149999\n",
            "Data columns (total 20 columns):\n",
            " #   Column  Non-Null Count   Dtype  \n",
            "---  ------  --------------   -----  \n",
            " 0   a       150000 non-null  int64  \n",
            " 1   b       137016 non-null  float64\n",
            " 2   c       137016 non-null  float64\n",
            " 3   d       149635 non-null  float64\n",
            " 4   e       150000 non-null  float64\n",
            " 5   f       149989 non-null  float64\n",
            " 6   g       149806 non-null  object \n",
            " 7   h       150000 non-null  int64  \n",
            " 8   i       150000 non-null  object \n",
            " 9   j       150000 non-null  object \n",
            " 10  k       150000 non-null  float64\n",
            " 11  l       149989 non-null  float64\n",
            " 12  m       149635 non-null  float64\n",
            " 13  n       150000 non-null  int64  \n",
            " 14  o       41143 non-null   object \n",
            " 15  p       150000 non-null  object \n",
            " 16  fecha   150000 non-null  object \n",
            " 17  monto   150000 non-null  float64\n",
            " 18  score   150000 non-null  int64  \n",
            " 19  fraude  150000 non-null  int64  \n",
            "dtypes: float64(9), int64(5), object(6)\n",
            "memory usage: 22.9+ MB\n"
          ]
        }
      ]
    },
    {
      "cell_type": "code",
      "source": [
        "pd_dados"
      ],
      "metadata": {
        "id": "BAIXqra-sODa",
        "outputId": "929c7bd4-11c6-45c6-de1d-8b74f5224491",
        "colab": {
          "base_uri": "https://localhost:8080/",
          "height": 1000
        }
      },
      "execution_count": 3,
      "outputs": [
        {
          "output_type": "execute_result",
          "data": {
            "text/html": [
              "\n",
              "  <div id=\"df-6e4cd650-16cf-4140-a467-9dd741989494\">\n",
              "    <div class=\"colab-df-container\">\n",
              "      <div>\n",
              "<style scoped>\n",
              "    .dataframe tbody tr th:only-of-type {\n",
              "        vertical-align: middle;\n",
              "    }\n",
              "\n",
              "    .dataframe tbody tr th {\n",
              "        vertical-align: top;\n",
              "    }\n",
              "\n",
              "    .dataframe thead th {\n",
              "        text-align: right;\n",
              "    }\n",
              "</style>\n",
              "<table border=\"1\" class=\"dataframe\">\n",
              "  <thead>\n",
              "    <tr style=\"text-align: right;\">\n",
              "      <th></th>\n",
              "      <th>a</th>\n",
              "      <th>b</th>\n",
              "      <th>c</th>\n",
              "      <th>d</th>\n",
              "      <th>e</th>\n",
              "      <th>f</th>\n",
              "      <th>g</th>\n",
              "      <th>h</th>\n",
              "      <th>i</th>\n",
              "      <th>j</th>\n",
              "      <th>k</th>\n",
              "      <th>l</th>\n",
              "      <th>m</th>\n",
              "      <th>n</th>\n",
              "      <th>o</th>\n",
              "      <th>p</th>\n",
              "      <th>fecha</th>\n",
              "      <th>monto</th>\n",
              "      <th>score</th>\n",
              "      <th>fraude</th>\n",
              "    </tr>\n",
              "  </thead>\n",
              "  <tbody>\n",
              "    <tr>\n",
              "      <th>0</th>\n",
              "      <td>4</td>\n",
              "      <td>0.7685</td>\n",
              "      <td>94436.24</td>\n",
              "      <td>20.0</td>\n",
              "      <td>0.444828</td>\n",
              "      <td>1.0</td>\n",
              "      <td>BR</td>\n",
              "      <td>5</td>\n",
              "      <td>Máquininha Corta Barba Cabelo Peito Perna Pelo...</td>\n",
              "      <td>cat_8d714cd</td>\n",
              "      <td>0.883598</td>\n",
              "      <td>240.0</td>\n",
              "      <td>102.0</td>\n",
              "      <td>1</td>\n",
              "      <td>NaN</td>\n",
              "      <td>N</td>\n",
              "      <td>2020-03-27 11:51:16</td>\n",
              "      <td>5.64</td>\n",
              "      <td>66</td>\n",
              "      <td>0</td>\n",
              "    </tr>\n",
              "    <tr>\n",
              "      <th>1</th>\n",
              "      <td>4</td>\n",
              "      <td>0.7550</td>\n",
              "      <td>9258.50</td>\n",
              "      <td>1.0</td>\n",
              "      <td>0.000000</td>\n",
              "      <td>33.0</td>\n",
              "      <td>BR</td>\n",
              "      <td>0</td>\n",
              "      <td>Avental Descartavel Manga Longa  - 50 Un. Tnt ...</td>\n",
              "      <td>cat_64b574b</td>\n",
              "      <td>0.376019</td>\n",
              "      <td>4008.0</td>\n",
              "      <td>0.0</td>\n",
              "      <td>1</td>\n",
              "      <td>Y</td>\n",
              "      <td>N</td>\n",
              "      <td>2020-04-15 19:58:08</td>\n",
              "      <td>124.71</td>\n",
              "      <td>72</td>\n",
              "      <td>0</td>\n",
              "    </tr>\n",
              "    <tr>\n",
              "      <th>2</th>\n",
              "      <td>4</td>\n",
              "      <td>0.7455</td>\n",
              "      <td>242549.09</td>\n",
              "      <td>3.0</td>\n",
              "      <td>0.000000</td>\n",
              "      <td>19.0</td>\n",
              "      <td>AR</td>\n",
              "      <td>23</td>\n",
              "      <td>Bicicleta Mountain Fire Bird Rodado 29 Alumini...</td>\n",
              "      <td>cat_e9110c5</td>\n",
              "      <td>0.516368</td>\n",
              "      <td>1779.0</td>\n",
              "      <td>77.0</td>\n",
              "      <td>1</td>\n",
              "      <td>NaN</td>\n",
              "      <td>N</td>\n",
              "      <td>2020-03-25 18:13:38</td>\n",
              "      <td>339.32</td>\n",
              "      <td>95</td>\n",
              "      <td>0</td>\n",
              "    </tr>\n",
              "    <tr>\n",
              "      <th>3</th>\n",
              "      <td>4</td>\n",
              "      <td>0.7631</td>\n",
              "      <td>18923.90</td>\n",
              "      <td>50.0</td>\n",
              "      <td>0.482385</td>\n",
              "      <td>18.0</td>\n",
              "      <td>BR</td>\n",
              "      <td>23</td>\n",
              "      <td>Caneta Delineador Carimbo Olho Gatinho Longo 2...</td>\n",
              "      <td>cat_d06e653</td>\n",
              "      <td>0.154036</td>\n",
              "      <td>1704.0</td>\n",
              "      <td>1147.0</td>\n",
              "      <td>1</td>\n",
              "      <td>NaN</td>\n",
              "      <td>Y</td>\n",
              "      <td>2020-04-16 16:03:10</td>\n",
              "      <td>3.54</td>\n",
              "      <td>2</td>\n",
              "      <td>0</td>\n",
              "    </tr>\n",
              "    <tr>\n",
              "      <th>4</th>\n",
              "      <td>2</td>\n",
              "      <td>0.7315</td>\n",
              "      <td>5728.68</td>\n",
              "      <td>15.0</td>\n",
              "      <td>0.000000</td>\n",
              "      <td>1.0</td>\n",
              "      <td>BR</td>\n",
              "      <td>2</td>\n",
              "      <td>Resident Evil Operation Raccoon City Ps3</td>\n",
              "      <td>cat_6c4cfdc</td>\n",
              "      <td>0.855798</td>\n",
              "      <td>1025.0</td>\n",
              "      <td>150.0</td>\n",
              "      <td>1</td>\n",
              "      <td>NaN</td>\n",
              "      <td>N</td>\n",
              "      <td>2020-04-02 10:24:45</td>\n",
              "      <td>3.53</td>\n",
              "      <td>76</td>\n",
              "      <td>0</td>\n",
              "    </tr>\n",
              "    <tr>\n",
              "      <th>...</th>\n",
              "      <td>...</td>\n",
              "      <td>...</td>\n",
              "      <td>...</td>\n",
              "      <td>...</td>\n",
              "      <td>...</td>\n",
              "      <td>...</td>\n",
              "      <td>...</td>\n",
              "      <td>...</td>\n",
              "      <td>...</td>\n",
              "      <td>...</td>\n",
              "      <td>...</td>\n",
              "      <td>...</td>\n",
              "      <td>...</td>\n",
              "      <td>...</td>\n",
              "      <td>...</td>\n",
              "      <td>...</td>\n",
              "      <td>...</td>\n",
              "      <td>...</td>\n",
              "      <td>...</td>\n",
              "      <td>...</td>\n",
              "    </tr>\n",
              "    <tr>\n",
              "      <th>149995</th>\n",
              "      <td>4</td>\n",
              "      <td>0.8191</td>\n",
              "      <td>21393.63</td>\n",
              "      <td>7.0</td>\n",
              "      <td>0.000000</td>\n",
              "      <td>1.0</td>\n",
              "      <td>BR</td>\n",
              "      <td>4</td>\n",
              "      <td>Aparelho Lipocavitação Ultrassônico + Gel Cond...</td>\n",
              "      <td>cat_a5b2091</td>\n",
              "      <td>0.808366</td>\n",
              "      <td>2009.0</td>\n",
              "      <td>434.0</td>\n",
              "      <td>1</td>\n",
              "      <td>NaN</td>\n",
              "      <td>N</td>\n",
              "      <td>2020-04-11 19:31:07</td>\n",
              "      <td>47.15</td>\n",
              "      <td>95</td>\n",
              "      <td>0</td>\n",
              "    </tr>\n",
              "    <tr>\n",
              "      <th>149996</th>\n",
              "      <td>4</td>\n",
              "      <td>NaN</td>\n",
              "      <td>NaN</td>\n",
              "      <td>24.0</td>\n",
              "      <td>0.384615</td>\n",
              "      <td>11.0</td>\n",
              "      <td>UY</td>\n",
              "      <td>20</td>\n",
              "      <td>Sellos De Goma Automaticos,  Personalizados.</td>\n",
              "      <td>cat_e39ab7e</td>\n",
              "      <td>0.989981</td>\n",
              "      <td>499.0</td>\n",
              "      <td>135.0</td>\n",
              "      <td>1</td>\n",
              "      <td>NaN</td>\n",
              "      <td>Y</td>\n",
              "      <td>2020-03-11 20:21:35</td>\n",
              "      <td>9.69</td>\n",
              "      <td>0</td>\n",
              "      <td>0</td>\n",
              "    </tr>\n",
              "    <tr>\n",
              "      <th>149997</th>\n",
              "      <td>4</td>\n",
              "      <td>NaN</td>\n",
              "      <td>NaN</td>\n",
              "      <td>3.0</td>\n",
              "      <td>0.477778</td>\n",
              "      <td>1.0</td>\n",
              "      <td>BR</td>\n",
              "      <td>19</td>\n",
              "      <td>Hélice 3 Pás Alumínio Rabeta 6.5 Hp Pesca Barc...</td>\n",
              "      <td>cat_ee6ecc8</td>\n",
              "      <td>0.763939</td>\n",
              "      <td>127.0</td>\n",
              "      <td>127.0</td>\n",
              "      <td>1</td>\n",
              "      <td>NaN</td>\n",
              "      <td>Y</td>\n",
              "      <td>2020-03-11 19:36:07</td>\n",
              "      <td>5.97</td>\n",
              "      <td>15</td>\n",
              "      <td>0</td>\n",
              "    </tr>\n",
              "    <tr>\n",
              "      <th>149998</th>\n",
              "      <td>4</td>\n",
              "      <td>0.6067</td>\n",
              "      <td>152906.86</td>\n",
              "      <td>1.0</td>\n",
              "      <td>0.099175</td>\n",
              "      <td>133.0</td>\n",
              "      <td>BR</td>\n",
              "      <td>3</td>\n",
              "      <td>Tela Display Lcd Galaxy J7 Neo J701 Com Brilho...</td>\n",
              "      <td>cat_237e2d0</td>\n",
              "      <td>0.382728</td>\n",
              "      <td>4373.0</td>\n",
              "      <td>123.0</td>\n",
              "      <td>1</td>\n",
              "      <td>NaN</td>\n",
              "      <td>Y</td>\n",
              "      <td>2020-03-16 07:13:24</td>\n",
              "      <td>25.83</td>\n",
              "      <td>59</td>\n",
              "      <td>0</td>\n",
              "    </tr>\n",
              "    <tr>\n",
              "      <th>149999</th>\n",
              "      <td>4</td>\n",
              "      <td>0.7546</td>\n",
              "      <td>7924.69</td>\n",
              "      <td>1.0</td>\n",
              "      <td>0.477778</td>\n",
              "      <td>80.0</td>\n",
              "      <td>BR</td>\n",
              "      <td>4</td>\n",
              "      <td>A Magia Divina Das Velas. O Livro Das Sete Cha...</td>\n",
              "      <td>cat_8ef7164</td>\n",
              "      <td>0.627020</td>\n",
              "      <td>3495.0</td>\n",
              "      <td>0.0</td>\n",
              "      <td>1</td>\n",
              "      <td>NaN</td>\n",
              "      <td>N</td>\n",
              "      <td>2020-03-26 08:47:12</td>\n",
              "      <td>5.28</td>\n",
              "      <td>35</td>\n",
              "      <td>0</td>\n",
              "    </tr>\n",
              "  </tbody>\n",
              "</table>\n",
              "<p>150000 rows × 20 columns</p>\n",
              "</div>\n",
              "      <button class=\"colab-df-convert\" onclick=\"convertToInteractive('df-6e4cd650-16cf-4140-a467-9dd741989494')\"\n",
              "              title=\"Convert this dataframe to an interactive table.\"\n",
              "              style=\"display:none;\">\n",
              "        \n",
              "  <svg xmlns=\"http://www.w3.org/2000/svg\" height=\"24px\"viewBox=\"0 0 24 24\"\n",
              "       width=\"24px\">\n",
              "    <path d=\"M0 0h24v24H0V0z\" fill=\"none\"/>\n",
              "    <path d=\"M18.56 5.44l.94 2.06.94-2.06 2.06-.94-2.06-.94-.94-2.06-.94 2.06-2.06.94zm-11 1L8.5 8.5l.94-2.06 2.06-.94-2.06-.94L8.5 2.5l-.94 2.06-2.06.94zm10 10l.94 2.06.94-2.06 2.06-.94-2.06-.94-.94-2.06-.94 2.06-2.06.94z\"/><path d=\"M17.41 7.96l-1.37-1.37c-.4-.4-.92-.59-1.43-.59-.52 0-1.04.2-1.43.59L10.3 9.45l-7.72 7.72c-.78.78-.78 2.05 0 2.83L4 21.41c.39.39.9.59 1.41.59.51 0 1.02-.2 1.41-.59l7.78-7.78 2.81-2.81c.8-.78.8-2.07 0-2.86zM5.41 20L4 18.59l7.72-7.72 1.47 1.35L5.41 20z\"/>\n",
              "  </svg>\n",
              "      </button>\n",
              "      \n",
              "  <style>\n",
              "    .colab-df-container {\n",
              "      display:flex;\n",
              "      flex-wrap:wrap;\n",
              "      gap: 12px;\n",
              "    }\n",
              "\n",
              "    .colab-df-convert {\n",
              "      background-color: #E8F0FE;\n",
              "      border: none;\n",
              "      border-radius: 50%;\n",
              "      cursor: pointer;\n",
              "      display: none;\n",
              "      fill: #1967D2;\n",
              "      height: 32px;\n",
              "      padding: 0 0 0 0;\n",
              "      width: 32px;\n",
              "    }\n",
              "\n",
              "    .colab-df-convert:hover {\n",
              "      background-color: #E2EBFA;\n",
              "      box-shadow: 0px 1px 2px rgba(60, 64, 67, 0.3), 0px 1px 3px 1px rgba(60, 64, 67, 0.15);\n",
              "      fill: #174EA6;\n",
              "    }\n",
              "\n",
              "    [theme=dark] .colab-df-convert {\n",
              "      background-color: #3B4455;\n",
              "      fill: #D2E3FC;\n",
              "    }\n",
              "\n",
              "    [theme=dark] .colab-df-convert:hover {\n",
              "      background-color: #434B5C;\n",
              "      box-shadow: 0px 1px 3px 1px rgba(0, 0, 0, 0.15);\n",
              "      filter: drop-shadow(0px 1px 2px rgba(0, 0, 0, 0.3));\n",
              "      fill: #FFFFFF;\n",
              "    }\n",
              "  </style>\n",
              "\n",
              "      <script>\n",
              "        const buttonEl =\n",
              "          document.querySelector('#df-6e4cd650-16cf-4140-a467-9dd741989494 button.colab-df-convert');\n",
              "        buttonEl.style.display =\n",
              "          google.colab.kernel.accessAllowed ? 'block' : 'none';\n",
              "\n",
              "        async function convertToInteractive(key) {\n",
              "          const element = document.querySelector('#df-6e4cd650-16cf-4140-a467-9dd741989494');\n",
              "          const dataTable =\n",
              "            await google.colab.kernel.invokeFunction('convertToInteractive',\n",
              "                                                     [key], {});\n",
              "          if (!dataTable) return;\n",
              "\n",
              "          const docLinkHtml = 'Like what you see? Visit the ' +\n",
              "            '<a target=\"_blank\" href=https://colab.research.google.com/notebooks/data_table.ipynb>data table notebook</a>'\n",
              "            + ' to learn more about interactive tables.';\n",
              "          element.innerHTML = '';\n",
              "          dataTable['output_type'] = 'display_data';\n",
              "          await google.colab.output.renderOutput(dataTable, element);\n",
              "          const docLink = document.createElement('div');\n",
              "          docLink.innerHTML = docLinkHtml;\n",
              "          element.appendChild(docLink);\n",
              "        }\n",
              "      </script>\n",
              "    </div>\n",
              "  </div>\n",
              "  "
            ],
            "text/plain": [
              "        a       b          c     d  ...                fecha   monto score  fraude\n",
              "0       4  0.7685   94436.24  20.0  ...  2020-03-27 11:51:16    5.64    66       0\n",
              "1       4  0.7550    9258.50   1.0  ...  2020-04-15 19:58:08  124.71    72       0\n",
              "2       4  0.7455  242549.09   3.0  ...  2020-03-25 18:13:38  339.32    95       0\n",
              "3       4  0.7631   18923.90  50.0  ...  2020-04-16 16:03:10    3.54     2       0\n",
              "4       2  0.7315    5728.68  15.0  ...  2020-04-02 10:24:45    3.53    76       0\n",
              "...    ..     ...        ...   ...  ...                  ...     ...   ...     ...\n",
              "149995  4  0.8191   21393.63   7.0  ...  2020-04-11 19:31:07   47.15    95       0\n",
              "149996  4     NaN        NaN  24.0  ...  2020-03-11 20:21:35    9.69     0       0\n",
              "149997  4     NaN        NaN   3.0  ...  2020-03-11 19:36:07    5.97    15       0\n",
              "149998  4  0.6067  152906.86   1.0  ...  2020-03-16 07:13:24   25.83    59       0\n",
              "149999  4  0.7546    7924.69   1.0  ...  2020-03-26 08:47:12    5.28    35       0\n",
              "\n",
              "[150000 rows x 20 columns]"
            ]
          },
          "metadata": {},
          "execution_count": 3
        }
      ]
    },
    {
      "cell_type": "markdown",
      "source": [
        "## Análise do score atual"
      ],
      "metadata": {
        "id": "rMZmiwHSspkb"
      }
    },
    {
      "cell_type": "code",
      "source": [
        "import seaborn as sns\n",
        "from sklearn.metrics import confusion_matrix\n",
        "from sklearn.metrics import classification_report"
      ],
      "metadata": {
        "id": "JKaSy5p7s1er"
      },
      "execution_count": 4,
      "outputs": []
    },
    {
      "cell_type": "code",
      "source": [
        "# distribuição dos casos de fraude e não fraude\n",
        "sns.displot(data=pd_dados, x='fraude', kind='hist')"
      ],
      "metadata": {
        "id": "8nOqQKMIsfbw",
        "outputId": "78f3819c-8e19-41e8-bfc5-972b969ea84f",
        "colab": {
          "base_uri": "https://localhost:8080/",
          "height": 71
        }
      },
      "execution_count": 5,
      "outputs": [
        {
          "output_type": "execute_result",
          "data": {
            "text/plain": [
              "<seaborn.axisgrid.FacetGrid at 0x7f923eceefd0>"
            ]
          },
          "metadata": {},
          "execution_count": 5
        },
        {
          "output_type": "display_data",
          "data": {
            "image/png": "[encoded data removed]",
            "text/plain": [
              "<Figure size 360x360 with 1 Axes>"
            ]
          },
          "metadata": {
            "needs_background": "light"
          }
        }
      ]
    },
    {
      "cell_type": "code",
      "source": [
        "# distribuição dos scores\n",
        "sns.displot(data=pd_dados, x='score', kind='hist')"
      ],
      "metadata": {
        "id": "xZ0709s66yEw",
        "outputId": "0e4542b8-0ce3-454c-d29d-82f116bd86b8",
        "colab": {
          "base_uri": "https://localhost:8080/",
          "height": 71
        }
      },
      "execution_count": 6,
      "outputs": [
        {
          "output_type": "execute_result",
          "data": {
            "text/plain": [
              "<seaborn.axisgrid.FacetGrid at 0x7f9233ff5110>"
            ]
          },
          "metadata": {},
          "execution_count": 6
        },
        {
          "output_type": "display_data",
          "data": {
            "image/png": "[encoded data removed]",
            "text/plain": [
              "<Figure size 360x360 with 1 Axes>"
            ]
          },
          "metadata": {
            "needs_background": "light"
          }
        }
      ]
    },
    {
      "cell_type": "code",
      "source": [
        "# Taxa para lucro\n",
        "import matplotlib.pyplot as plt\n",
        "%matplotlib inline \n",
        "def valida_taxa (sF, f, m):\n",
        "  if sF==0 and f==0:\n",
        "    return m*0.1 # ganha 10%\n",
        "  elif sF==0 and f==1:\n",
        "    return -m # perde 100%\n",
        "  elif sF==1 and f==0:\n",
        "    return -(m*0.1) # deixou de ganhar 10%\n",
        "  else: # se for fraude e capturar \n",
        "    return 0 \n",
        "fraude = pd_dados['fraude']\n",
        "pd_dados['saldoF'] = pd_dados[['fraude', 'monto']].apply(lambda x: x['monto']*0.1 if x['fraude']==0 else 0, axis=1)\n",
        "cortes = range(0,100)\n",
        "valor = []\n",
        "for p in cortes:\n",
        "  pd_dados['scoreF'] = pd_dados['score'].apply(lambda x: 0 if x<p else 1)\n",
        "  saldo = pd_dados[['scoreF', 'fraude', 'monto']].apply(lambda x: valida_taxa(x['scoreF'], x['fraude'], x['monto']), axis=1).sum()\n",
        "  valor.append(saldo)\n",
        "def plot_corte_valor (A, B, ini, fim):\n",
        "  plt.figure(figsize=(16,8))\n",
        "  plt.plot(A[ini:fim], B[ini:fim], 'bx-')\n",
        "  plt.xlabel('Corte')\n",
        "  plt.ylabel('Saldo')\n",
        "  plt.title('Ponto de corte para score e valor de ganho/custo (saldo)')\n",
        "  plt.show()"
      ],
      "metadata": {
        "id": "CJtjrSOQ8rIG"
      },
      "execution_count": 7,
      "outputs": []
    },
    {
      "cell_type": "code",
      "source": [
        "print (f\"Saldo ótimo: {pd_dados['saldoF'].sum()}\")"
      ],
      "metadata": {
        "id": "b24K_7AdKd4S",
        "outputId": "574939d0-90a6-4eac-aa59-b0327ab5497a",
        "colab": {
          "base_uri": "https://localhost:8080/"
        }
      },
      "execution_count": 8,
      "outputs": [
        {
          "output_type": "stream",
          "name": "stdout",
          "text": [
            "Saldo ótimo: 598119.9\n"
          ]
        }
      ]
    },
    {
      "cell_type": "code",
      "source": [
        "# Corte de maior valor\n",
        "cMax = valor.index(max(valor))\n",
        "print (f\"Corte {cMax} para saldo de {max(valor)} (% do ótimo {max(valor)/pd_dados['saldoF'].sum()}\")"
      ],
      "metadata": {
        "id": "SvGavbLrPPk8",
        "outputId": "a380fb53-ea78-4b4a-e4ec-ac269c1899a3",
        "colab": {
          "base_uri": "https://localhost:8080/"
        }
      },
      "execution_count": 9,
      "outputs": [
        {
          "output_type": "stream",
          "name": "stdout",
          "text": [
            "Corte 86 para saldo de 151522.51200000002 (% do ótimo 0.2533313337342563\n"
          ]
        }
      ]
    },
    {
      "cell_type": "code",
      "source": [
        "plot_corte_valor(cortes, valor, 0, 100)"
      ],
      "metadata": {
        "id": "ZaZ_Z5-JArrj",
        "outputId": "eacede4b-49ef-4406-c004-d69db11e46f4",
        "colab": {
          "base_uri": "https://localhost:8080/",
          "height": 54
        }
      },
      "execution_count": 10,
      "outputs": [
        {
          "output_type": "display_data",
          "data": {
            "image/png": "[encoded data removed]",
            "text/plain": [
              "<Figure size 1152x576 with 1 Axes>"
            ]
          },
          "metadata": {
            "needs_background": "light"
          }
        }
      ]
    },
    {
      "cell_type": "code",
      "source": [
        "plot_corte_valor(cortes, valor, 80, 100)"
      ],
      "metadata": {
        "id": "_uDLvhnS-y5k",
        "outputId": "df9318eb-4716-456d-dce4-7a824d49c9b8",
        "colab": {
          "base_uri": "https://localhost:8080/",
          "height": 54
        }
      },
      "execution_count": 11,
      "outputs": [
        {
          "output_type": "display_data",
          "data": {
            "image/png": "[encoded data removed]",
            "text/plain": [
              "<Figure size 1152x576 with 1 Axes>"
            ]
          },
          "metadata": {
            "needs_background": "light"
          }
        }
      ]
    },
    {
      "cell_type": "code",
      "source": [
        "# PuLP - vhttps://github.com/ggarciabas/brad_eficiencia/blob/master/pulp_agencia.ipynb"
      ],
      "metadata": {
        "id": "A-NUqBffTH2c"
      },
      "execution_count": 12,
      "outputs": []
    },
    {
      "cell_type": "code",
      "source": [
        "# Relatórios para corte de valor máximo de saldo\n",
        "cMaxPred = pd_dados['score'].apply(lambda x: 0 if x<cMax else 1)\n",
        "print (confusion_matrix(cMaxPred, fraude, labels=[1,0]))\n",
        "print(classification_report(cMaxPred, fraude, labels=[1,0]))"
      ],
      "metadata": {
        "id": "YmqymSvetwxv",
        "outputId": "76634cfe-502d-44ca-f78d-dc683022189e",
        "colab": {
          "base_uri": "https://localhost:8080/"
        }
      },
      "execution_count": 13,
      "outputs": [
        {
          "output_type": "stream",
          "name": "stdout",
          "text": [
            "[[  3677  15117]\n",
            " [  3823 127383]]\n",
            "              precision    recall  f1-score   support\n",
            "\n",
            "           1       0.49      0.20      0.28     18794\n",
            "           0       0.89      0.97      0.93    131206\n",
            "\n",
            "    accuracy                           0.87    150000\n",
            "   macro avg       0.69      0.58      0.61    150000\n",
            "weighted avg       0.84      0.87      0.85    150000\n",
            "\n"
          ]
        }
      ]
    },
    {
      "cell_type": "markdown",
      "source": [
        "## Análise dos dados"
      ],
      "metadata": {
        "id": "4hvnLuG9To2u"
      }
    },
    {
      "cell_type": "code",
      "source": [
        "pd_dados.count()"
      ],
      "metadata": {
        "id": "LqMPv6vgcAW-",
        "outputId": "89a493b6-bf10-4ea9-da5c-1f9ba20c1d85",
        "colab": {
          "base_uri": "https://localhost:8080/"
        }
      },
      "execution_count": 14,
      "outputs": [
        {
          "output_type": "execute_result",
          "data": {
            "text/plain": [
              "a         150000\n",
              "b         137016\n",
              "c         137016\n",
              "d         149635\n",
              "e         150000\n",
              "f         149989\n",
              "g         149806\n",
              "h         150000\n",
              "i         150000\n",
              "j         150000\n",
              "k         150000\n",
              "l         149989\n",
              "m         149635\n",
              "n         150000\n",
              "o          41143\n",
              "p         150000\n",
              "fecha     150000\n",
              "monto     150000\n",
              "score     150000\n",
              "fraude    150000\n",
              "saldoF    150000\n",
              "scoreF    150000\n",
              "dtype: int64"
            ]
          },
          "metadata": {},
          "execution_count": 14
        }
      ]
    },
    {
      "cell_type": "markdown",
      "source": [
        "### Total de transações por dia"
      ],
      "metadata": {
        "id": "KD7cTga1bRZn"
      }
    },
    {
      "cell_type": "code",
      "source": [
        "# Filtra data sem hora\n",
        "pd_dados['fecha_d'] = pd_dados['fecha'].apply(lambda x: x[:10])"
      ],
      "metadata": {
        "id": "9VROtBdyZLJ6"
      },
      "execution_count": 15,
      "outputs": []
    },
    {
      "cell_type": "code",
      "source": [
        "# Período de transações\n",
        "print(f\"{pd_dados['fecha_d'].min()} até {pd_dados['fecha_d'].max()}\")"
      ],
      "metadata": {
        "id": "nSmbci60ToYQ",
        "outputId": "0a31b0b4-5e8b-4e64-e50c-5cbaee7b77a8",
        "colab": {
          "base_uri": "https://localhost:8080/"
        }
      },
      "execution_count": 16,
      "outputs": [
        {
          "output_type": "stream",
          "name": "stdout",
          "text": [
            "2020-03-08 até 2020-04-21\n"
          ]
        }
      ]
    },
    {
      "cell_type": "code",
      "source": [
        "def plot_fraudes_data (start=None, end=None)->tuple:\n",
        "  pdf = pd_dados.copy()\n",
        "  if start != None:\n",
        "    pdf = pdf[(pdf['fecha_d']>=start)&(pdf['fecha_d']<=end)]\n",
        "  pdf = pdf[['fecha_d', 'fraude','a']].groupby(['fecha_d', 'fraude']).count().reset_index()\n",
        "  pdf = pdf.pivot(index=\"fecha_d\", columns=[\"fraude\"], values=\"a\")\n",
        "  print (f\"Fraude {pdf[1].mean()} avg.\\tGenuine: {pdf[0].mean()} avg.\")\n",
        "  pdf.plot()\n",
        "  return pdf[1].sum(),pdf[0].sum()"
      ],
      "metadata": {
        "id": "VQ2-DB8kbWrv"
      },
      "execution_count": 17,
      "outputs": []
    },
    {
      "cell_type": "code",
      "source": [
        "fraude,genuine = plot_fraudes_data()\n",
        "print (f\"Fraude: {fraude} ({fraude/pd_dados.shape[0]})\\tGenuine: {genuine} ({genuine/pd_dados.shape[0]})\")"
      ],
      "metadata": {
        "id": "2-iq_JaSf5Us",
        "outputId": "2618f43e-fd5b-4f09-aab5-2e77792d1f34",
        "colab": {
          "base_uri": "https://localhost:8080/",
          "height": 88
        }
      },
      "execution_count": 18,
      "outputs": [
        {
          "output_type": "stream",
          "name": "stdout",
          "text": [
            "Fraude 166.66666666666666 avg.\tGenuine: 3166.6666666666665 avg.\n",
            "Fraude: 7500 (0.05)\tGenuine: 142500 (0.95)\n"
          ]
        },
        {
          "output_type": "display_data",
          "data": {
            "image/png": "[encoded data removed]",
            "text/plain": [
              "<Figure size 432x288 with 1 Axes>"
            ]
          },
          "metadata": {
            "needs_background": "light"
          }
        }
      ]
    },
    {
      "cell_type": "markdown",
      "source": [
        "## Tratamento das variáveis\n",
        "\n",
        "- Identificar transações que ocorreram:\n",
        "  - Durante o dia/Durante a noite\n",
        "  - Durante a semana/Nos finais de semana\n",
        "\n",
        "- Transformar coluna `p`` em numérica.\n",
        "\n",
        "- Identificar risco nas categorias de produto: \n",
        "  - contagem de trx por produtos em faixas de dias.\n",
        "  - média de fraudes em faixas de dias."
      ],
      "metadata": {
        "id": "NEH2cB2R8qeD"
      }
    },
    {
      "cell_type": "code",
      "source": [
        "import datetime"
      ],
      "metadata": {
        "id": "ghHxwyAPCH2-"
      },
      "execution_count": 19,
      "outputs": []
    },
    {
      "cell_type": "code",
      "source": [
        "pd_dados['fecha'] = pd.to_datetime(pd_dados['fecha'])"
      ],
      "metadata": {
        "id": "y0OL4IpEEw_J"
      },
      "execution_count": 20,
      "outputs": []
    },
    {
      "cell_type": "markdown",
      "source": [
        "### Final de semana / dias de semana"
      ],
      "metadata": {
        "id": "3JwZwNYSC3wS"
      }
    },
    {
      "cell_type": "code",
      "source": [
        "pd_dados['weekend'] = pd_dados['fecha'].apply(lambda x: 1 if x.weekday()>=5 else 0)"
      ],
      "metadata": {
        "id": "2wHznqfdCLZd"
      },
      "execution_count": 21,
      "outputs": []
    },
    {
      "cell_type": "code",
      "source": [
        "pdWek = pd_dados[['weekend', 'fraude', 'a']].groupby(['weekend','fraude']).count().reset_index().pivot(index=\"weekend\", columns=[\"fraude\"], values=\"a\").plot()"
      ],
      "metadata": {
        "id": "fNYqpvYxCyc7",
        "outputId": "0ce2de9c-e085-4932-9d44-99bf88f25c1b",
        "colab": {
          "base_uri": "https://localhost:8080/",
          "height": 54
        }
      },
      "execution_count": 22,
      "outputs": [
        {
          "output_type": "display_data",
          "data": {
            "image/png": "[encoded data removed]",
            "text/plain": [
              "<Figure size 432x288 with 1 Axes>"
            ]
          },
          "metadata": {
            "needs_background": "light"
          }
        }
      ]
    },
    {
      "cell_type": "markdown",
      "source": [
        "### Dia ou noite"
      ],
      "metadata": {
        "id": "f7toco7uET0H"
      }
    },
    {
      "cell_type": "code",
      "source": [
        "pd_dados['night'] = pd_dados['fecha'].apply(lambda x: 1 if x.hour<=6 else 0)"
      ],
      "metadata": {
        "id": "DR2GWUWFEV8P"
      },
      "execution_count": 23,
      "outputs": []
    },
    {
      "cell_type": "code",
      "source": [
        "pdWek = pd_dados[['night', 'fraude', 'a']].groupby(['night','fraude']).count().reset_index().pivot(index=\"night\", columns=[\"fraude\"], values=\"a\").plot()"
      ],
      "metadata": {
        "id": "KTAWMdVJ9BMI",
        "outputId": "a82daf1d-dd36-4752-e97c-a7e92d53c8d7",
        "colab": {
          "base_uri": "https://localhost:8080/",
          "height": 54
        }
      },
      "execution_count": 24,
      "outputs": [
        {
          "output_type": "display_data",
          "data": {
            "image/png": "[encoded data removed]",
            "text/plain": [
              "<Figure size 432x288 with 1 Axes>"
            ]
          },
          "metadata": {
            "needs_background": "light"
          }
        }
      ]
    },
    {
      "cell_type": "markdown",
      "source": [
        "### Risco para categorias"
      ],
      "metadata": {
        "id": "K6N_erErHwh7"
      }
    },
    {
      "cell_type": "code",
      "source": [
        "def calc_risk (pdf, delay=7, janelas=[1,7]):\n",
        "  \"\"\"\n",
        "    Calcula o risco de fraude por categorias de produtos\n",
        "    pdf: dataframe com filtro da categoria a ser avaliada\n",
        "    delay: prazo de identificação da fraude\n",
        "    janelas: janelas de análise, como temos poucos dados faremos de 1 em 1 dia e de 7 em 7\n",
        "  \"\"\"\n",
        "  pdf = pdf.sort_values('fecha')\n",
        "  pdf = pdf.set_index('fecha')\n",
        "  # quantidade de transações fraudulentas + contagem de transações --> no período de delay \n",
        "  fraudes = pdf['fraude'].rolling(f'{delay}d').sum()\n",
        "  trxS = pdf['fraude'].rolling(f'{delay}d').count()\n",
        "  for janela in janelas:\n",
        "    fraudeJ = pdf['fraude'].rolling(f'{delay+janela}d').sum() \n",
        "    trxJ = pdf['fraude'].rolling(f'{delay+janela}d').count() \n",
        "    riskJ=(fraudeJ-fraudes)/(trxJ-trxS)\n",
        "    pdf[f'cat_trx_{janela}'] = list((trxJ-trxS))\n",
        "    pdf[f'cat_risk_{janela}'] = list(riskJ)\n",
        "  pdf = pdf.reset_index()\n",
        "  return pdf"
      ],
      "metadata": {
        "id": "R3zHGFdjMN_2"
      },
      "execution_count": 25,
      "outputs": []
    },
    {
      "cell_type": "code",
      "source": [
        "pd_dados = pd_dados.groupby('j').apply(lambda x: calc_risk(x)).sort_values('fecha').reset_index(drop=True)"
      ],
      "metadata": {
        "id": "haCFlMm_INOX"
      },
      "execution_count": 26,
      "outputs": []
    },
    {
      "cell_type": "code",
      "source": [
        "pd_dados[:2]"
      ],
      "metadata": {
        "id": "Qx5wiKuzS3lz",
        "outputId": "2489870f-171d-4711-aa23-5a7a25d95c64",
        "colab": {
          "base_uri": "https://localhost:8080/",
          "height": 328
        }
      },
      "execution_count": 27,
      "outputs": [
        {
          "output_type": "execute_result",
          "data": {
            "text/html": [
              "\n",
              "  <div id=\"df-2fc77ac0-177e-4632-a168-507dda4450f2\">\n",
              "    <div class=\"colab-df-container\">\n",
              "      <div>\n",
              "<style scoped>\n",
              "    .dataframe tbody tr th:only-of-type {\n",
              "        vertical-align: middle;\n",
              "    }\n",
              "\n",
              "    .dataframe tbody tr th {\n",
              "        vertical-align: top;\n",
              "    }\n",
              "\n",
              "    .dataframe thead th {\n",
              "        text-align: right;\n",
              "    }\n",
              "</style>\n",
              "<table border=\"1\" class=\"dataframe\">\n",
              "  <thead>\n",
              "    <tr style=\"text-align: right;\">\n",
              "      <th></th>\n",
              "      <th>fecha</th>\n",
              "      <th>a</th>\n",
              "      <th>b</th>\n",
              "      <th>c</th>\n",
              "      <th>d</th>\n",
              "      <th>e</th>\n",
              "      <th>f</th>\n",
              "      <th>g</th>\n",
              "      <th>h</th>\n",
              "      <th>i</th>\n",
              "      <th>j</th>\n",
              "      <th>k</th>\n",
              "      <th>l</th>\n",
              "      <th>m</th>\n",
              "      <th>n</th>\n",
              "      <th>o</th>\n",
              "      <th>p</th>\n",
              "      <th>monto</th>\n",
              "      <th>score</th>\n",
              "      <th>fraude</th>\n",
              "      <th>saldoF</th>\n",
              "      <th>scoreF</th>\n",
              "      <th>fecha_d</th>\n",
              "      <th>weekend</th>\n",
              "      <th>night</th>\n",
              "      <th>cat_trx_1</th>\n",
              "      <th>cat_risk_1</th>\n",
              "      <th>cat_trx_7</th>\n",
              "      <th>cat_risk_7</th>\n",
              "    </tr>\n",
              "  </thead>\n",
              "  <tbody>\n",
              "    <tr>\n",
              "      <th>0</th>\n",
              "      <td>2020-03-08 00:02:15</td>\n",
              "      <td>4</td>\n",
              "      <td>0.7388</td>\n",
              "      <td>6314.50</td>\n",
              "      <td>14.0</td>\n",
              "      <td>0.139279</td>\n",
              "      <td>24.0</td>\n",
              "      <td>BR</td>\n",
              "      <td>7</td>\n",
              "      <td>Emagrecedor Natural E Eficiente Sem Sacrifícios</td>\n",
              "      <td>cat_381751d</td>\n",
              "      <td>0.937548</td>\n",
              "      <td>2361.0</td>\n",
              "      <td>442.0</td>\n",
              "      <td>1</td>\n",
              "      <td>NaN</td>\n",
              "      <td>Y</td>\n",
              "      <td>22.18</td>\n",
              "      <td>25</td>\n",
              "      <td>0</td>\n",
              "      <td>2.218</td>\n",
              "      <td>0</td>\n",
              "      <td>2020-03-08</td>\n",
              "      <td>1</td>\n",
              "      <td>1</td>\n",
              "      <td>0.0</td>\n",
              "      <td>NaN</td>\n",
              "      <td>0.0</td>\n",
              "      <td>NaN</td>\n",
              "    </tr>\n",
              "    <tr>\n",
              "      <th>1</th>\n",
              "      <td>2020-03-08 00:04:25</td>\n",
              "      <td>4</td>\n",
              "      <td>0.7548</td>\n",
              "      <td>21171.09</td>\n",
              "      <td>20.0</td>\n",
              "      <td>0.514815</td>\n",
              "      <td>7.0</td>\n",
              "      <td>BR</td>\n",
              "      <td>2</td>\n",
              "      <td>Lona Plastica Encerado 3x2 Azul Multiuso Imper...</td>\n",
              "      <td>cat_a024847</td>\n",
              "      <td>0.791998</td>\n",
              "      <td>2324.0</td>\n",
              "      <td>73.0</td>\n",
              "      <td>1</td>\n",
              "      <td>NaN</td>\n",
              "      <td>N</td>\n",
              "      <td>6.00</td>\n",
              "      <td>7</td>\n",
              "      <td>0</td>\n",
              "      <td>0.600</td>\n",
              "      <td>0</td>\n",
              "      <td>2020-03-08</td>\n",
              "      <td>1</td>\n",
              "      <td>1</td>\n",
              "      <td>0.0</td>\n",
              "      <td>NaN</td>\n",
              "      <td>0.0</td>\n",
              "      <td>NaN</td>\n",
              "    </tr>\n",
              "  </tbody>\n",
              "</table>\n",
              "</div>\n",
              "      <button class=\"colab-df-convert\" onclick=\"convertToInteractive('df-2fc77ac0-177e-4632-a168-507dda4450f2')\"\n",
              "              title=\"Convert this dataframe to an interactive table.\"\n",
              "              style=\"display:none;\">\n",
              "        \n",
              "  <svg xmlns=\"http://www.w3.org/2000/svg\" height=\"24px\"viewBox=\"0 0 24 24\"\n",
              "       width=\"24px\">\n",
              "    <path d=\"M0 0h24v24H0V0z\" fill=\"none\"/>\n",
              "    <path d=\"M18.56 5.44l.94 2.06.94-2.06 2.06-.94-2.06-.94-.94-2.06-.94 2.06-2.06.94zm-11 1L8.5 8.5l.94-2.06 2.06-.94-2.06-.94L8.5 2.5l-.94 2.06-2.06.94zm10 10l.94 2.06.94-2.06 2.06-.94-2.06-.94-.94-2.06-.94 2.06-2.06.94z\"/><path d=\"M17.41 7.96l-1.37-1.37c-.4-.4-.92-.59-1.43-.59-.52 0-1.04.2-1.43.59L10.3 9.45l-7.72 7.72c-.78.78-.78 2.05 0 2.83L4 21.41c.39.39.9.59 1.41.59.51 0 1.02-.2 1.41-.59l7.78-7.78 2.81-2.81c.8-.78.8-2.07 0-2.86zM5.41 20L4 18.59l7.72-7.72 1.47 1.35L5.41 20z\"/>\n",
              "  </svg>\n",
              "      </button>\n",
              "      \n",
              "  <style>\n",
              "    .colab-df-container {\n",
              "      display:flex;\n",
              "      flex-wrap:wrap;\n",
              "      gap: 12px;\n",
              "    }\n",
              "\n",
              "    .colab-df-convert {\n",
              "      background-color: #E8F0FE;\n",
              "      border: none;\n",
              "      border-radius: 50%;\n",
              "      cursor: pointer;\n",
              "      display: none;\n",
              "      fill: #1967D2;\n",
              "      height: 32px;\n",
              "      padding: 0 0 0 0;\n",
              "      width: 32px;\n",
              "    }\n",
              "\n",
              "    .colab-df-convert:hover {\n",
              "      background-color: #E2EBFA;\n",
              "      box-shadow: 0px 1px 2px rgba(60, 64, 67, 0.3), 0px 1px 3px 1px rgba(60, 64, 67, 0.15);\n",
              "      fill: #174EA6;\n",
              "    }\n",
              "\n",
              "    [theme=dark] .colab-df-convert {\n",
              "      background-color: #3B4455;\n",
              "      fill: #D2E3FC;\n",
              "    }\n",
              "\n",
              "    [theme=dark] .colab-df-convert:hover {\n",
              "      background-color: #434B5C;\n",
              "      box-shadow: 0px 1px 3px 1px rgba(0, 0, 0, 0.15);\n",
              "      filter: drop-shadow(0px 1px 2px rgba(0, 0, 0, 0.3));\n",
              "      fill: #FFFFFF;\n",
              "    }\n",
              "  </style>\n",
              "\n",
              "      <script>\n",
              "        const buttonEl =\n",
              "          document.querySelector('#df-2fc77ac0-177e-4632-a168-507dda4450f2 button.colab-df-convert');\n",
              "        buttonEl.style.display =\n",
              "          google.colab.kernel.accessAllowed ? 'block' : 'none';\n",
              "\n",
              "        async function convertToInteractive(key) {\n",
              "          const element = document.querySelector('#df-2fc77ac0-177e-4632-a168-507dda4450f2');\n",
              "          const dataTable =\n",
              "            await google.colab.kernel.invokeFunction('convertToInteractive',\n",
              "                                                     [key], {});\n",
              "          if (!dataTable) return;\n",
              "\n",
              "          const docLinkHtml = 'Like what you see? Visit the ' +\n",
              "            '<a target=\"_blank\" href=https://colab.research.google.com/notebooks/data_table.ipynb>data table notebook</a>'\n",
              "            + ' to learn more about interactive tables.';\n",
              "          element.innerHTML = '';\n",
              "          dataTable['output_type'] = 'display_data';\n",
              "          await google.colab.output.renderOutput(dataTable, element);\n",
              "          const docLink = document.createElement('div');\n",
              "          docLink.innerHTML = docLinkHtml;\n",
              "          element.appendChild(docLink);\n",
              "        }\n",
              "      </script>\n",
              "    </div>\n",
              "  </div>\n",
              "  "
            ],
            "text/plain": [
              "                fecha  a       b  ...  cat_risk_1  cat_trx_7  cat_risk_7\n",
              "0 2020-03-08 00:02:15  4  0.7388  ...         NaN        0.0         NaN\n",
              "1 2020-03-08 00:04:25  4  0.7548  ...         NaN        0.0         NaN\n",
              "\n",
              "[2 rows x 29 columns]"
            ]
          },
          "metadata": {},
          "execution_count": 27
        }
      ]
    },
    {
      "cell_type": "code",
      "source": [
        "pd_dados_N = pd_dados.fillna(0)"
      ],
      "metadata": {
        "id": "1NFRdtVUZI1C"
      },
      "execution_count": 28,
      "outputs": []
    },
    {
      "cell_type": "markdown",
      "source": [
        "### V-treat\n",
        "\n",
        "[Python V-treat](https://github.com/WinVector/pyvtreat)"
      ],
      "metadata": {
        "id": "RS1Z1r1OUF0h"
      }
    },
    {
      "cell_type": "code",
      "source": [
        "!pip install vtreat"
      ],
      "metadata": {
        "id": "YuOhIxbjUE0K",
        "outputId": "7c3f9774-b550-4e41-a959-9df138470e09",
        "colab": {
          "base_uri": "https://localhost:8080/"
        }
      },
      "execution_count": 67,
      "outputs": [
        {
          "output_type": "stream",
          "name": "stdout",
          "text": [
            "Requirement already satisfied: vtreat in /usr/local/lib/python3.7/dist-packages (1.1.0)\n",
            "Requirement already satisfied: scipy in /usr/local/lib/python3.7/dist-packages (from vtreat) (1.4.1)\n",
            "Requirement already satisfied: pandas in /usr/local/lib/python3.7/dist-packages (from vtreat) (1.1.5)\n",
            "Requirement already satisfied: numpy in /usr/local/lib/python3.7/dist-packages (from vtreat) (1.19.5)\n",
            "Requirement already satisfied: sklearn in /usr/local/lib/python3.7/dist-packages (from vtreat) (0.0)\n",
            "Requirement already satisfied: python-dateutil>=2.7.3 in /usr/local/lib/python3.7/dist-packages (from pandas->vtreat) (2.8.2)\n",
            "Requirement already satisfied: pytz>=2017.2 in /usr/local/lib/python3.7/dist-packages (from pandas->vtreat) (2018.9)\n",
            "Requirement already satisfied: six>=1.5 in /usr/local/lib/python3.7/dist-packages (from python-dateutil>=2.7.3->pandas->vtreat) (1.15.0)\n",
            "Requirement already satisfied: scikit-learn in /usr/local/lib/python3.7/dist-packages (from sklearn->vtreat) (1.0.1)\n",
            "Requirement already satisfied: threadpoolctl>=2.0.0 in /usr/local/lib/python3.7/dist-packages (from scikit-learn->sklearn->vtreat) (3.0.0)\n",
            "Requirement already satisfied: joblib>=0.11 in /usr/local/lib/python3.7/dist-packages (from scikit-learn->sklearn->vtreat) (1.1.0)\n"
          ]
        }
      ]
    },
    {
      "cell_type": "code",
      "source": [
        "import vtreat"
      ],
      "metadata": {
        "id": "YUWG9K07VZ-M"
      },
      "execution_count": 68,
      "outputs": []
    },
    {
      "cell_type": "code",
      "source": [
        "transform = vtreat.BinomialOutcomeTreatment(outcome_target=True)  "
      ],
      "metadata": {
        "id": "1yUD7rzKVR-M"
      },
      "execution_count": 69,
      "outputs": []
    },
    {
      "cell_type": "code",
      "source": [
        "cols = ['a', 'b', 'c', 'd', 'e', 'f', 'g', 'h', 'i', 'j', 'k', 'l',\n",
        "       'm', 'n', 'o', 'p', 'monto', 'fraude', 'weekend', 'night',\n",
        "       'cat_trx_1', 'cat_risk_1', 'cat_trx_7', 'cat_risk_7']"
      ],
      "metadata": {
        "id": "8yuaDEIlW3Yq"
      },
      "execution_count": 70,
      "outputs": []
    },
    {
      "cell_type": "code",
      "source": [
        "d_prepared = transform.fit_transform(pd_dados[cols], pd_dados['fraude'])"
      ],
      "metadata": {
        "id": "tR73KV4bVWli"
      },
      "execution_count": 71,
      "outputs": []
    },
    {
      "cell_type": "code",
      "source": [
        "d_prepared['fecha_d'] = pd_dados['fecha_d']"
      ],
      "metadata": {
        "id": "sUybFRgUdwDP"
      },
      "execution_count": 72,
      "outputs": []
    },
    {
      "cell_type": "code",
      "source": [
        "transform.score_frame_"
      ],
      "metadata": {
        "id": "CgGacTN_VYtV",
        "outputId": "64c4ccf4-8d97-430f-80cd-747e7f79715b",
        "colab": {
          "base_uri": "https://localhost:8080/",
          "height": 1000
        }
      },
      "execution_count": 73,
      "outputs": [
        {
          "output_type": "execute_result",
          "data": {
            "text/html": [
              "\n",
              "  <div id=\"df-a6b0bbba-9878-45ec-8bfd-a2a95ce1482c\">\n",
              "    <div class=\"colab-df-container\">\n",
              "      <div>\n",
              "<style scoped>\n",
              "    .dataframe tbody tr th:only-of-type {\n",
              "        vertical-align: middle;\n",
              "    }\n",
              "\n",
              "    .dataframe tbody tr th {\n",
              "        vertical-align: top;\n",
              "    }\n",
              "\n",
              "    .dataframe thead th {\n",
              "        text-align: right;\n",
              "    }\n",
              "</style>\n",
              "<table border=\"1\" class=\"dataframe\">\n",
              "  <thead>\n",
              "    <tr style=\"text-align: right;\">\n",
              "      <th></th>\n",
              "      <th>variable</th>\n",
              "      <th>orig_variable</th>\n",
              "      <th>treatment</th>\n",
              "      <th>y_aware</th>\n",
              "      <th>has_range</th>\n",
              "      <th>PearsonR</th>\n",
              "      <th>R2</th>\n",
              "      <th>significance</th>\n",
              "      <th>vcount</th>\n",
              "      <th>default_threshold</th>\n",
              "      <th>recommended</th>\n",
              "    </tr>\n",
              "  </thead>\n",
              "  <tbody>\n",
              "    <tr>\n",
              "      <th>0</th>\n",
              "      <td>cat_risk_1_is_bad</td>\n",
              "      <td>cat_risk_1</td>\n",
              "      <td>missing_indicator</td>\n",
              "      <td>False</td>\n",
              "      <td>True</td>\n",
              "      <td>-0.022220</td>\n",
              "      <td>1.257114e-03</td>\n",
              "      <td>0.000000e+00</td>\n",
              "      <td>10.0</td>\n",
              "      <td>0.020000</td>\n",
              "      <td>True</td>\n",
              "    </tr>\n",
              "    <tr>\n",
              "      <th>1</th>\n",
              "      <td>g_is_bad</td>\n",
              "      <td>g</td>\n",
              "      <td>missing_indicator</td>\n",
              "      <td>False</td>\n",
              "      <td>True</td>\n",
              "      <td>0.004511</td>\n",
              "      <td>4.425479e-05</td>\n",
              "      <td>1.044942e-01</td>\n",
              "      <td>10.0</td>\n",
              "      <td>0.020000</td>\n",
              "      <td>False</td>\n",
              "    </tr>\n",
              "    <tr>\n",
              "      <th>2</th>\n",
              "      <td>f_is_bad</td>\n",
              "      <td>f</td>\n",
              "      <td>missing_indicator</td>\n",
              "      <td>False</td>\n",
              "      <td>True</td>\n",
              "      <td>-0.001965</td>\n",
              "      <td>1.263239e-08</td>\n",
              "      <td>9.781181e-01</td>\n",
              "      <td>10.0</td>\n",
              "      <td>0.020000</td>\n",
              "      <td>False</td>\n",
              "    </tr>\n",
              "    <tr>\n",
              "      <th>3</th>\n",
              "      <td>o_is_bad</td>\n",
              "      <td>o</td>\n",
              "      <td>missing_indicator</td>\n",
              "      <td>False</td>\n",
              "      <td>True</td>\n",
              "      <td>-0.219796</td>\n",
              "      <td>1.054259e-01</td>\n",
              "      <td>0.000000e+00</td>\n",
              "      <td>10.0</td>\n",
              "      <td>0.020000</td>\n",
              "      <td>True</td>\n",
              "    </tr>\n",
              "    <tr>\n",
              "      <th>4</th>\n",
              "      <td>c_is_bad</td>\n",
              "      <td>c</td>\n",
              "      <td>missing_indicator</td>\n",
              "      <td>False</td>\n",
              "      <td>True</td>\n",
              "      <td>0.019559</td>\n",
              "      <td>8.964781e-04</td>\n",
              "      <td>2.735590e-13</td>\n",
              "      <td>10.0</td>\n",
              "      <td>0.020000</td>\n",
              "      <td>True</td>\n",
              "    </tr>\n",
              "    <tr>\n",
              "      <th>5</th>\n",
              "      <td>l_is_bad</td>\n",
              "      <td>l</td>\n",
              "      <td>missing_indicator</td>\n",
              "      <td>False</td>\n",
              "      <td>True</td>\n",
              "      <td>-0.001965</td>\n",
              "      <td>1.263239e-08</td>\n",
              "      <td>9.781181e-01</td>\n",
              "      <td>10.0</td>\n",
              "      <td>0.020000</td>\n",
              "      <td>False</td>\n",
              "    </tr>\n",
              "    <tr>\n",
              "      <th>6</th>\n",
              "      <td>cat_risk_7_is_bad</td>\n",
              "      <td>cat_risk_7</td>\n",
              "      <td>missing_indicator</td>\n",
              "      <td>False</td>\n",
              "      <td>True</td>\n",
              "      <td>-0.016433</td>\n",
              "      <td>6.991204e-04</td>\n",
              "      <td>1.099600e-10</td>\n",
              "      <td>10.0</td>\n",
              "      <td>0.020000</td>\n",
              "      <td>True</td>\n",
              "    </tr>\n",
              "    <tr>\n",
              "      <th>7</th>\n",
              "      <td>d_is_bad</td>\n",
              "      <td>d</td>\n",
              "      <td>missing_indicator</td>\n",
              "      <td>False</td>\n",
              "      <td>True</td>\n",
              "      <td>0.006674</td>\n",
              "      <td>9.595605e-05</td>\n",
              "      <td>1.682419e-02</td>\n",
              "      <td>10.0</td>\n",
              "      <td>0.020000</td>\n",
              "      <td>True</td>\n",
              "    </tr>\n",
              "    <tr>\n",
              "      <th>8</th>\n",
              "      <td>m_is_bad</td>\n",
              "      <td>m</td>\n",
              "      <td>missing_indicator</td>\n",
              "      <td>False</td>\n",
              "      <td>True</td>\n",
              "      <td>0.006674</td>\n",
              "      <td>9.595605e-05</td>\n",
              "      <td>1.682419e-02</td>\n",
              "      <td>10.0</td>\n",
              "      <td>0.020000</td>\n",
              "      <td>True</td>\n",
              "    </tr>\n",
              "    <tr>\n",
              "      <th>9</th>\n",
              "      <td>b_is_bad</td>\n",
              "      <td>b</td>\n",
              "      <td>missing_indicator</td>\n",
              "      <td>False</td>\n",
              "      <td>True</td>\n",
              "      <td>0.019559</td>\n",
              "      <td>8.964781e-04</td>\n",
              "      <td>2.735590e-13</td>\n",
              "      <td>10.0</td>\n",
              "      <td>0.020000</td>\n",
              "      <td>True</td>\n",
              "    </tr>\n",
              "    <tr>\n",
              "      <th>10</th>\n",
              "      <td>k</td>\n",
              "      <td>k</td>\n",
              "      <td>clean_copy</td>\n",
              "      <td>False</td>\n",
              "      <td>True</td>\n",
              "      <td>0.002395</td>\n",
              "      <td>1.444952e-05</td>\n",
              "      <td>3.535890e-01</td>\n",
              "      <td>19.0</td>\n",
              "      <td>0.010526</td>\n",
              "      <td>False</td>\n",
              "    </tr>\n",
              "    <tr>\n",
              "      <th>11</th>\n",
              "      <td>night</td>\n",
              "      <td>night</td>\n",
              "      <td>clean_copy</td>\n",
              "      <td>False</td>\n",
              "      <td>True</td>\n",
              "      <td>0.048839</td>\n",
              "      <td>4.887188e-03</td>\n",
              "      <td>0.000000e+00</td>\n",
              "      <td>19.0</td>\n",
              "      <td>0.010526</td>\n",
              "      <td>True</td>\n",
              "    </tr>\n",
              "    <tr>\n",
              "      <th>12</th>\n",
              "      <td>cat_risk_1</td>\n",
              "      <td>cat_risk_1</td>\n",
              "      <td>clean_copy</td>\n",
              "      <td>False</td>\n",
              "      <td>True</td>\n",
              "      <td>0.046515</td>\n",
              "      <td>4.140247e-03</td>\n",
              "      <td>0.000000e+00</td>\n",
              "      <td>19.0</td>\n",
              "      <td>0.010526</td>\n",
              "      <td>True</td>\n",
              "    </tr>\n",
              "    <tr>\n",
              "      <th>13</th>\n",
              "      <td>f</td>\n",
              "      <td>f</td>\n",
              "      <td>clean_copy</td>\n",
              "      <td>False</td>\n",
              "      <td>True</td>\n",
              "      <td>-0.010489</td>\n",
              "      <td>1.507371e-02</td>\n",
              "      <td>0.000000e+00</td>\n",
              "      <td>19.0</td>\n",
              "      <td>0.010526</td>\n",
              "      <td>True</td>\n",
              "    </tr>\n",
              "    <tr>\n",
              "      <th>14</th>\n",
              "      <td>weekend</td>\n",
              "      <td>weekend</td>\n",
              "      <td>clean_copy</td>\n",
              "      <td>False</td>\n",
              "      <td>True</td>\n",
              "      <td>-0.003868</td>\n",
              "      <td>3.794032e-05</td>\n",
              "      <td>1.327952e-01</td>\n",
              "      <td>19.0</td>\n",
              "      <td>0.010526</td>\n",
              "      <td>False</td>\n",
              "    </tr>\n",
              "    <tr>\n",
              "      <th>15</th>\n",
              "      <td>fraude</td>\n",
              "      <td>fraude</td>\n",
              "      <td>clean_copy</td>\n",
              "      <td>False</td>\n",
              "      <td>True</td>\n",
              "      <td>1.000000</td>\n",
              "      <td>9.999496e-01</td>\n",
              "      <td>0.000000e+00</td>\n",
              "      <td>19.0</td>\n",
              "      <td>0.010526</td>\n",
              "      <td>True</td>\n",
              "    </tr>\n",
              "    <tr>\n",
              "      <th>16</th>\n",
              "      <td>c</td>\n",
              "      <td>c</td>\n",
              "      <td>clean_copy</td>\n",
              "      <td>False</td>\n",
              "      <td>True</td>\n",
              "      <td>0.031360</td>\n",
              "      <td>-1.631737e+00</td>\n",
              "      <td>1.000000e+00</td>\n",
              "      <td>19.0</td>\n",
              "      <td>0.010526</td>\n",
              "      <td>False</td>\n",
              "    </tr>\n",
              "    <tr>\n",
              "      <th>17</th>\n",
              "      <td>monto</td>\n",
              "      <td>monto</td>\n",
              "      <td>clean_copy</td>\n",
              "      <td>False</td>\n",
              "      <td>True</td>\n",
              "      <td>0.073784</td>\n",
              "      <td>7.970924e-03</td>\n",
              "      <td>0.000000e+00</td>\n",
              "      <td>19.0</td>\n",
              "      <td>0.010526</td>\n",
              "      <td>True</td>\n",
              "    </tr>\n",
              "    <tr>\n",
              "      <th>18</th>\n",
              "      <td>cat_trx_1</td>\n",
              "      <td>cat_trx_1</td>\n",
              "      <td>clean_copy</td>\n",
              "      <td>False</td>\n",
              "      <td>True</td>\n",
              "      <td>0.038787</td>\n",
              "      <td>3.192357e-03</td>\n",
              "      <td>0.000000e+00</td>\n",
              "      <td>19.0</td>\n",
              "      <td>0.010526</td>\n",
              "      <td>True</td>\n",
              "    </tr>\n",
              "    <tr>\n",
              "      <th>19</th>\n",
              "      <td>l</td>\n",
              "      <td>l</td>\n",
              "      <td>clean_copy</td>\n",
              "      <td>False</td>\n",
              "      <td>True</td>\n",
              "      <td>-0.117023</td>\n",
              "      <td>4.021417e-02</td>\n",
              "      <td>0.000000e+00</td>\n",
              "      <td>19.0</td>\n",
              "      <td>0.010526</td>\n",
              "      <td>True</td>\n",
              "    </tr>\n",
              "    <tr>\n",
              "      <th>20</th>\n",
              "      <td>e</td>\n",
              "      <td>e</td>\n",
              "      <td>clean_copy</td>\n",
              "      <td>False</td>\n",
              "      <td>True</td>\n",
              "      <td>-0.002261</td>\n",
              "      <td>8.479714e-05</td>\n",
              "      <td>2.462512e-02</td>\n",
              "      <td>19.0</td>\n",
              "      <td>0.010526</td>\n",
              "      <td>False</td>\n",
              "    </tr>\n",
              "    <tr>\n",
              "      <th>21</th>\n",
              "      <td>cat_risk_7</td>\n",
              "      <td>cat_risk_7</td>\n",
              "      <td>clean_copy</td>\n",
              "      <td>False</td>\n",
              "      <td>True</td>\n",
              "      <td>0.073570</td>\n",
              "      <td>9.226974e-03</td>\n",
              "      <td>0.000000e+00</td>\n",
              "      <td>19.0</td>\n",
              "      <td>0.010526</td>\n",
              "      <td>True</td>\n",
              "    </tr>\n",
              "    <tr>\n",
              "      <th>22</th>\n",
              "      <td>a</td>\n",
              "      <td>a</td>\n",
              "      <td>clean_copy</td>\n",
              "      <td>False</td>\n",
              "      <td>True</td>\n",
              "      <td>-0.059681</td>\n",
              "      <td>7.663324e-03</td>\n",
              "      <td>0.000000e+00</td>\n",
              "      <td>19.0</td>\n",
              "      <td>0.010526</td>\n",
              "      <td>True</td>\n",
              "    </tr>\n",
              "    <tr>\n",
              "      <th>23</th>\n",
              "      <td>d</td>\n",
              "      <td>d</td>\n",
              "      <td>clean_copy</td>\n",
              "      <td>False</td>\n",
              "      <td>True</td>\n",
              "      <td>-0.077659</td>\n",
              "      <td>1.622952e-02</td>\n",
              "      <td>0.000000e+00</td>\n",
              "      <td>19.0</td>\n",
              "      <td>0.010526</td>\n",
              "      <td>True</td>\n",
              "    </tr>\n",
              "    <tr>\n",
              "      <th>24</th>\n",
              "      <td>cat_trx_7</td>\n",
              "      <td>cat_trx_7</td>\n",
              "      <td>clean_copy</td>\n",
              "      <td>False</td>\n",
              "      <td>True</td>\n",
              "      <td>0.041016</td>\n",
              "      <td>3.557687e-03</td>\n",
              "      <td>0.000000e+00</td>\n",
              "      <td>19.0</td>\n",
              "      <td>0.010526</td>\n",
              "      <td>True</td>\n",
              "    </tr>\n",
              "    <tr>\n",
              "      <th>25</th>\n",
              "      <td>m</td>\n",
              "      <td>m</td>\n",
              "      <td>clean_copy</td>\n",
              "      <td>False</td>\n",
              "      <td>True</td>\n",
              "      <td>-0.093260</td>\n",
              "      <td>2.760037e-02</td>\n",
              "      <td>0.000000e+00</td>\n",
              "      <td>19.0</td>\n",
              "      <td>0.010526</td>\n",
              "      <td>True</td>\n",
              "    </tr>\n",
              "    <tr>\n",
              "      <th>26</th>\n",
              "      <td>b</td>\n",
              "      <td>b</td>\n",
              "      <td>clean_copy</td>\n",
              "      <td>False</td>\n",
              "      <td>True</td>\n",
              "      <td>0.036730</td>\n",
              "      <td>3.713013e-03</td>\n",
              "      <td>0.000000e+00</td>\n",
              "      <td>19.0</td>\n",
              "      <td>0.010526</td>\n",
              "      <td>True</td>\n",
              "    </tr>\n",
              "    <tr>\n",
              "      <th>27</th>\n",
              "      <td>n</td>\n",
              "      <td>n</td>\n",
              "      <td>clean_copy</td>\n",
              "      <td>False</td>\n",
              "      <td>True</td>\n",
              "      <td>-0.167728</td>\n",
              "      <td>4.892842e-02</td>\n",
              "      <td>0.000000e+00</td>\n",
              "      <td>19.0</td>\n",
              "      <td>0.010526</td>\n",
              "      <td>True</td>\n",
              "    </tr>\n",
              "    <tr>\n",
              "      <th>28</th>\n",
              "      <td>h</td>\n",
              "      <td>h</td>\n",
              "      <td>clean_copy</td>\n",
              "      <td>False</td>\n",
              "      <td>True</td>\n",
              "      <td>-0.034864</td>\n",
              "      <td>3.261937e-03</td>\n",
              "      <td>0.000000e+00</td>\n",
              "      <td>19.0</td>\n",
              "      <td>0.010526</td>\n",
              "      <td>True</td>\n",
              "    </tr>\n",
              "    <tr>\n",
              "      <th>29</th>\n",
              "      <td>g_logit_code</td>\n",
              "      <td>g</td>\n",
              "      <td>logit_code</td>\n",
              "      <td>True</td>\n",
              "      <td>True</td>\n",
              "      <td>0.041496</td>\n",
              "      <td>5.757633e-03</td>\n",
              "      <td>0.000000e+00</td>\n",
              "      <td>5.0</td>\n",
              "      <td>0.040000</td>\n",
              "      <td>True</td>\n",
              "    </tr>\n",
              "    <tr>\n",
              "      <th>30</th>\n",
              "      <td>g_prevalence_code</td>\n",
              "      <td>g</td>\n",
              "      <td>prevalence_code</td>\n",
              "      <td>False</td>\n",
              "      <td>True</td>\n",
              "      <td>0.041731</td>\n",
              "      <td>4.758302e-03</td>\n",
              "      <td>0.000000e+00</td>\n",
              "      <td>5.0</td>\n",
              "      <td>0.040000</td>\n",
              "      <td>True</td>\n",
              "    </tr>\n",
              "    <tr>\n",
              "      <th>31</th>\n",
              "      <td>g_lev_BR</td>\n",
              "      <td>g</td>\n",
              "      <td>indicator_code</td>\n",
              "      <td>False</td>\n",
              "      <td>True</td>\n",
              "      <td>0.040704</td>\n",
              "      <td>4.491755e-03</td>\n",
              "      <td>0.000000e+00</td>\n",
              "      <td>7.0</td>\n",
              "      <td>0.028571</td>\n",
              "      <td>True</td>\n",
              "    </tr>\n",
              "    <tr>\n",
              "      <th>32</th>\n",
              "      <td>g_lev_AR</td>\n",
              "      <td>g</td>\n",
              "      <td>indicator_code</td>\n",
              "      <td>False</td>\n",
              "      <td>True</td>\n",
              "      <td>-0.031314</td>\n",
              "      <td>2.644528e-03</td>\n",
              "      <td>0.000000e+00</td>\n",
              "      <td>7.0</td>\n",
              "      <td>0.028571</td>\n",
              "      <td>True</td>\n",
              "    </tr>\n",
              "    <tr>\n",
              "      <th>33</th>\n",
              "      <td>p_logit_code</td>\n",
              "      <td>p</td>\n",
              "      <td>logit_code</td>\n",
              "      <td>True</td>\n",
              "      <td>True</td>\n",
              "      <td>0.106719</td>\n",
              "      <td>2.876419e-02</td>\n",
              "      <td>0.000000e+00</td>\n",
              "      <td>5.0</td>\n",
              "      <td>0.040000</td>\n",
              "      <td>True</td>\n",
              "    </tr>\n",
              "    <tr>\n",
              "      <th>34</th>\n",
              "      <td>p_prevalence_code</td>\n",
              "      <td>p</td>\n",
              "      <td>prevalence_code</td>\n",
              "      <td>False</td>\n",
              "      <td>True</td>\n",
              "      <td>-0.106800</td>\n",
              "      <td>2.880669e-02</td>\n",
              "      <td>0.000000e+00</td>\n",
              "      <td>5.0</td>\n",
              "      <td>0.040000</td>\n",
              "      <td>True</td>\n",
              "    </tr>\n",
              "    <tr>\n",
              "      <th>35</th>\n",
              "      <td>p_lev_Y</td>\n",
              "      <td>p</td>\n",
              "      <td>indicator_code</td>\n",
              "      <td>False</td>\n",
              "      <td>True</td>\n",
              "      <td>-0.106800</td>\n",
              "      <td>2.880669e-02</td>\n",
              "      <td>0.000000e+00</td>\n",
              "      <td>7.0</td>\n",
              "      <td>0.028571</td>\n",
              "      <td>True</td>\n",
              "    </tr>\n",
              "    <tr>\n",
              "      <th>36</th>\n",
              "      <td>p_lev_N</td>\n",
              "      <td>p</td>\n",
              "      <td>indicator_code</td>\n",
              "      <td>False</td>\n",
              "      <td>True</td>\n",
              "      <td>0.106800</td>\n",
              "      <td>2.880669e-02</td>\n",
              "      <td>0.000000e+00</td>\n",
              "      <td>7.0</td>\n",
              "      <td>0.028571</td>\n",
              "      <td>True</td>\n",
              "    </tr>\n",
              "    <tr>\n",
              "      <th>37</th>\n",
              "      <td>o_logit_code</td>\n",
              "      <td>o</td>\n",
              "      <td>logit_code</td>\n",
              "      <td>True</td>\n",
              "      <td>True</td>\n",
              "      <td>0.273421</td>\n",
              "      <td>1.401538e-01</td>\n",
              "      <td>0.000000e+00</td>\n",
              "      <td>5.0</td>\n",
              "      <td>0.040000</td>\n",
              "      <td>True</td>\n",
              "    </tr>\n",
              "    <tr>\n",
              "      <th>38</th>\n",
              "      <td>o_prevalence_code</td>\n",
              "      <td>o</td>\n",
              "      <td>prevalence_code</td>\n",
              "      <td>False</td>\n",
              "      <td>True</td>\n",
              "      <td>-0.227959</td>\n",
              "      <td>1.131020e-01</td>\n",
              "      <td>0.000000e+00</td>\n",
              "      <td>5.0</td>\n",
              "      <td>0.040000</td>\n",
              "      <td>True</td>\n",
              "    </tr>\n",
              "    <tr>\n",
              "      <th>39</th>\n",
              "      <td>o_lev__NA_</td>\n",
              "      <td>o</td>\n",
              "      <td>indicator_code</td>\n",
              "      <td>False</td>\n",
              "      <td>True</td>\n",
              "      <td>-0.219796</td>\n",
              "      <td>1.054259e-01</td>\n",
              "      <td>0.000000e+00</td>\n",
              "      <td>7.0</td>\n",
              "      <td>0.028571</td>\n",
              "      <td>True</td>\n",
              "    </tr>\n",
              "    <tr>\n",
              "      <th>40</th>\n",
              "      <td>o_lev_Y</td>\n",
              "      <td>o</td>\n",
              "      <td>indicator_code</td>\n",
              "      <td>False</td>\n",
              "      <td>True</td>\n",
              "      <td>0.029113</td>\n",
              "      <td>1.997137e-03</td>\n",
              "      <td>0.000000e+00</td>\n",
              "      <td>7.0</td>\n",
              "      <td>0.028571</td>\n",
              "      <td>True</td>\n",
              "    </tr>\n",
              "    <tr>\n",
              "      <th>41</th>\n",
              "      <td>o_lev_N</td>\n",
              "      <td>o</td>\n",
              "      <td>indicator_code</td>\n",
              "      <td>False</td>\n",
              "      <td>True</td>\n",
              "      <td>0.275260</td>\n",
              "      <td>1.217107e-01</td>\n",
              "      <td>0.000000e+00</td>\n",
              "      <td>7.0</td>\n",
              "      <td>0.028571</td>\n",
              "      <td>True</td>\n",
              "    </tr>\n",
              "    <tr>\n",
              "      <th>42</th>\n",
              "      <td>i_logit_code</td>\n",
              "      <td>i</td>\n",
              "      <td>logit_code</td>\n",
              "      <td>True</td>\n",
              "      <td>True</td>\n",
              "      <td>0.036390</td>\n",
              "      <td>3.981950e-03</td>\n",
              "      <td>0.000000e+00</td>\n",
              "      <td>5.0</td>\n",
              "      <td>0.040000</td>\n",
              "      <td>True</td>\n",
              "    </tr>\n",
              "    <tr>\n",
              "      <th>43</th>\n",
              "      <td>i_prevalence_code</td>\n",
              "      <td>i</td>\n",
              "      <td>prevalence_code</td>\n",
              "      <td>False</td>\n",
              "      <td>True</td>\n",
              "      <td>0.051144</td>\n",
              "      <td>-2.043032e-12</td>\n",
              "      <td>1.000000e+00</td>\n",
              "      <td>5.0</td>\n",
              "      <td>0.040000</td>\n",
              "      <td>False</td>\n",
              "    </tr>\n",
              "    <tr>\n",
              "      <th>44</th>\n",
              "      <td>j_logit_code</td>\n",
              "      <td>j</td>\n",
              "      <td>logit_code</td>\n",
              "      <td>True</td>\n",
              "      <td>True</td>\n",
              "      <td>0.088852</td>\n",
              "      <td>2.323473e-02</td>\n",
              "      <td>0.000000e+00</td>\n",
              "      <td>5.0</td>\n",
              "      <td>0.040000</td>\n",
              "      <td>True</td>\n",
              "    </tr>\n",
              "    <tr>\n",
              "      <th>45</th>\n",
              "      <td>j_prevalence_code</td>\n",
              "      <td>j</td>\n",
              "      <td>prevalence_code</td>\n",
              "      <td>False</td>\n",
              "      <td>True</td>\n",
              "      <td>0.048690</td>\n",
              "      <td>5.124219e-03</td>\n",
              "      <td>0.000000e+00</td>\n",
              "      <td>5.0</td>\n",
              "      <td>0.040000</td>\n",
              "      <td>True</td>\n",
              "    </tr>\n",
              "  </tbody>\n",
              "</table>\n",
              "</div>\n",
              "      <button class=\"colab-df-convert\" onclick=\"convertToInteractive('df-a6b0bbba-9878-45ec-8bfd-a2a95ce1482c')\"\n",
              "              title=\"Convert this dataframe to an interactive table.\"\n",
              "              style=\"display:none;\">\n",
              "        \n",
              "  <svg xmlns=\"http://www.w3.org/2000/svg\" height=\"24px\"viewBox=\"0 0 24 24\"\n",
              "       width=\"24px\">\n",
              "    <path d=\"M0 0h24v24H0V0z\" fill=\"none\"/>\n",
              "    <path d=\"M18.56 5.44l.94 2.06.94-2.06 2.06-.94-2.06-.94-.94-2.06-.94 2.06-2.06.94zm-11 1L8.5 8.5l.94-2.06 2.06-.94-2.06-.94L8.5 2.5l-.94 2.06-2.06.94zm10 10l.94 2.06.94-2.06 2.06-.94-2.06-.94-.94-2.06-.94 2.06-2.06.94z\"/><path d=\"M17.41 7.96l-1.37-1.37c-.4-.4-.92-.59-1.43-.59-.52 0-1.04.2-1.43.59L10.3 9.45l-7.72 7.72c-.78.78-.78 2.05 0 2.83L4 21.41c.39.39.9.59 1.41.59.51 0 1.02-.2 1.41-.59l7.78-7.78 2.81-2.81c.8-.78.8-2.07 0-2.86zM5.41 20L4 18.59l7.72-7.72 1.47 1.35L5.41 20z\"/>\n",
              "  </svg>\n",
              "      </button>\n",
              "      \n",
              "  <style>\n",
              "    .colab-df-container {\n",
              "      display:flex;\n",
              "      flex-wrap:wrap;\n",
              "      gap: 12px;\n",
              "    }\n",
              "\n",
              "    .colab-df-convert {\n",
              "      background-color: #E8F0FE;\n",
              "      border: none;\n",
              "      border-radius: 50%;\n",
              "      cursor: pointer;\n",
              "      display: none;\n",
              "      fill: #1967D2;\n",
              "      height: 32px;\n",
              "      padding: 0 0 0 0;\n",
              "      width: 32px;\n",
              "    }\n",
              "\n",
              "    .colab-df-convert:hover {\n",
              "      background-color: #E2EBFA;\n",
              "      box-shadow: 0px 1px 2px rgba(60, 64, 67, 0.3), 0px 1px 3px 1px rgba(60, 64, 67, 0.15);\n",
              "      fill: #174EA6;\n",
              "    }\n",
              "\n",
              "    [theme=dark] .colab-df-convert {\n",
              "      background-color: #3B4455;\n",
              "      fill: #D2E3FC;\n",
              "    }\n",
              "\n",
              "    [theme=dark] .colab-df-convert:hover {\n",
              "      background-color: #434B5C;\n",
              "      box-shadow: 0px 1px 3px 1px rgba(0, 0, 0, 0.15);\n",
              "      filter: drop-shadow(0px 1px 2px rgba(0, 0, 0, 0.3));\n",
              "      fill: #FFFFFF;\n",
              "    }\n",
              "  </style>\n",
              "\n",
              "      <script>\n",
              "        const buttonEl =\n",
              "          document.querySelector('#df-a6b0bbba-9878-45ec-8bfd-a2a95ce1482c button.colab-df-convert');\n",
              "        buttonEl.style.display =\n",
              "          google.colab.kernel.accessAllowed ? 'block' : 'none';\n",
              "\n",
              "        async function convertToInteractive(key) {\n",
              "          const element = document.querySelector('#df-a6b0bbba-9878-45ec-8bfd-a2a95ce1482c');\n",
              "          const dataTable =\n",
              "            await google.colab.kernel.invokeFunction('convertToInteractive',\n",
              "                                                     [key], {});\n",
              "          if (!dataTable) return;\n",
              "\n",
              "          const docLinkHtml = 'Like what you see? Visit the ' +\n",
              "            '<a target=\"_blank\" href=https://colab.research.google.com/notebooks/data_table.ipynb>data table notebook</a>'\n",
              "            + ' to learn more about interactive tables.';\n",
              "          element.innerHTML = '';\n",
              "          dataTable['output_type'] = 'display_data';\n",
              "          await google.colab.output.renderOutput(dataTable, element);\n",
              "          const docLink = document.createElement('div');\n",
              "          docLink.innerHTML = docLinkHtml;\n",
              "          element.appendChild(docLink);\n",
              "        }\n",
              "      </script>\n",
              "    </div>\n",
              "  </div>\n",
              "  "
            ],
            "text/plain": [
              "             variable orig_variable  ... default_threshold  recommended\n",
              "0   cat_risk_1_is_bad    cat_risk_1  ...          0.020000         True\n",
              "1            g_is_bad             g  ...          0.020000        False\n",
              "2            f_is_bad             f  ...          0.020000        False\n",
              "3            o_is_bad             o  ...          0.020000         True\n",
              "4            c_is_bad             c  ...          0.020000         True\n",
              "5            l_is_bad             l  ...          0.020000        False\n",
              "6   cat_risk_7_is_bad    cat_risk_7  ...          0.020000         True\n",
              "7            d_is_bad             d  ...          0.020000         True\n",
              "8            m_is_bad             m  ...          0.020000         True\n",
              "9            b_is_bad             b  ...          0.020000         True\n",
              "10                  k             k  ...          0.010526        False\n",
              "11              night         night  ...          0.010526         True\n",
              "12         cat_risk_1    cat_risk_1  ...          0.010526         True\n",
              "13                  f             f  ...          0.010526         True\n",
              "14            weekend       weekend  ...          0.010526        False\n",
              "15             fraude        fraude  ...          0.010526         True\n",
              "16                  c             c  ...          0.010526        False\n",
              "17              monto         monto  ...          0.010526         True\n",
              "18          cat_trx_1     cat_trx_1  ...          0.010526         True\n",
              "19                  l             l  ...          0.010526         True\n",
              "20                  e             e  ...          0.010526        False\n",
              "21         cat_risk_7    cat_risk_7  ...          0.010526         True\n",
              "22                  a             a  ...          0.010526         True\n",
              "23                  d             d  ...          0.010526         True\n",
              "24          cat_trx_7     cat_trx_7  ...          0.010526         True\n",
              "25                  m             m  ...          0.010526         True\n",
              "26                  b             b  ...          0.010526         True\n",
              "27                  n             n  ...          0.010526         True\n",
              "28                  h             h  ...          0.010526         True\n",
              "29       g_logit_code             g  ...          0.040000         True\n",
              "30  g_prevalence_code             g  ...          0.040000         True\n",
              "31           g_lev_BR             g  ...          0.028571         True\n",
              "32           g_lev_AR             g  ...          0.028571         True\n",
              "33       p_logit_code             p  ...          0.040000         True\n",
              "34  p_prevalence_code             p  ...          0.040000         True\n",
              "35            p_lev_Y             p  ...          0.028571         True\n",
              "36            p_lev_N             p  ...          0.028571         True\n",
              "37       o_logit_code             o  ...          0.040000         True\n",
              "38  o_prevalence_code             o  ...          0.040000         True\n",
              "39         o_lev__NA_             o  ...          0.028571         True\n",
              "40            o_lev_Y             o  ...          0.028571         True\n",
              "41            o_lev_N             o  ...          0.028571         True\n",
              "42       i_logit_code             i  ...          0.040000         True\n",
              "43  i_prevalence_code             i  ...          0.040000        False\n",
              "44       j_logit_code             j  ...          0.040000         True\n",
              "45  j_prevalence_code             j  ...          0.040000         True\n",
              "\n",
              "[46 rows x 11 columns]"
            ]
          },
          "metadata": {},
          "execution_count": 73
        }
      ]
    },
    {
      "cell_type": "code",
      "source": [
        "transform.score_frame_.loc[transform.score_frame_['recommended'], ['variable']]"
      ],
      "metadata": {
        "id": "xN6bFV6qWs6f",
        "outputId": "91ad70e8-dad3-410a-b3a7-34f8887509b0",
        "colab": {
          "base_uri": "https://localhost:8080/",
          "height": 1000
        }
      },
      "execution_count": 74,
      "outputs": [
        {
          "output_type": "execute_result",
          "data": {
            "text/html": [
              "\n",
              "  <div id=\"df-fd3364d9-087a-40ca-9c1c-f86fd7e92b64\">\n",
              "    <div class=\"colab-df-container\">\n",
              "      <div>\n",
              "<style scoped>\n",
              "    .dataframe tbody tr th:only-of-type {\n",
              "        vertical-align: middle;\n",
              "    }\n",
              "\n",
              "    .dataframe tbody tr th {\n",
              "        vertical-align: top;\n",
              "    }\n",
              "\n",
              "    .dataframe thead th {\n",
              "        text-align: right;\n",
              "    }\n",
              "</style>\n",
              "<table border=\"1\" class=\"dataframe\">\n",
              "  <thead>\n",
              "    <tr style=\"text-align: right;\">\n",
              "      <th></th>\n",
              "      <th>variable</th>\n",
              "    </tr>\n",
              "  </thead>\n",
              "  <tbody>\n",
              "    <tr>\n",
              "      <th>0</th>\n",
              "      <td>cat_risk_1_is_bad</td>\n",
              "    </tr>\n",
              "    <tr>\n",
              "      <th>3</th>\n",
              "      <td>o_is_bad</td>\n",
              "    </tr>\n",
              "    <tr>\n",
              "      <th>4</th>\n",
              "      <td>c_is_bad</td>\n",
              "    </tr>\n",
              "    <tr>\n",
              "      <th>6</th>\n",
              "      <td>cat_risk_7_is_bad</td>\n",
              "    </tr>\n",
              "    <tr>\n",
              "      <th>7</th>\n",
              "      <td>d_is_bad</td>\n",
              "    </tr>\n",
              "    <tr>\n",
              "      <th>8</th>\n",
              "      <td>m_is_bad</td>\n",
              "    </tr>\n",
              "    <tr>\n",
              "      <th>9</th>\n",
              "      <td>b_is_bad</td>\n",
              "    </tr>\n",
              "    <tr>\n",
              "      <th>11</th>\n",
              "      <td>night</td>\n",
              "    </tr>\n",
              "    <tr>\n",
              "      <th>12</th>\n",
              "      <td>cat_risk_1</td>\n",
              "    </tr>\n",
              "    <tr>\n",
              "      <th>13</th>\n",
              "      <td>f</td>\n",
              "    </tr>\n",
              "    <tr>\n",
              "      <th>15</th>\n",
              "      <td>fraude</td>\n",
              "    </tr>\n",
              "    <tr>\n",
              "      <th>17</th>\n",
              "      <td>monto</td>\n",
              "    </tr>\n",
              "    <tr>\n",
              "      <th>18</th>\n",
              "      <td>cat_trx_1</td>\n",
              "    </tr>\n",
              "    <tr>\n",
              "      <th>19</th>\n",
              "      <td>l</td>\n",
              "    </tr>\n",
              "    <tr>\n",
              "      <th>21</th>\n",
              "      <td>cat_risk_7</td>\n",
              "    </tr>\n",
              "    <tr>\n",
              "      <th>22</th>\n",
              "      <td>a</td>\n",
              "    </tr>\n",
              "    <tr>\n",
              "      <th>23</th>\n",
              "      <td>d</td>\n",
              "    </tr>\n",
              "    <tr>\n",
              "      <th>24</th>\n",
              "      <td>cat_trx_7</td>\n",
              "    </tr>\n",
              "    <tr>\n",
              "      <th>25</th>\n",
              "      <td>m</td>\n",
              "    </tr>\n",
              "    <tr>\n",
              "      <th>26</th>\n",
              "      <td>b</td>\n",
              "    </tr>\n",
              "    <tr>\n",
              "      <th>27</th>\n",
              "      <td>n</td>\n",
              "    </tr>\n",
              "    <tr>\n",
              "      <th>28</th>\n",
              "      <td>h</td>\n",
              "    </tr>\n",
              "    <tr>\n",
              "      <th>29</th>\n",
              "      <td>g_logit_code</td>\n",
              "    </tr>\n",
              "    <tr>\n",
              "      <th>30</th>\n",
              "      <td>g_prevalence_code</td>\n",
              "    </tr>\n",
              "    <tr>\n",
              "      <th>31</th>\n",
              "      <td>g_lev_BR</td>\n",
              "    </tr>\n",
              "    <tr>\n",
              "      <th>32</th>\n",
              "      <td>g_lev_AR</td>\n",
              "    </tr>\n",
              "    <tr>\n",
              "      <th>33</th>\n",
              "      <td>p_logit_code</td>\n",
              "    </tr>\n",
              "    <tr>\n",
              "      <th>34</th>\n",
              "      <td>p_prevalence_code</td>\n",
              "    </tr>\n",
              "    <tr>\n",
              "      <th>35</th>\n",
              "      <td>p_lev_Y</td>\n",
              "    </tr>\n",
              "    <tr>\n",
              "      <th>36</th>\n",
              "      <td>p_lev_N</td>\n",
              "    </tr>\n",
              "    <tr>\n",
              "      <th>37</th>\n",
              "      <td>o_logit_code</td>\n",
              "    </tr>\n",
              "    <tr>\n",
              "      <th>38</th>\n",
              "      <td>o_prevalence_code</td>\n",
              "    </tr>\n",
              "    <tr>\n",
              "      <th>39</th>\n",
              "      <td>o_lev__NA_</td>\n",
              "    </tr>\n",
              "    <tr>\n",
              "      <th>40</th>\n",
              "      <td>o_lev_Y</td>\n",
              "    </tr>\n",
              "    <tr>\n",
              "      <th>41</th>\n",
              "      <td>o_lev_N</td>\n",
              "    </tr>\n",
              "    <tr>\n",
              "      <th>42</th>\n",
              "      <td>i_logit_code</td>\n",
              "    </tr>\n",
              "    <tr>\n",
              "      <th>44</th>\n",
              "      <td>j_logit_code</td>\n",
              "    </tr>\n",
              "    <tr>\n",
              "      <th>45</th>\n",
              "      <td>j_prevalence_code</td>\n",
              "    </tr>\n",
              "  </tbody>\n",
              "</table>\n",
              "</div>\n",
              "      <button class=\"colab-df-convert\" onclick=\"convertToInteractive('df-fd3364d9-087a-40ca-9c1c-f86fd7e92b64')\"\n",
              "              title=\"Convert this dataframe to an interactive table.\"\n",
              "              style=\"display:none;\">\n",
              "        \n",
              "  <svg xmlns=\"http://www.w3.org/2000/svg\" height=\"24px\"viewBox=\"0 0 24 24\"\n",
              "       width=\"24px\">\n",
              "    <path d=\"M0 0h24v24H0V0z\" fill=\"none\"/>\n",
              "    <path d=\"M18.56 5.44l.94 2.06.94-2.06 2.06-.94-2.06-.94-.94-2.06-.94 2.06-2.06.94zm-11 1L8.5 8.5l.94-2.06 2.06-.94-2.06-.94L8.5 2.5l-.94 2.06-2.06.94zm10 10l.94 2.06.94-2.06 2.06-.94-2.06-.94-.94-2.06-.94 2.06-2.06.94z\"/><path d=\"M17.41 7.96l-1.37-1.37c-.4-.4-.92-.59-1.43-.59-.52 0-1.04.2-1.43.59L10.3 9.45l-7.72 7.72c-.78.78-.78 2.05 0 2.83L4 21.41c.39.39.9.59 1.41.59.51 0 1.02-.2 1.41-.59l7.78-7.78 2.81-2.81c.8-.78.8-2.07 0-2.86zM5.41 20L4 18.59l7.72-7.72 1.47 1.35L5.41 20z\"/>\n",
              "  </svg>\n",
              "      </button>\n",
              "      \n",
              "  <style>\n",
              "    .colab-df-container {\n",
              "      display:flex;\n",
              "      flex-wrap:wrap;\n",
              "      gap: 12px;\n",
              "    }\n",
              "\n",
              "    .colab-df-convert {\n",
              "      background-color: #E8F0FE;\n",
              "      border: none;\n",
              "      border-radius: 50%;\n",
              "      cursor: pointer;\n",
              "      display: none;\n",
              "      fill: #1967D2;\n",
              "      height: 32px;\n",
              "      padding: 0 0 0 0;\n",
              "      width: 32px;\n",
              "    }\n",
              "\n",
              "    .colab-df-convert:hover {\n",
              "      background-color: #E2EBFA;\n",
              "      box-shadow: 0px 1px 2px rgba(60, 64, 67, 0.3), 0px 1px 3px 1px rgba(60, 64, 67, 0.15);\n",
              "      fill: #174EA6;\n",
              "    }\n",
              "\n",
              "    [theme=dark] .colab-df-convert {\n",
              "      background-color: #3B4455;\n",
              "      fill: #D2E3FC;\n",
              "    }\n",
              "\n",
              "    [theme=dark] .colab-df-convert:hover {\n",
              "      background-color: #434B5C;\n",
              "      box-shadow: 0px 1px 3px 1px rgba(0, 0, 0, 0.15);\n",
              "      filter: drop-shadow(0px 1px 2px rgba(0, 0, 0, 0.3));\n",
              "      fill: #FFFFFF;\n",
              "    }\n",
              "  </style>\n",
              "\n",
              "      <script>\n",
              "        const buttonEl =\n",
              "          document.querySelector('#df-fd3364d9-087a-40ca-9c1c-f86fd7e92b64 button.colab-df-convert');\n",
              "        buttonEl.style.display =\n",
              "          google.colab.kernel.accessAllowed ? 'block' : 'none';\n",
              "\n",
              "        async function convertToInteractive(key) {\n",
              "          const element = document.querySelector('#df-fd3364d9-087a-40ca-9c1c-f86fd7e92b64');\n",
              "          const dataTable =\n",
              "            await google.colab.kernel.invokeFunction('convertToInteractive',\n",
              "                                                     [key], {});\n",
              "          if (!dataTable) return;\n",
              "\n",
              "          const docLinkHtml = 'Like what you see? Visit the ' +\n",
              "            '<a target=\"_blank\" href=https://colab.research.google.com/notebooks/data_table.ipynb>data table notebook</a>'\n",
              "            + ' to learn more about interactive tables.';\n",
              "          element.innerHTML = '';\n",
              "          dataTable['output_type'] = 'display_data';\n",
              "          await google.colab.output.renderOutput(dataTable, element);\n",
              "          const docLink = document.createElement('div');\n",
              "          docLink.innerHTML = docLinkHtml;\n",
              "          element.appendChild(docLink);\n",
              "        }\n",
              "      </script>\n",
              "    </div>\n",
              "  </div>\n",
              "  "
            ],
            "text/plain": [
              "             variable\n",
              "0   cat_risk_1_is_bad\n",
              "3            o_is_bad\n",
              "4            c_is_bad\n",
              "6   cat_risk_7_is_bad\n",
              "7            d_is_bad\n",
              "8            m_is_bad\n",
              "9            b_is_bad\n",
              "11              night\n",
              "12         cat_risk_1\n",
              "13                  f\n",
              "15             fraude\n",
              "17              monto\n",
              "18          cat_trx_1\n",
              "19                  l\n",
              "21         cat_risk_7\n",
              "22                  a\n",
              "23                  d\n",
              "24          cat_trx_7\n",
              "25                  m\n",
              "26                  b\n",
              "27                  n\n",
              "28                  h\n",
              "29       g_logit_code\n",
              "30  g_prevalence_code\n",
              "31           g_lev_BR\n",
              "32           g_lev_AR\n",
              "33       p_logit_code\n",
              "34  p_prevalence_code\n",
              "35            p_lev_Y\n",
              "36            p_lev_N\n",
              "37       o_logit_code\n",
              "38  o_prevalence_code\n",
              "39         o_lev__NA_\n",
              "40            o_lev_Y\n",
              "41            o_lev_N\n",
              "42       i_logit_code\n",
              "44       j_logit_code\n",
              "45  j_prevalence_code"
            ]
          },
          "metadata": {},
          "execution_count": 74
        }
      ]
    },
    {
      "cell_type": "markdown",
      "source": [
        "##### Desempenho de variável"
      ],
      "metadata": {
        "id": "DgFyo-6bXqNl"
      }
    },
    {
      "cell_type": "code",
      "source": [
        "!pip install wvpy"
      ],
      "metadata": {
        "id": "su9mssRDXor1",
        "outputId": "fc6c33f2-5d03-4e2f-b066-167f41362dc9",
        "colab": {
          "base_uri": "https://localhost:8080/"
        }
      },
      "execution_count": 75,
      "outputs": [
        {
          "output_type": "stream",
          "name": "stdout",
          "text": [
            "Requirement already satisfied: wvpy in /usr/local/lib/python3.7/dist-packages (0.2.7)\n",
            "Requirement already satisfied: matplotlib in /usr/local/lib/python3.7/dist-packages (from wvpy) (3.2.2)\n",
            "Requirement already satisfied: numpy in /usr/local/lib/python3.7/dist-packages (from wvpy) (1.19.5)\n",
            "Requirement already satisfied: pandas in /usr/local/lib/python3.7/dist-packages (from wvpy) (1.1.5)\n",
            "Requirement already satisfied: sklearn in /usr/local/lib/python3.7/dist-packages (from wvpy) (0.0)\n",
            "Requirement already satisfied: vtreat>=1.0.0 in /usr/local/lib/python3.7/dist-packages (from wvpy) (1.1.0)\n",
            "Requirement already satisfied: data-algebra>=0.9.0 in /usr/local/lib/python3.7/dist-packages (from wvpy) (1.1.0)\n",
            "Requirement already satisfied: lark in /usr/local/lib/python3.7/dist-packages (from data-algebra>=0.9.0->wvpy) (1.0.0)\n",
            "Requirement already satisfied: scipy in /usr/local/lib/python3.7/dist-packages (from vtreat>=1.0.0->wvpy) (1.4.1)\n",
            "Requirement already satisfied: python-dateutil>=2.1 in /usr/local/lib/python3.7/dist-packages (from matplotlib->wvpy) (2.8.2)\n",
            "Requirement already satisfied: cycler>=0.10 in /usr/local/lib/python3.7/dist-packages (from matplotlib->wvpy) (0.11.0)\n",
            "Requirement already satisfied: kiwisolver>=1.0.1 in /usr/local/lib/python3.7/dist-packages (from matplotlib->wvpy) (1.3.2)\n",
            "Requirement already satisfied: pyparsing!=2.0.4,!=2.1.2,!=2.1.6,>=2.0.1 in /usr/local/lib/python3.7/dist-packages (from matplotlib->wvpy) (3.0.6)\n",
            "Requirement already satisfied: six>=1.5 in /usr/local/lib/python3.7/dist-packages (from python-dateutil>=2.1->matplotlib->wvpy) (1.15.0)\n",
            "Requirement already satisfied: pytz>=2017.2 in /usr/local/lib/python3.7/dist-packages (from pandas->wvpy) (2018.9)\n",
            "Requirement already satisfied: scikit-learn in /usr/local/lib/python3.7/dist-packages (from sklearn->wvpy) (1.0.1)\n",
            "Requirement already satisfied: threadpoolctl>=2.0.0 in /usr/local/lib/python3.7/dist-packages (from scikit-learn->sklearn->wvpy) (3.0.0)\n",
            "Requirement already satisfied: joblib>=0.11 in /usr/local/lib/python3.7/dist-packages (from scikit-learn->sklearn->wvpy) (1.1.0)\n"
          ]
        }
      ]
    },
    {
      "cell_type": "code",
      "source": [
        "import wvpy.util"
      ],
      "metadata": {
        "id": "97PhkVwtXf7u"
      },
      "execution_count": 76,
      "outputs": []
    },
    {
      "cell_type": "code",
      "source": [
        "wvpy.util.plot_roc(prediction=d_prepared['fecha_d_logit_code'], \n",
        "                   istrue=d_prepared['fraude'],\n",
        "                   title = 'performance of fecha_d_logit_code variable')"
      ],
      "metadata": {
        "id": "odqvcFApXjaT",
        "outputId": "8d797092-6913-4411-e43d-6b5b81fc6f65",
        "colab": {
          "base_uri": "https://localhost:8080/",
          "height": 562
        }
      },
      "execution_count": 77,
      "outputs": [
        {
          "output_type": "error",
          "ename": "KeyError",
          "evalue": "ignored",
          "traceback": [
            "\u001b[0;31m---------------------------------------------------------------------------\u001b[0m",
            "\u001b[0;31mKeyError\u001b[0m                                  Traceback (most recent call last)",
            "\u001b[0;32m/usr/local/lib/python3.7/dist-packages/pandas/core/indexes/base.py\u001b[0m in \u001b[0;36mget_loc\u001b[0;34m(self, key, method, tolerance)\u001b[0m\n\u001b[1;32m   2897\u001b[0m             \u001b[0;32mtry\u001b[0m\u001b[0;34m:\u001b[0m\u001b[0;34m\u001b[0m\u001b[0;34m\u001b[0m\u001b[0m\n\u001b[0;32m-> 2898\u001b[0;31m                 \u001b[0;32mreturn\u001b[0m \u001b[0mself\u001b[0m\u001b[0;34m.\u001b[0m\u001b[0m_engine\u001b[0m\u001b[0;34m.\u001b[0m\u001b[0mget_loc\u001b[0m\u001b[0;34m(\u001b[0m\u001b[0mcasted_key\u001b[0m\u001b[0;34m)\u001b[0m\u001b[0;34m\u001b[0m\u001b[0;34m\u001b[0m\u001b[0m\n\u001b[0m\u001b[1;32m   2899\u001b[0m             \u001b[0;32mexcept\u001b[0m \u001b[0mKeyError\u001b[0m \u001b[0;32mas\u001b[0m \u001b[0merr\u001b[0m\u001b[0;34m:\u001b[0m\u001b[0;34m\u001b[0m\u001b[0;34m\u001b[0m\u001b[0m\n",
            "\u001b[0;32mpandas/_libs/index.pyx\u001b[0m in \u001b[0;36mpandas._libs.index.IndexEngine.get_loc\u001b[0;34m()\u001b[0m\n",
            "\u001b[0;32mpandas/_libs/index.pyx\u001b[0m in \u001b[0;36mpandas._libs.index.IndexEngine.get_loc\u001b[0;34m()\u001b[0m\n",
            "\u001b[0;32mpandas/_libs/hashtable_class_helper.pxi\u001b[0m in \u001b[0;36mpandas._libs.hashtable.PyObjectHashTable.get_item\u001b[0;34m()\u001b[0m\n",
            "\u001b[0;32mpandas/_libs/hashtable_class_helper.pxi\u001b[0m in \u001b[0;36mpandas._libs.hashtable.PyObjectHashTable.get_item\u001b[0;34m()\u001b[0m\n",
            "\u001b[0;31mKeyError\u001b[0m: 'fecha_d_logit_code'",
            "\nThe above exception was the direct cause of the following exception:\n",
            "\u001b[0;31mKeyError\u001b[0m                                  Traceback (most recent call last)",
            "\u001b[0;32m<ipython-input-77-e721b5802dbd>\u001b[0m in \u001b[0;36m<module>\u001b[0;34m()\u001b[0m\n\u001b[0;32m----> 1\u001b[0;31m wvpy.util.plot_roc(prediction=d_prepared['fecha_d_logit_code'], \n\u001b[0m\u001b[1;32m      2\u001b[0m                    \u001b[0mistrue\u001b[0m\u001b[0;34m=\u001b[0m\u001b[0md_prepared\u001b[0m\u001b[0;34m[\u001b[0m\u001b[0;34m'fraude'\u001b[0m\u001b[0;34m]\u001b[0m\u001b[0;34m,\u001b[0m\u001b[0;34m\u001b[0m\u001b[0;34m\u001b[0m\u001b[0m\n\u001b[1;32m      3\u001b[0m                    title = 'performance of fecha_d_logit_code variable')\n",
            "\u001b[0;32m/usr/local/lib/python3.7/dist-packages/pandas/core/frame.py\u001b[0m in \u001b[0;36m__getitem__\u001b[0;34m(self, key)\u001b[0m\n\u001b[1;32m   2904\u001b[0m             \u001b[0;32mif\u001b[0m \u001b[0mself\u001b[0m\u001b[0;34m.\u001b[0m\u001b[0mcolumns\u001b[0m\u001b[0;34m.\u001b[0m\u001b[0mnlevels\u001b[0m \u001b[0;34m>\u001b[0m \u001b[0;36m1\u001b[0m\u001b[0;34m:\u001b[0m\u001b[0;34m\u001b[0m\u001b[0;34m\u001b[0m\u001b[0m\n\u001b[1;32m   2905\u001b[0m                 \u001b[0;32mreturn\u001b[0m \u001b[0mself\u001b[0m\u001b[0;34m.\u001b[0m\u001b[0m_getitem_multilevel\u001b[0m\u001b[0;34m(\u001b[0m\u001b[0mkey\u001b[0m\u001b[0;34m)\u001b[0m\u001b[0;34m\u001b[0m\u001b[0;34m\u001b[0m\u001b[0m\n\u001b[0;32m-> 2906\u001b[0;31m             \u001b[0mindexer\u001b[0m \u001b[0;34m=\u001b[0m \u001b[0mself\u001b[0m\u001b[0;34m.\u001b[0m\u001b[0mcolumns\u001b[0m\u001b[0;34m.\u001b[0m\u001b[0mget_loc\u001b[0m\u001b[0;34m(\u001b[0m\u001b[0mkey\u001b[0m\u001b[0;34m)\u001b[0m\u001b[0;34m\u001b[0m\u001b[0;34m\u001b[0m\u001b[0m\n\u001b[0m\u001b[1;32m   2907\u001b[0m             \u001b[0;32mif\u001b[0m \u001b[0mis_integer\u001b[0m\u001b[0;34m(\u001b[0m\u001b[0mindexer\u001b[0m\u001b[0;34m)\u001b[0m\u001b[0;34m:\u001b[0m\u001b[0;34m\u001b[0m\u001b[0;34m\u001b[0m\u001b[0m\n\u001b[1;32m   2908\u001b[0m                 \u001b[0mindexer\u001b[0m \u001b[0;34m=\u001b[0m \u001b[0;34m[\u001b[0m\u001b[0mindexer\u001b[0m\u001b[0;34m]\u001b[0m\u001b[0;34m\u001b[0m\u001b[0;34m\u001b[0m\u001b[0m\n",
            "\u001b[0;32m/usr/local/lib/python3.7/dist-packages/pandas/core/indexes/base.py\u001b[0m in \u001b[0;36mget_loc\u001b[0;34m(self, key, method, tolerance)\u001b[0m\n\u001b[1;32m   2898\u001b[0m                 \u001b[0;32mreturn\u001b[0m \u001b[0mself\u001b[0m\u001b[0;34m.\u001b[0m\u001b[0m_engine\u001b[0m\u001b[0;34m.\u001b[0m\u001b[0mget_loc\u001b[0m\u001b[0;34m(\u001b[0m\u001b[0mcasted_key\u001b[0m\u001b[0;34m)\u001b[0m\u001b[0;34m\u001b[0m\u001b[0;34m\u001b[0m\u001b[0m\n\u001b[1;32m   2899\u001b[0m             \u001b[0;32mexcept\u001b[0m \u001b[0mKeyError\u001b[0m \u001b[0;32mas\u001b[0m \u001b[0merr\u001b[0m\u001b[0;34m:\u001b[0m\u001b[0;34m\u001b[0m\u001b[0;34m\u001b[0m\u001b[0m\n\u001b[0;32m-> 2900\u001b[0;31m                 \u001b[0;32mraise\u001b[0m \u001b[0mKeyError\u001b[0m\u001b[0;34m(\u001b[0m\u001b[0mkey\u001b[0m\u001b[0;34m)\u001b[0m \u001b[0;32mfrom\u001b[0m \u001b[0merr\u001b[0m\u001b[0;34m\u001b[0m\u001b[0;34m\u001b[0m\u001b[0m\n\u001b[0m\u001b[1;32m   2901\u001b[0m \u001b[0;34m\u001b[0m\u001b[0m\n\u001b[1;32m   2902\u001b[0m         \u001b[0;32mif\u001b[0m \u001b[0mtolerance\u001b[0m \u001b[0;32mis\u001b[0m \u001b[0;32mnot\u001b[0m \u001b[0;32mNone\u001b[0m\u001b[0;34m:\u001b[0m\u001b[0;34m\u001b[0m\u001b[0;34m\u001b[0m\u001b[0m\n",
            "\u001b[0;31mKeyError\u001b[0m: 'fecha_d_logit_code'"
          ]
        }
      ]
    },
    {
      "cell_type": "markdown",
      "source": [
        "## Modelagem\n",
        "\n",
        "Problemas:\n",
        "\n",
        "- Balanceamento das classes: 5% de fraude (típico 1%)\n",
        "- Mudança de comportamento ao longo do tempo\n",
        "- Resposta rápida, NRT, abaixo de 10ms.\n",
        "- Variáveis categóricas: necessidade de tratamento destas variáveis, `feature aggregation`, `feature embeddings`, etc.\n",
        "- Problema de sequência de eventos: clientes apresentam comportamentos parecidos ao longo do tempo, assim, existe a necessidade de se identificar casos anormais. Pode-se agregar variáveis ao longo do tempo ou usar modelos sequenciais.\n",
        "- Sobreposição de classes: variáveis parecidas ou sobrepostas que compreendem classes distintas. Necessidade de um trabalho reforçado na etapa de `feature engineering`.\n",
        "- Métricas de desempenho: por conta de bases desbalanceadas, métodos convencionais não são suficientes para avaliar fraudes. Necessidade de se considerar os custos envolvidos numa fraude. "
      ],
      "metadata": {
        "id": "-_fK3GRwiG0s"
      }
    },
    {
      "cell_type": "code",
      "source": [
        "import sklearn\n",
        "import graphviz\n",
        "import xgboost"
      ],
      "metadata": {
        "id": "dNns7siIb_PJ"
      },
      "execution_count": 104,
      "outputs": []
    },
    {
      "cell_type": "code",
      "source": [
        "d_prepared.columns"
      ],
      "metadata": {
        "id": "OO4RBrTtdf_o",
        "outputId": "6a566fc0-de4e-4476-f916-e1c8c4cf6c61",
        "colab": {
          "base_uri": "https://localhost:8080/"
        }
      },
      "execution_count": 78,
      "outputs": [
        {
          "output_type": "execute_result",
          "data": {
            "text/plain": [
              "Index(['cat_risk_1_is_bad', 'o_is_bad', 'c_is_bad', 'cat_risk_7_is_bad',\n",
              "       'd_is_bad', 'm_is_bad', 'b_is_bad', 'night', 'cat_risk_1', 'f',\n",
              "       'fraude', 'monto', 'cat_trx_1', 'l', 'cat_risk_7', 'a', 'd',\n",
              "       'cat_trx_7', 'm', 'b', 'n', 'h', 'g_logit_code', 'g_prevalence_code',\n",
              "       'g_lev_BR', 'g_lev_AR', 'p_logit_code', 'p_prevalence_code', 'p_lev_Y',\n",
              "       'p_lev_N', 'o_logit_code', 'o_prevalence_code', 'o_lev__NA_', 'o_lev_Y',\n",
              "       'o_lev_N', 'i_logit_code', 'j_logit_code', 'j_prevalence_code',\n",
              "       'fecha_d'],\n",
              "      dtype='object')"
            ]
          },
          "metadata": {},
          "execution_count": 78
        }
      ]
    },
    {
      "cell_type": "code",
      "source": [
        "features = ['cat_risk_1_is_bad', 'o_is_bad', 'c_is_bad', 'cat_risk_7_is_bad',\n",
        "            'd_is_bad', 'm_is_bad', 'b_is_bad', 'night', 'cat_risk_1', 'f',\n",
        "            'monto', 'cat_trx_1', 'l', 'cat_risk_7', 'a', 'd',\n",
        "            'cat_trx_7', 'm', 'b', 'n', 'h', 'g_logit_code', 'g_prevalence_code',\n",
        "            'g_lev_BR', 'g_lev_AR', 'p_logit_code', 'p_prevalence_code', 'p_lev_Y',\n",
        "            'p_lev_N', 'o_logit_code', 'o_prevalence_code', 'o_lev__NA_', 'o_lev_Y',\n",
        "            'o_lev_N', 'i_logit_code', 'j_logit_code', 'j_prevalence_code']\n",
        "target = ['fraude']\n",
        "cols = features+target+['fecha_d']"
      ],
      "metadata": {
        "id": "rwnc6YfXYJ-p"
      },
      "execution_count": 80,
      "outputs": []
    },
    {
      "cell_type": "markdown",
      "source": [
        "### Período de `2020-03-08` à `2020-03-29`\n",
        "\n",
        "- 1 semana para teste\n",
        "- 1 semana de delay\n",
        "- 1 semana para treino\n",
        "\n",
        "[Credit Card Fraud Detection: A Realistic Modeling and a Novel Learning Strategy](https://ieeexplore.ieee.org/stamp/stamp.jsp?tp=&arnumber=80380080)"
      ],
      "metadata": {
        "id": "fPq3iKLuiJgr"
      }
    },
    {
      "cell_type": "markdown",
      "source": [
        "#### Distribuição ao longo do período\n",
        "\n",
        "> Particular care must be taken in practice when splitting the dataset into training and validation sets, due to the sequential nature of credit card transactions, and the delay in fraud reporting.[3]"
      ],
      "metadata": {
        "id": "JV3QWkczuKvw"
      }
    },
    {
      "cell_type": "code",
      "source": [
        "# Treino\n",
        "dataTrain1 = {'start':'2020-03-08', 'end':'2020-03-14'}\n",
        "pdfTrain1 = d_prepared[cols].copy()\n",
        "pdfTrain1 = pdfTrain1[(pdfTrain1['fecha_d']>=dataTrain1['start'])\n",
        "                      &(pdfTrain1['fecha_d']<=dataTrain1['end'])]\n",
        "print (pdfTrain1.shape)\n",
        "fraude,genuine = plot_fraudes_data(dataTrain1['start'], dataTrain1['end'])\n",
        "print (f\"Fraude: {fraude} ({fraude/pdfTrain1.shape[0]})\\tGenuine: {genuine} ({genuine/pdfTrain1.shape[0]})\")"
      ],
      "metadata": {
        "id": "x9WHgObIgEKD",
        "outputId": "8cc41163-40aa-4563-8938-14c07caa8802",
        "colab": {
          "base_uri": "https://localhost:8080/",
          "height": 331
        }
      },
      "execution_count": 94,
      "outputs": [
        {
          "output_type": "stream",
          "name": "stdout",
          "text": [
            "(24591, 39)\n",
            "Fraude 169.85714285714286 avg.\tGenuine: 3343.1428571428573 avg.\n",
            "Fraude: 1189 (0.04835102273189378)\tGenuine: 23402 (0.9516489772681063)\n"
          ]
        },
        {
          "output_type": "display_data",
          "data": {
            "image/png": "[encoded data removed]",
            "text/plain": [
              "<Figure size 432x288 with 1 Axes>"
            ]
          },
          "metadata": {
            "needs_background": "light"
          }
        }
      ]
    },
    {
      "cell_type": "code",
      "source": [
        "# Delay\n",
        "dataDelay1 = {'start':'2020-03-15', 'end':'2020-03-21'}\n",
        "plot_fraudes_data(dataDelay1['start'], dataDelay1['end'])"
      ],
      "metadata": {
        "id": "l94voWRnkJSG",
        "outputId": "b643b66b-3b1a-4987-a9a2-d4f9dc66f91a",
        "colab": {
          "base_uri": "https://localhost:8080/",
          "height": 314
        }
      },
      "execution_count": 95,
      "outputs": [
        {
          "output_type": "stream",
          "name": "stdout",
          "text": [
            "Fraude 162.42857142857142 avg.\tGenuine: 3429.0 avg.\n"
          ]
        },
        {
          "output_type": "execute_result",
          "data": {
            "text/plain": [
              "(1137, 24003)"
            ]
          },
          "metadata": {},
          "execution_count": 95
        },
        {
          "output_type": "display_data",
          "data": {
            "image/png": "[encoded data removed]",
            "text/plain": [
              "<Figure size 432x288 with 1 Axes>"
            ]
          },
          "metadata": {
            "needs_background": "light"
          }
        }
      ]
    },
    {
      "cell_type": "code",
      "source": [
        "# Teste\n",
        "dataTest1 = {'start':'2020-03-22', 'end':'2020-03-28'}\n",
        "pdfTest1 = d_prepared[cols].copy()\n",
        "pdfTest1 = pdfTest1[(pdfTest1['fecha_d']>=dataTest1['start'])\n",
        "                      &(pdfTest1['fecha_d']<=dataTest1['end'])]\n",
        "print (pdfTest1.shape)\n",
        "fraude,genuine = plot_fraudes_data(dataTest1['start'], dataTest1['end'])\n",
        "print (f\"Fraude: {fraude} ({fraude/pdfTest1.shape[0]})\\tGenuine: {genuine} ({genuine/pdfTest1.shape[0]})\")"
      ],
      "metadata": {
        "id": "Klh8c2mag9U1",
        "outputId": "51544b14-d85f-43a6-87f6-72d57a2583f2",
        "colab": {
          "base_uri": "https://localhost:8080/",
          "height": 331
        }
      },
      "execution_count": 96,
      "outputs": [
        {
          "output_type": "stream",
          "name": "stdout",
          "text": [
            "(20935, 39)\n",
            "Fraude 163.42857142857142 avg.\tGenuine: 2827.285714285714 avg.\n",
            "Fraude: 1144 (0.054645330785765465)\tGenuine: 19791 (0.9453546692142345)\n"
          ]
        },
        {
          "output_type": "display_data",
          "data": {
            "image/png": "[encoded data removed]",
            "text/plain": [
              "<Figure size 432x288 with 1 Axes>"
            ]
          },
          "metadata": {
            "needs_background": "light"
          }
        }
      ]
    },
    {
      "cell_type": "markdown",
      "source": [
        "### Testando modelos"
      ],
      "metadata": {
        "id": "Ko-4ZaZekV8f"
      }
    },
    {
      "cell_type": "code",
      "source": [
        "modelos = {'Logistic regression': {'modelo':sklearn.linear_model.LogisticRegression(random_state=42)},\n",
        "            'Decision tree baseline': {'modelo': sklearn.tree.DecisionTreeClassifier(max_depth=2,random_state=42)},\n",
        "            'Decision tree - auto depth': {'modelo':sklearn.tree.DecisionTreeClassifier(random_state=42)}, \n",
        "            #'Random forest': {'modelo':sklearn.ensemble.RandomForestClassifier(random_state=42,n_jobs=-1)},\n",
        "            'XGBoost': {'modelo':xgboost.XGBClassifier(random_state=42,n_jobs=-1)}\n",
        "          }"
      ],
      "metadata": {
        "id": "KIT6HrufkYdL"
      },
      "execution_count": 107,
      "outputs": []
    },
    {
      "cell_type": "markdown",
      "source": [
        "### Decision Tree\n",
        "\n",
        "Baseline"
      ],
      "metadata": {
        "id": "6humOi5Ze4BL"
      }
    },
    {
      "cell_type": "code",
      "source": [
        "from sklearn.tree import DecisionTreeClassifier\n",
        "\n",
        "classifier = DecisionTreeClassifier(max_depth = 2, random_state=0)\n",
        "classifier.fit(pdfTrain1[features], pdfTrain1[target])\n",
        "predictions_train=classifier.predict_proba(pdfTrain1[features])[:,1]\n",
        "predictions_test=classifier.predict_proba(pdfTest1[features])[:,1]\n",
        "display(graphviz.Source(sklearn.tree.export_graphviz(classifier,feature_names=features,class_names=True, filled=True)))\n"
      ],
      "metadata": {
        "id": "OmyqVucze-WZ",
        "outputId": "53deaf80-3273-4acc-de82-0b9b8288baef",
        "colab": {
          "base_uri": "https://localhost:8080/",
          "height": 440
        }
      },
      "execution_count": 101,
      "outputs": [
        {
          "output_type": "display_data",
          "data": {
            "text/plain": [
              "<graphviz.files.Source at 0x7f922acf72d0>"
            ],
            "image/svg+xml": "<?xml version=\"1.0\" encoding=\"UTF-8\" standalone=\"no\"?>\n<!DOCTYPE svg PUBLIC \"-//W3C//DTD SVG 1.1//EN\"\n \"http://www.w3.org/Graphics/SVG/1.1/DTD/svg11.dtd\">\n<!-- Generated by graphviz version 2.40.1 (20161225.0304)\n -->\n<!-- Title: Tree Pages: 1 -->\n<svg width=\"603pt\" height=\"314pt\"\n viewBox=\"0.00 0.00 602.50 314.00\" xmlns=\"http://www.w3.org/2000/svg\" xmlns:xlink=\"http://www.w3.org/1999/xlink\">\n<g id=\"graph0\" class=\"graph\" transform=\"scale(1 1) rotate(0) translate(4 310)\">\n<title>Tree</title>\n<polygon fill=\"#ffffff\" stroke=\"transparent\" points=\"-4,4 -4,-310 598.5,-310 598.5,4 -4,4\"/>\n<!-- 0 -->\n<g id=\"node1\" class=\"node\">\n<title>0</title>\n<polygon fill=\"#e68743\" stroke=\"#000000\" points=\"384,-306 223,-306 223,-223 384,-223 384,-306\"/>\n<text text-anchor=\"middle\" x=\"303.5\" y=\"-290.8\" font-family=\"Helvetica,sans-Serif\" font-size=\"14.00\" fill=\"#000000\">o_logit_code &lt;= 0.852</text>\n<text text-anchor=\"middle\" x=\"303.5\" y=\"-275.8\" font-family=\"Helvetica,sans-Serif\" font-size=\"14.00\" fill=\"#000000\">gini = 0.092</text>\n<text text-anchor=\"middle\" x=\"303.5\" y=\"-260.8\" font-family=\"Helvetica,sans-Serif\" font-size=\"14.00\" fill=\"#000000\">samples = 24591</text>\n<text text-anchor=\"middle\" x=\"303.5\" y=\"-245.8\" font-family=\"Helvetica,sans-Serif\" font-size=\"14.00\" fill=\"#000000\">value = [23402, 1189]</text>\n<text text-anchor=\"middle\" x=\"303.5\" y=\"-230.8\" font-family=\"Helvetica,sans-Serif\" font-size=\"14.00\" fill=\"#000000\">class = y[0]</text>\n</g>\n<!-- 1 -->\n<g id=\"node2\" class=\"node\">\n<title>1</title>\n<polygon fill=\"#e6853f\" stroke=\"#000000\" points=\"293,-187 144,-187 144,-104 293,-104 293,-187\"/>\n<text text-anchor=\"middle\" x=\"218.5\" y=\"-171.8\" font-family=\"Helvetica,sans-Serif\" font-size=\"14.00\" fill=\"#000000\">i_logit_code &lt;= 1.6</text>\n<text text-anchor=\"middle\" x=\"218.5\" y=\"-156.8\" font-family=\"Helvetica,sans-Serif\" font-size=\"14.00\" fill=\"#000000\">gini = 0.056</text>\n<text text-anchor=\"middle\" x=\"218.5\" y=\"-141.8\" font-family=\"Helvetica,sans-Serif\" font-size=\"14.00\" fill=\"#000000\">samples = 21877</text>\n<text text-anchor=\"middle\" x=\"218.5\" y=\"-126.8\" font-family=\"Helvetica,sans-Serif\" font-size=\"14.00\" fill=\"#000000\">value = [21251, 626]</text>\n<text text-anchor=\"middle\" x=\"218.5\" y=\"-111.8\" font-family=\"Helvetica,sans-Serif\" font-size=\"14.00\" fill=\"#000000\">class = y[0]</text>\n</g>\n<!-- 0&#45;&gt;1 -->\n<g id=\"edge1\" class=\"edge\">\n<title>0&#45;&gt;1</title>\n<path fill=\"none\" stroke=\"#000000\" d=\"M273.7711,-222.8796C267.4667,-214.0534 260.749,-204.6485 254.2476,-195.5466\"/>\n<polygon fill=\"#000000\" stroke=\"#000000\" points=\"257.0163,-193.4011 248.3558,-187.2981 251.3201,-197.4698 257.0163,-193.4011\"/>\n<text text-anchor=\"middle\" x=\"244.2458\" y=\"-208.2579\" font-family=\"Helvetica,sans-Serif\" font-size=\"14.00\" fill=\"#000000\">True</text>\n</g>\n<!-- 4 -->\n<g id=\"node5\" class=\"node\">\n<title>4</title>\n<polygon fill=\"#eca26d\" stroke=\"#000000\" points=\"466,-187 311,-187 311,-104 466,-104 466,-187\"/>\n<text text-anchor=\"middle\" x=\"388.5\" y=\"-171.8\" font-family=\"Helvetica,sans-Serif\" font-size=\"14.00\" fill=\"#000000\">j_logit_code &lt;= 1.014</text>\n<text text-anchor=\"middle\" x=\"388.5\" y=\"-156.8\" font-family=\"Helvetica,sans-Serif\" font-size=\"14.00\" fill=\"#000000\">gini = 0.329</text>\n<text text-anchor=\"middle\" x=\"388.5\" y=\"-141.8\" font-family=\"Helvetica,sans-Serif\" font-size=\"14.00\" fill=\"#000000\">samples = 2714</text>\n<text text-anchor=\"middle\" x=\"388.5\" y=\"-126.8\" font-family=\"Helvetica,sans-Serif\" font-size=\"14.00\" fill=\"#000000\">value = [2151, 563]</text>\n<text text-anchor=\"middle\" x=\"388.5\" y=\"-111.8\" font-family=\"Helvetica,sans-Serif\" font-size=\"14.00\" fill=\"#000000\">class = y[0]</text>\n</g>\n<!-- 0&#45;&gt;4 -->\n<g id=\"edge4\" class=\"edge\">\n<title>0&#45;&gt;4</title>\n<path fill=\"none\" stroke=\"#000000\" d=\"M333.2289,-222.8796C339.5333,-214.0534 346.251,-204.6485 352.7524,-195.5466\"/>\n<polygon fill=\"#000000\" stroke=\"#000000\" points=\"355.6799,-197.4698 358.6442,-187.2981 349.9837,-193.4011 355.6799,-197.4698\"/>\n<text text-anchor=\"middle\" x=\"362.7542\" y=\"-208.2579\" font-family=\"Helvetica,sans-Serif\" font-size=\"14.00\" fill=\"#000000\">False</text>\n</g>\n<!-- 2 -->\n<g id=\"node3\" class=\"node\">\n<title>2</title>\n<polygon fill=\"#e6853f\" stroke=\"#000000\" points=\"149,-68 0,-68 0,0 149,0 149,-68\"/>\n<text text-anchor=\"middle\" x=\"74.5\" y=\"-52.8\" font-family=\"Helvetica,sans-Serif\" font-size=\"14.00\" fill=\"#000000\">gini = 0.053</text>\n<text text-anchor=\"middle\" x=\"74.5\" y=\"-37.8\" font-family=\"Helvetica,sans-Serif\" font-size=\"14.00\" fill=\"#000000\">samples = 21837</text>\n<text text-anchor=\"middle\" x=\"74.5\" y=\"-22.8\" font-family=\"Helvetica,sans-Serif\" font-size=\"14.00\" fill=\"#000000\">value = [21237, 600]</text>\n<text text-anchor=\"middle\" x=\"74.5\" y=\"-7.8\" font-family=\"Helvetica,sans-Serif\" font-size=\"14.00\" fill=\"#000000\">class = y[0]</text>\n</g>\n<!-- 1&#45;&gt;2 -->\n<g id=\"edge2\" class=\"edge\">\n<title>1&#45;&gt;2</title>\n<path fill=\"none\" stroke=\"#000000\" d=\"M164.8797,-103.9815C152.4167,-94.3313 139.1662,-84.0714 126.7627,-74.4673\"/>\n<polygon fill=\"#000000\" stroke=\"#000000\" points=\"128.8005,-71.6186 118.7508,-68.2637 124.5149,-77.1534 128.8005,-71.6186\"/>\n</g>\n<!-- 3 -->\n<g id=\"node4\" class=\"node\">\n<title>3</title>\n<polygon fill=\"#a4d2f3\" stroke=\"#000000\" points=\"282.5,-68 166.5,-68 166.5,0 282.5,0 282.5,-68\"/>\n<text text-anchor=\"middle\" x=\"224.5\" y=\"-52.8\" font-family=\"Helvetica,sans-Serif\" font-size=\"14.00\" fill=\"#000000\">gini = 0.455</text>\n<text text-anchor=\"middle\" x=\"224.5\" y=\"-37.8\" font-family=\"Helvetica,sans-Serif\" font-size=\"14.00\" fill=\"#000000\">samples = 40</text>\n<text text-anchor=\"middle\" x=\"224.5\" y=\"-22.8\" font-family=\"Helvetica,sans-Serif\" font-size=\"14.00\" fill=\"#000000\">value = [14, 26]</text>\n<text text-anchor=\"middle\" x=\"224.5\" y=\"-7.8\" font-family=\"Helvetica,sans-Serif\" font-size=\"14.00\" fill=\"#000000\">class = y[1]</text>\n</g>\n<!-- 1&#45;&gt;3 -->\n<g id=\"edge3\" class=\"edge\">\n<title>1&#45;&gt;3</title>\n<path fill=\"none\" stroke=\"#000000\" d=\"M220.7342,-103.9815C221.1842,-95.618 221.6589,-86.7965 222.1139,-78.3409\"/>\n<polygon fill=\"#000000\" stroke=\"#000000\" points=\"225.6137,-78.4373 222.6562,-68.2637 218.6238,-78.0611 225.6137,-78.4373\"/>\n</g>\n<!-- 5 -->\n<g id=\"node6\" class=\"node\">\n<title>5</title>\n<polygon fill=\"#eb9d65\" stroke=\"#000000\" points=\"452.5,-68 312.5,-68 312.5,0 452.5,0 452.5,-68\"/>\n<text text-anchor=\"middle\" x=\"382.5\" y=\"-52.8\" font-family=\"Helvetica,sans-Serif\" font-size=\"14.00\" fill=\"#000000\">gini = 0.296</text>\n<text text-anchor=\"middle\" x=\"382.5\" y=\"-37.8\" font-family=\"Helvetica,sans-Serif\" font-size=\"14.00\" fill=\"#000000\">samples = 2544</text>\n<text text-anchor=\"middle\" x=\"382.5\" y=\"-22.8\" font-family=\"Helvetica,sans-Serif\" font-size=\"14.00\" fill=\"#000000\">value = [2085, 459]</text>\n<text text-anchor=\"middle\" x=\"382.5\" y=\"-7.8\" font-family=\"Helvetica,sans-Serif\" font-size=\"14.00\" fill=\"#000000\">class = y[0]</text>\n</g>\n<!-- 4&#45;&gt;5 -->\n<g id=\"edge5\" class=\"edge\">\n<title>4&#45;&gt;5</title>\n<path fill=\"none\" stroke=\"#000000\" d=\"M386.2658,-103.9815C385.8158,-95.618 385.3411,-86.7965 384.8861,-78.3409\"/>\n<polygon fill=\"#000000\" stroke=\"#000000\" points=\"388.3762,-78.0611 384.3438,-68.2637 381.3863,-78.4373 388.3762,-78.0611\"/>\n</g>\n<!-- 6 -->\n<g id=\"node7\" class=\"node\">\n<title>6</title>\n<polygon fill=\"#b7dbf6\" stroke=\"#000000\" points=\"594.5,-68 470.5,-68 470.5,0 594.5,0 594.5,-68\"/>\n<text text-anchor=\"middle\" x=\"532.5\" y=\"-52.8\" font-family=\"Helvetica,sans-Serif\" font-size=\"14.00\" fill=\"#000000\">gini = 0.475</text>\n<text text-anchor=\"middle\" x=\"532.5\" y=\"-37.8\" font-family=\"Helvetica,sans-Serif\" font-size=\"14.00\" fill=\"#000000\">samples = 170</text>\n<text text-anchor=\"middle\" x=\"532.5\" y=\"-22.8\" font-family=\"Helvetica,sans-Serif\" font-size=\"14.00\" fill=\"#000000\">value = [66, 104]</text>\n<text text-anchor=\"middle\" x=\"532.5\" y=\"-7.8\" font-family=\"Helvetica,sans-Serif\" font-size=\"14.00\" fill=\"#000000\">class = y[1]</text>\n</g>\n<!-- 4&#45;&gt;6 -->\n<g id=\"edge6\" class=\"edge\">\n<title>4&#45;&gt;6</title>\n<path fill=\"none\" stroke=\"#000000\" d=\"M442.1203,-103.9815C454.5833,-94.3313 467.8338,-84.0714 480.2373,-74.4673\"/>\n<polygon fill=\"#000000\" stroke=\"#000000\" points=\"482.4851,-77.1534 488.2492,-68.2637 478.1995,-71.6186 482.4851,-77.1534\"/>\n</g>\n</g>\n</svg>\n"
          },
          "metadata": {}
        }
      ]
    },
    {
      "cell_type": "markdown",
      "source": [
        "#### Feature Engineering\n",
        "\n",
        "- `feature transformation`, `feature extraction` or `data preprocessing`.\n",
        "\n",
        "> The zero/one loss function is a standard loss function for binary classification problems. It is however not well suited for credit card fraud detection problems, due to the high-class imbalance (much more genuine than fraudulent transactions). Estimating the performance of a fraud detection system is a non-trivial issue. [3]"
      ],
      "metadata": {
        "id": "5cOQUctEuQqy"
      }
    },
    {
      "cell_type": "code",
      "source": [
        ""
      ],
      "metadata": {
        "id": "rI_CtTGilgWJ"
      },
      "execution_count": null,
      "outputs": []
    },
    {
      "cell_type": "markdown",
      "source": [
        "### Altera escala dos dados"
      ],
      "metadata": {
        "id": "laenPKfAbmx9"
      }
    },
    {
      "cell_type": "code",
      "source": [
        "scaler = sklearn.preprocessing.StandardScaler()\n",
        "scaler.fit(pdfTrain1[features])\n",
        "pdfTrain1[features]=scaler.transform(pdfTrain1[features])\n",
        "pdfTest1[features]=scaler.transform(pdfTest1[features])"
      ],
      "metadata": {
        "id": "dikMri68b82q"
      },
      "execution_count": 87,
      "outputs": []
    },
    {
      "cell_type": "markdown",
      "source": [
        "## References\n",
        "\n",
        "1. [Precision Vs. Recall — Evaluating Model Performance in Credit Card Fraud Detection](https://towardsdatascience.com/precision-vs-recall-evaluating-model-performance-in-credit-card-fraud-detection-bb24958b2723)\n",
        "1. [Rethinking the Right Metrics for Fraud Detection](https://medium.datadriveninvestor.com/rethinking-the-right-metrics-for-fraud-detection-4edfb629c423)\n",
        "1. [Fraud-Detection-Handbook](https://github.com/Fraud-Detection-Handbook)\n",
        "  > logistic regression (LR), decision trees (DT), Random forests (RF), Boosting, and Neural networks/Deep learning (NN/DL). LR and DT were chosen due to their simplicity and interpretability. RF and Boosting were chosen since they are currently considered to be state-of-the-art in terms of performance. NN/DL methods were chosen since they provide promising research directions.\n",
        "  "
      ],
      "metadata": {
        "id": "o2A_WEAp0S2o"
      }
    },
    {
      "cell_type": "code",
      "source": [
        ""
      ],
      "metadata": {
        "id": "sfHgUJdNVsd-"
      },
      "execution_count": null,
      "outputs": []
    }
  ]
}